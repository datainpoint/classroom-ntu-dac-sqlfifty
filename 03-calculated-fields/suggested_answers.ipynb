{
 "cells": [
  {
   "cell_type": "markdown",
   "metadata": {
    "deletable": false,
    "editable": false
   },
   "source": [
    "# SQL 的五十道練習\n",
    "\n",
    "> 衍生計算欄位\n",
    "\n",
    "郭耀仁 <yaojenkuo@datainpoint.com>，[數據交點](https://www.datainpoint.com)"
   ]
  },
  {
   "cell_type": "code",
   "execution_count": 1,
   "metadata": {
    "deletable": false,
    "editable": false
   },
   "outputs": [
    {
     "data": {
      "text/plain": [
       "<sqlite3.Cursor at 0x7fad30b7b650>"
      ]
     },
     "execution_count": 1,
     "metadata": {},
     "output_type": "execute_result"
    }
   ],
   "source": [
    "import sqlite3\n",
    "import unittest\n",
    "import numpy as np\n",
    "import pandas as pd\n",
    "conn = sqlite3.connect('../databases/nba.db')\n",
    "conn.execute(\"\"\"ATTACH '../databases/covid19.db' AS covid19\"\"\")\n",
    "conn.execute(\"\"\"ATTACH '../databases/twElection2020.db' AS twElection2020\"\"\")\n",
    "conn.execute(\"\"\"ATTACH '../databases/imdb.db' AS imdb\"\"\")"
   ]
  },
  {
   "cell_type": "markdown",
   "metadata": {},
   "source": [
    "## 從新冠肺炎每日報告資料表 `daily_report` 依據 `Confirmed`、`Recovered` 與 `Deaths` 衍生計算欄位 `Active`。\n",
    "\n",
    "\\begin{equation}\n",
    "\\text{Active} = \\text{Confirmed} - \\text{Recovered} - \\text{Deaths}\n",
    "\\end{equation}\n",
    "\n",
    "- 預期輸入：SQL 查詢語法。\n",
    "- 預期輸出：(3979, 4) 的查詢結果。\n",
    "\n",
    "```\n",
    "      Confirmed  Recovered  Deaths  Active\n",
    "0         55023      47679    2400    4944\n",
    "1         78127      47424    1380   29323\n",
    "2        107339      73344    2891   31104\n",
    "3          9937       9093     101     743\n",
    "4         19796      18035     466    1295\n",
    "...         ...        ...     ...     ...\n",
    "3974       1817       1457      35     325\n",
    "3975     158962     148993    1833    8136\n",
    "3976       2121       1426     615      80\n",
    "3977      54217      48000     763    5454\n",
    "3978      33388      26044    1217    6127\n",
    "\n",
    "[3979 rows x 4 columns]\n",
    "```"
   ]
  },
  {
   "cell_type": "code",
   "execution_count": 2,
   "metadata": {},
   "outputs": [],
   "source": [
    "calculate_active =\\\n",
    "\"\"\"\n",
    "-- SQL 查詢語法起點\n",
    "SELECT Confirmed,\n",
    "       Recovered,\n",
    "       Deaths,\n",
    "       Confirmed - Recovered - Deaths AS Active\n",
    "  FROM daily_report;\n",
    "-- SQL 查詢語法終點\n",
    "\"\"\""
   ]
  },
  {
   "cell_type": "markdown",
   "metadata": {},
   "source": [
    "## 從 NBA 球員資料表 `players` 依據身高 `heightMeters` 與 `weightKilograms` 衍生計算欄位 `bmi`。\n",
    "\n",
    "\\begin{equation}\n",
    "BMI = \\frac{weight_{kg}}{height_{m}^2}\n",
    "\\end{equation}\n",
    "\n",
    "- 預期輸入：SQL 查詢語法。\n",
    "- 預期輸出：(495, 3) 的查詢結果。\n",
    "\n",
    "```\n",
    "     heightMeters  weightKilograms        bmi\n",
    "0            2.06            113.4  26.722594\n",
    "1            2.01            108.0  26.732012\n",
    "2            2.03            106.6  25.868136\n",
    "3            2.08            120.2  27.782914\n",
    "4            1.98             97.5  24.869911\n",
    "..            ...              ...        ...\n",
    "490          2.01            104.3  25.816193\n",
    "491          2.08            106.1  24.523854\n",
    "492          1.78             88.5  27.932079\n",
    "493          1.98             90.7  23.135394\n",
    "494          1.96             83.9  21.839858\n",
    "\n",
    "[495 rows x 3 columns]\n",
    "```"
   ]
  },
  {
   "cell_type": "code",
   "execution_count": 3,
   "metadata": {},
   "outputs": [],
   "source": [
    "calculate_players_bmi =\\\n",
    "\"\"\"\n",
    "-- SQL 查詢語法起點\n",
    "SELECT heightMeters,\n",
    "       weightKilograms,\n",
    "       weightKilograms / (heightMeters*heightMeters) AS bmi\n",
    "  FROM players;\n",
    "-- SQL 查詢語法終點\n",
    "\"\"\""
   ]
  },
  {
   "cell_type": "markdown",
   "metadata": {},
   "source": [
    "## 從 NBA 球隊資料表 `teams` 中連結 `divName` 與 `confName` 之後使用 `DISTINCT` 去除重複值。\n",
    "\n",
    "- 預期輸入：SQL 查詢語法。\n",
    "- 預期輸出：(6, 1) 的查詢結果。\n",
    "\n",
    "```\n",
    "          conf_div\n",
    "0  Southeast, East\n",
    "1   Atlantic, East\n",
    "2    Central, East\n",
    "3  Southwest, West\n",
    "4  Northwest, West\n",
    "5    Pacific, West\n",
    "```"
   ]
  },
  {
   "cell_type": "code",
   "execution_count": 4,
   "metadata": {},
   "outputs": [],
   "source": [
    "concatenate_distinct_conference_division =\\\n",
    "\"\"\"\n",
    "-- SQL 查詢語法起點\n",
    "SELECT DISTINCT divName || ', ' || confName AS conf_div\n",
    "  FROM teams;\n",
    "-- SQL 查詢語法終點\n",
    "\"\"\""
   ]
  },
  {
   "cell_type": "markdown",
   "metadata": {
    "deletable": false,
    "editable": false
   },
   "source": [
    "## 執行測試！\n",
    "\n",
    "Kernel -> Restart & Run All."
   ]
  },
  {
   "cell_type": "code",
   "execution_count": 5,
   "metadata": {
    "deletable": false,
    "editable": false
   },
   "outputs": [
    {
     "name": "stderr",
     "output_type": "stream",
     "text": [
      "test_calculate_active (__main__.TestCalculatedFields) ... ok\n",
      "test_calculate_players_bmi (__main__.TestCalculatedFields) ... ok\n",
      "test_concatenate_distinct_conference_division (__main__.TestCalculatedFields) ... ok\n",
      "\n",
      "----------------------------------------------------------------------\n",
      "Ran 3 tests in 0.194s\n",
      "\n",
      "OK\n"
     ]
    }
   ],
   "source": [
    "class TestCalculatedFields(unittest.TestCase):\n",
    "    def test_calculate_active(self):\n",
    "        active = pd.read_sql(calculate_active, conn)\n",
    "        self.assertEqual(active.shape, (3979, 4))\n",
    "        np.testing.assert_equal(active['Active'].values[:5],\n",
    "                               np.array([4944, 29323, 31104, 743, 1295]))\n",
    "        np.testing.assert_equal(active['Active'].values[-5:],\n",
    "                               np.array([325, 8136, 80, 5454, 6127])) \n",
    "    def test_calculate_players_bmi(self):\n",
    "        players_bmi = pd.read_sql(calculate_players_bmi, conn)\n",
    "        self.assertEqual(players_bmi.shape, (495, 3))\n",
    "        np.testing.assert_equal(players_bmi.columns.values,\n",
    "                               np.array(['heightMeters', 'weightKilograms', 'bmi']))\n",
    "    def test_concatenate_distinct_conference_division(self):\n",
    "        distinct_conference_division = pd.read_sql(concatenate_distinct_conference_division, conn)\n",
    "        self.assertEqual(distinct_conference_division.shape, (6, 1))\n",
    "        np.testing.assert_equal(distinct_conference_division['conf_div'].values,\n",
    "                               np.array(['Southeast, East', 'Atlantic, East', 'Central, East', 'Southwest, West', 'Northwest, West', 'Pacific, West']))\n",
    "\n",
    "suite = unittest.TestLoader().loadTestsFromTestCase(TestCalculatedFields)\n",
    "runner = unittest.TextTestRunner(verbosity=2)\n",
    "test_results = runner.run(suite)\n",
    "number_of_failures = len(test_results.failures)\n",
    "number_of_errors = len(test_results.errors)\n",
    "number_of_test_runs = test_results.testsRun\n",
    "number_of_successes = number_of_test_runs - (number_of_failures + number_of_errors)"
   ]
  },
  {
   "cell_type": "code",
   "execution_count": 6,
   "metadata": {
    "deletable": false,
    "editable": false
   },
   "outputs": [
    {
     "name": "stdout",
     "output_type": "stream",
     "text": [
      "您在 3 道 SQL 練習中答對了 3 題。\n"
     ]
    }
   ],
   "source": [
    "print(\"您在 {} 道 SQL 練習中答對了 {} 題。\".format(number_of_test_runs, number_of_successes))"
   ]
  }
 ],
 "metadata": {
  "kernelspec": {
   "display_name": "Python Data Analysis",
   "language": "python",
   "name": "pyda"
  },
  "language_info": {
   "codemirror_mode": {
    "name": "ipython",
    "version": 3
   },
   "file_extension": ".py",
   "mimetype": "text/x-python",
   "name": "python",
   "nbconvert_exporter": "python",
   "pygments_lexer": "ipython3",
   "version": "3.6.8"
  }
 },
 "nbformat": 4,
 "nbformat_minor": 4
}
