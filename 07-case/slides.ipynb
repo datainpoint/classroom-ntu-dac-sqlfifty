{
 "cells": [
  {
   "cell_type": "markdown",
   "id": "lightweight-fruit",
   "metadata": {
    "slideshow": {
     "slide_type": "slide"
    }
   },
   "source": [
    "# SQL 的五十道練習\n",
    "\n",
    "> 條件邏輯\n",
    "\n",
    "郭耀仁 <yaojenkuo@datainpoint.com>，[數據交點](https://www.datainpoint.com/)"
   ]
  },
  {
   "cell_type": "code",
   "execution_count": 1,
   "id": "matched-spyware",
   "metadata": {
    "slideshow": {
     "slide_type": "skip"
    }
   },
   "outputs": [],
   "source": [
    "%LOAD ../databases/imdb.db"
   ]
  },
  {
   "cell_type": "code",
   "execution_count": 2,
   "id": "desperate-contest",
   "metadata": {
    "slideshow": {
     "slide_type": "skip"
    }
   },
   "outputs": [],
   "source": [
    "ATTACH \"../databases/nba.db\" AS nba;"
   ]
  },
  {
   "cell_type": "code",
   "execution_count": 3,
   "id": "located-society",
   "metadata": {
    "slideshow": {
     "slide_type": "skip"
    }
   },
   "outputs": [],
   "source": [
    "ATTACH \"../databases/twElection2020.db\" AS twElection2020;"
   ]
  },
  {
   "cell_type": "code",
   "execution_count": 4,
   "id": "positive-conservative",
   "metadata": {
    "slideshow": {
     "slide_type": "skip"
    }
   },
   "outputs": [],
   "source": [
    "ATTACH \"../databases/covid19.db\" AS covid19;"
   ]
  },
  {
   "cell_type": "markdown",
   "id": "supposed-spread",
   "metadata": {
    "slideshow": {
     "slide_type": "slide"
    }
   },
   "source": [
    "## 以 `CASE` 敘述衍生欄位"
   ]
  },
  {
   "cell_type": "markdown",
   "id": "olympic-advertiser",
   "metadata": {
    "slideshow": {
     "slide_type": "subslide"
    }
   },
   "source": [
    "## 條件除了能夠運用在 `WHERE` 敘述篩選資料，另外一個常見的應用場景是在 `CASE` 敘述來衍生欄位。"
   ]
  },
  {
   "cell_type": "markdown",
   "id": "subjective-retro",
   "metadata": {
    "slideshow": {
     "slide_type": "subslide"
    }
   },
   "source": [
    "```sql\n",
    "-- CASE 敘述\n",
    "SELECT CASE WHEN condition_1 THEN result_1\n",
    "            WHEN condition_2 THEN result_2\n",
    "            ...\n",
    "            ELSE result_else END AS alias\n",
    "  FROM table_name;\n",
    "```"
   ]
  },
  {
   "cell_type": "code",
   "execution_count": 5,
   "id": "three-pressure",
   "metadata": {
    "slideshow": {
     "slide_type": "subslide"
    }
   },
   "outputs": [
    {
     "data": {
      "text/html": [
       "<table>\n",
       "<tr>\n",
       "<th>title</th>\n",
       "<th>release_year</th>\n",
       "<th>is_after_millennium</th>\n",
       "</tr>\n",
       "<tr>\n",
       "<td>The Shawshank Redemption</td>\n",
       "<td>1994</td>\n",
       "<td>0</td>\n",
       "</tr>\n",
       "<tr>\n",
       "<td>The Godfather</td>\n",
       "<td>1972</td>\n",
       "<td>0</td>\n",
       "</tr>\n",
       "<tr>\n",
       "<td>The Godfather: Part II</td>\n",
       "<td>1974</td>\n",
       "<td>0</td>\n",
       "</tr>\n",
       "<tr>\n",
       "<td>The Dark Knight</td>\n",
       "<td>2008</td>\n",
       "<td>1</td>\n",
       "</tr>\n",
       "<tr>\n",
       "<td>12 Angry Men</td>\n",
       "<td>1957</td>\n",
       "<td>0</td>\n",
       "</tr>\n",
       "<tr>\n",
       "<td>Schindler's List</td>\n",
       "<td>1993</td>\n",
       "<td>0</td>\n",
       "</tr>\n",
       "<tr>\n",
       "<td>The Lord of the Rings: The Return of the King</td>\n",
       "<td>2003</td>\n",
       "<td>1</td>\n",
       "</tr>\n",
       "<tr>\n",
       "<td>Pulp Fiction</td>\n",
       "<td>1994</td>\n",
       "<td>0</td>\n",
       "</tr>\n",
       "<tr>\n",
       "<td>The Good, the Bad and the Ugly</td>\n",
       "<td>1966</td>\n",
       "<td>0</td>\n",
       "</tr>\n",
       "<tr>\n",
       "<td>The Lord of the Rings: The Fellowship of the Ring</td>\n",
       "<td>2001</td>\n",
       "<td>1</td>\n",
       "</tr>\n",
       "</table>"
      ],
      "text/plain": [
       "+---------------------------------------------------+--------------+---------------------+\n",
       "| title                                             | release_year | is_after_millennium |\n",
       "+---------------------------------------------------+--------------+---------------------+\n",
       "| The Shawshank Redemption                          | 1994         | 0                   |\n",
       "+---------------------------------------------------+--------------+---------------------+\n",
       "| The Godfather                                     | 1972         | 0                   |\n",
       "+---------------------------------------------------+--------------+---------------------+\n",
       "| The Godfather: Part II                            | 1974         | 0                   |\n",
       "+---------------------------------------------------+--------------+---------------------+\n",
       "| The Dark Knight                                   | 2008         | 1                   |\n",
       "+---------------------------------------------------+--------------+---------------------+\n",
       "| 12 Angry Men                                      | 1957         | 0                   |\n",
       "+---------------------------------------------------+--------------+---------------------+\n",
       "| Schindler's List                                  | 1993         | 0                   |\n",
       "+---------------------------------------------------+--------------+---------------------+\n",
       "| The Lord of the Rings: The Return of the King     | 2003         | 1                   |\n",
       "+---------------------------------------------------+--------------+---------------------+\n",
       "| Pulp Fiction                                      | 1994         | 0                   |\n",
       "+---------------------------------------------------+--------------+---------------------+\n",
       "| The Good, the Bad and the Ugly                    | 1966         | 0                   |\n",
       "+---------------------------------------------------+--------------+---------------------+\n",
       "| The Lord of the Rings: The Fellowship of the Ring | 2001         | 1                   |\n",
       "+---------------------------------------------------+--------------+---------------------+"
      ]
     },
     "execution_count": 5,
     "metadata": {},
     "output_type": "execute_result"
    }
   ],
   "source": [
    "-- 將上映日期分為兩類的 CASE 敘述\n",
    "SELECT title,\n",
    "       release_year,\n",
    "       CASE WHEN release_year >= 2000 THEN 1\n",
    "            ELSE 0 END AS is_after_millennium\n",
    "  FROM top_rated_movies\n",
    " LIMIT 10;"
   ]
  },
  {
   "cell_type": "code",
   "execution_count": 6,
   "id": "alleged-netherlands",
   "metadata": {
    "slideshow": {
     "slide_type": "subslide"
    }
   },
   "outputs": [
    {
     "data": {
      "text/html": [
       "<table>\n",
       "<tr>\n",
       "<th>player_name</th>\n",
       "<th>pos</th>\n",
       "<th>pos_new</th>\n",
       "</tr>\n",
       "<tr>\n",
       "<td>LeBron James</td>\n",
       "<td>F</td>\n",
       "<td>Forward</td>\n",
       "</tr>\n",
       "<tr>\n",
       "<td>Carmelo Anthony</td>\n",
       "<td>F</td>\n",
       "<td>Forward</td>\n",
       "</tr>\n",
       "<tr>\n",
       "<td>Udonis Haslem</td>\n",
       "<td>F</td>\n",
       "<td>Forward</td>\n",
       "</tr>\n",
       "<tr>\n",
       "<td>Dwight Howard</td>\n",
       "<td>C-F</td>\n",
       "<td>Center</td>\n",
       "</tr>\n",
       "<tr>\n",
       "<td>Andre Iguodala</td>\n",
       "<td>G-F</td>\n",
       "<td>Guard</td>\n",
       "</tr>\n",
       "<tr>\n",
       "<td>Trevor Ariza</td>\n",
       "<td>F</td>\n",
       "<td>Forward</td>\n",
       "</tr>\n",
       "<tr>\n",
       "<td>Chris Paul</td>\n",
       "<td>G</td>\n",
       "<td>Guard</td>\n",
       "</tr>\n",
       "<tr>\n",
       "<td>Lou Williams</td>\n",
       "<td>G</td>\n",
       "<td>Guard</td>\n",
       "</tr>\n",
       "<tr>\n",
       "<td>LaMarcus Aldridge</td>\n",
       "<td>C-F</td>\n",
       "<td>Center</td>\n",
       "</tr>\n",
       "<tr>\n",
       "<td>Rudy Gay</td>\n",
       "<td>F-G</td>\n",
       "<td>Forward</td>\n",
       "</tr>\n",
       "</table>"
      ],
      "text/plain": [
       "+-------------------+-----+---------+\n",
       "| player_name       | pos | pos_new |\n",
       "+-------------------+-----+---------+\n",
       "| LeBron James      | F   | Forward |\n",
       "+-------------------+-----+---------+\n",
       "| Carmelo Anthony   | F   | Forward |\n",
       "+-------------------+-----+---------+\n",
       "| Udonis Haslem     | F   | Forward |\n",
       "+-------------------+-----+---------+\n",
       "| Dwight Howard     | C-F | Center  |\n",
       "+-------------------+-----+---------+\n",
       "| Andre Iguodala    | G-F | Guard   |\n",
       "+-------------------+-----+---------+\n",
       "| Trevor Ariza      | F   | Forward |\n",
       "+-------------------+-----+---------+\n",
       "| Chris Paul        | G   | Guard   |\n",
       "+-------------------+-----+---------+\n",
       "| Lou Williams      | G   | Guard   |\n",
       "+-------------------+-----+---------+\n",
       "| LaMarcus Aldridge | C-F | Center  |\n",
       "+-------------------+-----+---------+\n",
       "| Rudy Gay          | F-G | Forward |\n",
       "+-------------------+-----+---------+"
      ]
     },
     "execution_count": 6,
     "metadata": {},
     "output_type": "execute_result"
    }
   ],
   "source": [
    "-- 將位置分為三類的 CASE 敘述\n",
    "SELECT firstName || ' ' || lastName AS player_name,\n",
    "       pos,\n",
    "       CASE WHEN pos IN ('C', 'C-F') THEN 'Center'\n",
    "            WHEN pos IN ('G', 'G-F') THEN 'Guard'\n",
    "            ELSE 'Forward' END AS pos_new\n",
    "  FROM players\n",
    " LIMIT 10;"
   ]
  },
  {
   "cell_type": "markdown",
   "id": "dying-intake",
   "metadata": {
    "slideshow": {
     "slide_type": "subslide"
    }
   },
   "source": [
    "## 當條件有交集的時候，撰寫 `CASE` 敘述要特別注意順序"
   ]
  },
  {
   "cell_type": "code",
   "execution_count": 7,
   "id": "signed-excess",
   "metadata": {},
   "outputs": [
    {
     "data": {
      "text/html": [
       "<table>\n",
       "<tr>\n",
       "<th>height_category</th>\n",
       "</tr>\n",
       "<tr>\n",
       "<td>Medium</td>\n",
       "</tr>\n",
       "<tr>\n",
       "<td>Short</td>\n",
       "</tr>\n",
       "<tr>\n",
       "<td>Tall</td>\n",
       "</tr>\n",
       "</table>"
      ],
      "text/plain": [
       "+-----------------+\n",
       "| height_category |\n",
       "+-----------------+\n",
       "| Medium          |\n",
       "+-----------------+\n",
       "| Short           |\n",
       "+-----------------+\n",
       "| Tall            |\n",
       "+-----------------+"
      ]
     },
     "execution_count": 7,
     "metadata": {},
     "output_type": "execute_result"
    }
   ],
   "source": [
    "-- heightMeters > 1.90 與 heightMeters > 2.10 條件交集\n",
    "SELECT DISTINCT CASE WHEN heightMeters > 2.10 THEN 'Tall'\n",
    "                WHEN heightMeters > 1.90 THEN 'Medium'\n",
    "                ELSE 'Short' END AS height_category\n",
    "  FROM players;"
   ]
  },
  {
   "cell_type": "code",
   "execution_count": 8,
   "id": "adequate-acquisition",
   "metadata": {
    "slideshow": {
     "slide_type": "subslide"
    }
   },
   "outputs": [
    {
     "data": {
      "text/html": [
       "<table>\n",
       "<tr>\n",
       "<th>height_category</th>\n",
       "</tr>\n",
       "<tr>\n",
       "<td>Medium</td>\n",
       "</tr>\n",
       "<tr>\n",
       "<td>Short</td>\n",
       "</tr>\n",
       "</table>"
      ],
      "text/plain": [
       "+-----------------+\n",
       "| height_category |\n",
       "+-----------------+\n",
       "| Medium          |\n",
       "+-----------------+\n",
       "| Short           |\n",
       "+-----------------+"
      ]
     },
     "execution_count": 8,
     "metadata": {},
     "output_type": "execute_result"
    }
   ],
   "source": [
    "-- heightMeters > 1.90 與 heightMeters > 2.10 條件交集\n",
    "SELECT DISTINCT CASE WHEN heightMeters > 1.90 THEN 'Medium'\n",
    "                WHEN heightMeters > 2.10 THEN 'Tall'\n",
    "                ELSE 'Short' END AS height_category\n",
    "  FROM players;"
   ]
  },
  {
   "cell_type": "markdown",
   "id": "lovely-publisher",
   "metadata": {
    "slideshow": {
     "slide_type": "subslide"
    }
   },
   "source": [
    "##  如果不想特別注意順序，亦可以將條件設計為互斥"
   ]
  },
  {
   "cell_type": "code",
   "execution_count": 9,
   "id": "gorgeous-drinking",
   "metadata": {},
   "outputs": [
    {
     "data": {
      "text/html": [
       "<table>\n",
       "<tr>\n",
       "<th>height_category</th>\n",
       "</tr>\n",
       "<tr>\n",
       "<td>Medium</td>\n",
       "</tr>\n",
       "<tr>\n",
       "<td>Short</td>\n",
       "</tr>\n",
       "<tr>\n",
       "<td>Tall</td>\n",
       "</tr>\n",
       "</table>"
      ],
      "text/plain": [
       "+-----------------+\n",
       "| height_category |\n",
       "+-----------------+\n",
       "| Medium          |\n",
       "+-----------------+\n",
       "| Short           |\n",
       "+-----------------+\n",
       "| Tall            |\n",
       "+-----------------+"
      ]
     },
     "execution_count": 9,
     "metadata": {},
     "output_type": "execute_result"
    }
   ],
   "source": [
    "SELECT DISTINCT CASE WHEN heightMeters > 1.90 AND \n",
    "                          heightMeters <= 2.10 THEN 'Medium'\n",
    "                     WHEN heightMeters > 2.10 THEN 'Tall'\n",
    "                     ELSE 'Short' END AS height_category\n",
    "  FROM players;"
   ]
  },
  {
   "cell_type": "markdown",
   "id": "existing-integrity",
   "metadata": {
    "slideshow": {
     "slide_type": "slide"
    }
   },
   "source": [
    "## 以 `CASE` 敘述衍生的欄位排序查詢結果"
   ]
  },
  {
   "cell_type": "markdown",
   "id": "graphic-collar",
   "metadata": {
    "slideshow": {
     "slide_type": "subslide"
    }
   },
   "source": [
    "## 除了能夠在 `SELECT` 加入 `CASE` 敘述，亦能夠在 `ORDER BY` 敘述加入。"
   ]
  },
  {
   "cell_type": "markdown",
   "id": "better-healthcare",
   "metadata": {
    "slideshow": {
     "slide_type": "subslide"
    }
   },
   "source": [
    "```sql\n",
    "-- 以 CASE 敘述衍生的欄位排序查詢結果\n",
    "SELECT CASE WHEN condition_1 THEN result_1\n",
    "            WHEN condition_2 THEN result_2\n",
    "            ...\n",
    "            ELSE result_else END AS alias\n",
    "  FROM table_name\n",
    " ORDER BY alias ASC|DESC;\n",
    "```"
   ]
  },
  {
   "cell_type": "code",
   "execution_count": 10,
   "id": "skilled-burns",
   "metadata": {
    "slideshow": {
     "slide_type": "subslide"
    }
   },
   "outputs": [
    {
     "data": {
      "text/html": [
       "<table>\n",
       "<tr>\n",
       "<th>player_name</th>\n",
       "<th>pos_new</th>\n",
       "</tr>\n",
       "<tr>\n",
       "<td>Dwight Howard</td>\n",
       "<td>Center</td>\n",
       "</tr>\n",
       "<tr>\n",
       "<td>LaMarcus Aldridge</td>\n",
       "<td>Center</td>\n",
       "</tr>\n",
       "<tr>\n",
       "<td>Al Horford</td>\n",
       "<td>Center</td>\n",
       "</tr>\n",
       "<tr>\n",
       "<td>Marc Gasol</td>\n",
       "<td>Center</td>\n",
       "</tr>\n",
       "<tr>\n",
       "<td>Brook Lopez</td>\n",
       "<td>Center</td>\n",
       "</tr>\n",
       "<tr>\n",
       "<td>Robin Lopez</td>\n",
       "<td>Center</td>\n",
       "</tr>\n",
       "<tr>\n",
       "<td>JaVale McGee</td>\n",
       "<td>Center</td>\n",
       "</tr>\n",
       "<tr>\n",
       "<td>DeAndre Jordan</td>\n",
       "<td>Center</td>\n",
       "</tr>\n",
       "<tr>\n",
       "<td>DeMarcus Cousins</td>\n",
       "<td>Center</td>\n",
       "</tr>\n",
       "<tr>\n",
       "<td>Ed Davis</td>\n",
       "<td>Center</td>\n",
       "</tr>\n",
       "</table>"
      ],
      "text/plain": [
       "+-------------------+---------+\n",
       "| player_name       | pos_new |\n",
       "+-------------------+---------+\n",
       "| Dwight Howard     | Center  |\n",
       "+-------------------+---------+\n",
       "| LaMarcus Aldridge | Center  |\n",
       "+-------------------+---------+\n",
       "| Al Horford        | Center  |\n",
       "+-------------------+---------+\n",
       "| Marc Gasol        | Center  |\n",
       "+-------------------+---------+\n",
       "| Brook Lopez       | Center  |\n",
       "+-------------------+---------+\n",
       "| Robin Lopez       | Center  |\n",
       "+-------------------+---------+\n",
       "| JaVale McGee      | Center  |\n",
       "+-------------------+---------+\n",
       "| DeAndre Jordan    | Center  |\n",
       "+-------------------+---------+\n",
       "| DeMarcus Cousins  | Center  |\n",
       "+-------------------+---------+\n",
       "| Ed Davis          | Center  |\n",
       "+-------------------+---------+"
      ]
     },
     "execution_count": 10,
     "metadata": {},
     "output_type": "execute_result"
    }
   ],
   "source": [
    "-- 以 CASE 敘述衍生的欄位排序查詢結果\n",
    "SELECT firstName || ' ' || lastName AS player_name,\n",
    "       CASE WHEN pos IN ('C', 'C-F') THEN 'Center'\n",
    "            WHEN pos IN ('G', 'G-F') THEN 'Guard'\n",
    "            ELSE 'Forward' END AS pos_new\n",
    "  FROM players\n",
    " ORDER BY pos_new\n",
    " LIMIT 10;"
   ]
  },
  {
   "cell_type": "markdown",
   "id": "great-hazard",
   "metadata": {
    "slideshow": {
     "slide_type": "subslide"
    }
   },
   "source": [
    "## 也能僅在 `ORDER BY` 敘述中加入 `CASE`，不用先加 `SELECT`"
   ]
  },
  {
   "cell_type": "code",
   "execution_count": 11,
   "id": "protected-elevation",
   "metadata": {},
   "outputs": [
    {
     "data": {
      "text/html": [
       "<table>\n",
       "<tr>\n",
       "<th>player_name</th>\n",
       "</tr>\n",
       "<tr>\n",
       "<td>Dwight Howard</td>\n",
       "</tr>\n",
       "<tr>\n",
       "<td>LaMarcus Aldridge</td>\n",
       "</tr>\n",
       "<tr>\n",
       "<td>Al Horford</td>\n",
       "</tr>\n",
       "<tr>\n",
       "<td>Marc Gasol</td>\n",
       "</tr>\n",
       "<tr>\n",
       "<td>Brook Lopez</td>\n",
       "</tr>\n",
       "<tr>\n",
       "<td>Robin Lopez</td>\n",
       "</tr>\n",
       "<tr>\n",
       "<td>JaVale McGee</td>\n",
       "</tr>\n",
       "<tr>\n",
       "<td>DeAndre Jordan</td>\n",
       "</tr>\n",
       "<tr>\n",
       "<td>DeMarcus Cousins</td>\n",
       "</tr>\n",
       "<tr>\n",
       "<td>Ed Davis</td>\n",
       "</tr>\n",
       "</table>"
      ],
      "text/plain": [
       "+-------------------+\n",
       "| player_name       |\n",
       "+-------------------+\n",
       "| Dwight Howard     |\n",
       "+-------------------+\n",
       "| LaMarcus Aldridge |\n",
       "+-------------------+\n",
       "| Al Horford        |\n",
       "+-------------------+\n",
       "| Marc Gasol        |\n",
       "+-------------------+\n",
       "| Brook Lopez       |\n",
       "+-------------------+\n",
       "| Robin Lopez       |\n",
       "+-------------------+\n",
       "| JaVale McGee      |\n",
       "+-------------------+\n",
       "| DeAndre Jordan    |\n",
       "+-------------------+\n",
       "| DeMarcus Cousins  |\n",
       "+-------------------+\n",
       "| Ed Davis          |\n",
       "+-------------------+"
      ]
     },
     "execution_count": 11,
     "metadata": {},
     "output_type": "execute_result"
    }
   ],
   "source": [
    "-- 以 CASE 敘述衍生的欄位排序查詢結果\n",
    "SELECT firstName || ' ' || lastName AS player_name\n",
    "  FROM players\n",
    " ORDER BY (CASE WHEN pos IN ('C', 'C-F') THEN 'Center'\n",
    "                WHEN pos IN ('G', 'G-F') THEN 'Guard'\n",
    "                ELSE 'Forward' END)\n",
    " LIMIT 10;"
   ]
  },
  {
   "cell_type": "markdown",
   "id": "adjacent-reference",
   "metadata": {
    "slideshow": {
     "slide_type": "slide"
    }
   },
   "source": [
    "## 以 `CASE` 敘述衍生的欄位篩選資料"
   ]
  },
  {
   "cell_type": "markdown",
   "id": "visible-dinner",
   "metadata": {
    "slideshow": {
     "slide_type": "subslide"
    }
   },
   "source": [
    "## 除了能夠在 `SELECT` 以及 `ORDER BY` 加入 `CASE` 敘述，亦能夠在 `WHERE` 敘述加入。"
   ]
  },
  {
   "cell_type": "markdown",
   "id": "under-generator",
   "metadata": {
    "slideshow": {
     "slide_type": "subslide"
    }
   },
   "source": [
    "```sql\n",
    "-- 以 CASE 敘述衍生的欄位篩選資料\n",
    "SELECT CASE WHEN condition_1 THEN result_1\n",
    "            WHEN condition_2 THEN result_2\n",
    "            ...\n",
    "            ELSE result_else END AS alias\n",
    "  FROM table_name\n",
    " WHERE column_name COMPARISON_OPERATOR alias;\n",
    "```"
   ]
  },
  {
   "cell_type": "code",
   "execution_count": 12,
   "id": "corrected-trading",
   "metadata": {
    "slideshow": {
     "slide_type": "subslide"
    }
   },
   "outputs": [
    {
     "data": {
      "text/html": [
       "<table>\n",
       "<tr>\n",
       "<th>player_name</th>\n",
       "<th>pos_new</th>\n",
       "</tr>\n",
       "<tr>\n",
       "<td>Dwight Howard</td>\n",
       "<td>Center</td>\n",
       "</tr>\n",
       "<tr>\n",
       "<td>LaMarcus Aldridge</td>\n",
       "<td>Center</td>\n",
       "</tr>\n",
       "<tr>\n",
       "<td>Al Horford</td>\n",
       "<td>Center</td>\n",
       "</tr>\n",
       "<tr>\n",
       "<td>Marc Gasol</td>\n",
       "<td>Center</td>\n",
       "</tr>\n",
       "<tr>\n",
       "<td>Brook Lopez</td>\n",
       "<td>Center</td>\n",
       "</tr>\n",
       "<tr>\n",
       "<td>Robin Lopez</td>\n",
       "<td>Center</td>\n",
       "</tr>\n",
       "<tr>\n",
       "<td>JaVale McGee</td>\n",
       "<td>Center</td>\n",
       "</tr>\n",
       "<tr>\n",
       "<td>DeAndre Jordan</td>\n",
       "<td>Center</td>\n",
       "</tr>\n",
       "<tr>\n",
       "<td>DeMarcus Cousins</td>\n",
       "<td>Center</td>\n",
       "</tr>\n",
       "<tr>\n",
       "<td>Ed Davis</td>\n",
       "<td>Center</td>\n",
       "</tr>\n",
       "</table>"
      ],
      "text/plain": [
       "+-------------------+---------+\n",
       "| player_name       | pos_new |\n",
       "+-------------------+---------+\n",
       "| Dwight Howard     | Center  |\n",
       "+-------------------+---------+\n",
       "| LaMarcus Aldridge | Center  |\n",
       "+-------------------+---------+\n",
       "| Al Horford        | Center  |\n",
       "+-------------------+---------+\n",
       "| Marc Gasol        | Center  |\n",
       "+-------------------+---------+\n",
       "| Brook Lopez       | Center  |\n",
       "+-------------------+---------+\n",
       "| Robin Lopez       | Center  |\n",
       "+-------------------+---------+\n",
       "| JaVale McGee      | Center  |\n",
       "+-------------------+---------+\n",
       "| DeAndre Jordan    | Center  |\n",
       "+-------------------+---------+\n",
       "| DeMarcus Cousins  | Center  |\n",
       "+-------------------+---------+\n",
       "| Ed Davis          | Center  |\n",
       "+-------------------+---------+"
      ]
     },
     "execution_count": 12,
     "metadata": {},
     "output_type": "execute_result"
    }
   ],
   "source": [
    "-- 以 CASE 敘述衍生的欄位篩選資料\n",
    "SELECT firstName || ' ' || lastName AS player_name,\n",
    "       CASE WHEN pos IN ('C', 'C-F') THEN 'Center'\n",
    "            WHEN pos IN ('G', 'G-F') THEN 'Guard'\n",
    "            ELSE 'Forward' END AS pos_new\n",
    "  FROM players\n",
    " WHERE pos_new = 'Center'\n",
    " LIMIT 10;"
   ]
  },
  {
   "cell_type": "markdown",
   "id": "understanding-sudan",
   "metadata": {
    "slideshow": {
     "slide_type": "slide"
    }
   },
   "source": [
    "## 重點統整\n",
    "\n",
    "- 條件除了能夠運用在 `WHERE` 敘述篩選資料，另外一個常見的應用場景是在 `CASE` 敘述來衍生欄位。\n",
    "- 除了能夠在 `SELECT` 加入 `CASE` 敘述，亦能夠在 `ORDER BY` 敘述與 `WHERE` 敘述加入。"
   ]
  },
  {
   "cell_type": "markdown",
   "id": "employed-thousand",
   "metadata": {
    "slideshow": {
     "slide_type": "subslide"
    }
   },
   "source": [
    "## 目前我們會的 SQL\n",
    "\n",
    "```sql\n",
    "SELECT DISTINCT column_name AS alias,\n",
    "       column_name (+, -, *, /, %, ||) column_name AS alias,\n",
    "       FUNCTION_NAME(column_name) AS alias,\n",
    "       CASE WHEN condition_1 THEN result_1\n",
    "            WHEN condition_2 THEN result_2\n",
    "            ...\n",
    "            ELSE result_else END AS alias\n",
    "  FROM table_name\n",
    " WHERE condition (AND, OR, NOT, BETWEEN, IN, IS NULL)\n",
    "       condition\n",
    " ORDER BY column_name ASC|DESC\n",
    " LIMIT m;\n",
    "```"
   ]
  }
 ],
 "metadata": {
  "celltoolbar": "Slideshow",
  "kernelspec": {
   "display_name": "xsqlite",
   "language": "sqlite",
   "name": "xsqlite"
  },
  "language_info": {
   "file_extension": "",
   "mimetype": "",
   "name": "sqlite3",
   "version": "3.30.1"
  }
 },
 "nbformat": 4,
 "nbformat_minor": 5
}
