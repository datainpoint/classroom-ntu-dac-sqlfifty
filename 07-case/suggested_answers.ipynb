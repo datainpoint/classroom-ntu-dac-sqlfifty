{
 "cells": [
  {
   "cell_type": "markdown",
   "metadata": {
    "deletable": false,
    "editable": false
   },
   "source": [
    "# SQL 的五十道練習\n",
    "\n",
    "> 條件邏輯\n",
    "\n",
    "郭耀仁 <yaojenkuo@datainpoint.com>，[數據交點](https://www.datainpoint.com)"
   ]
  },
  {
   "cell_type": "code",
   "execution_count": 1,
   "metadata": {
    "deletable": false,
    "editable": false
   },
   "outputs": [
    {
     "data": {
      "text/plain": [
       "<sqlite3.Cursor at 0x7fc0f3a63650>"
      ]
     },
     "execution_count": 1,
     "metadata": {},
     "output_type": "execute_result"
    }
   ],
   "source": [
    "import sqlite3\n",
    "import unittest\n",
    "import numpy as np\n",
    "import pandas as pd\n",
    "conn = sqlite3.connect('../databases/nba.db')\n",
    "conn.execute(\"\"\"ATTACH '../databases/covid19.db' AS covid19\"\"\")\n",
    "conn.execute(\"\"\"ATTACH '../databases/twElection2020.db' AS twElection2020\"\"\")\n",
    "conn.execute(\"\"\"ATTACH '../databases/imdb.db' AS imdb\"\"\")"
   ]
  },
  {
   "cell_type": "markdown",
   "metadata": {},
   "source": [
    "## 從新冠肺炎的每日報告資料表 `daily_report` 中將美國與「非美國」的觀測值利用 `CASE` 敘述產生一個衍生欄位 `is_us` 區分出來，美國的觀測值給予布林真（`1`）、非美國的觀測值給予布林假（`0`），選擇 `Country_Region`、與 `is_us` 兩個欄位，並且以 `is_us` 遞減排序、`Country_Region` 遞增排序。\n",
    "\n",
    "- 預期輸入：SQL 查詢語法。\n",
    "- 預期輸出：(3979, 2) 的查詢結果。\n",
    "\n",
    "```\n",
    "          Country_Region  is_us\n",
    "0                     US      1\n",
    "1                     US      1\n",
    "2                     US      1\n",
    "3                     US      1\n",
    "4                     US      1\n",
    "...                  ...    ...\n",
    "3974             Vietnam      0\n",
    "3975  West Bank and Gaza      0\n",
    "3976               Yemen      0\n",
    "3977              Zambia      0\n",
    "3978            Zimbabwe      0\n",
    "\n",
    "[3979 rows x 2 columns]\n",
    "```"
   ]
  },
  {
   "cell_type": "code",
   "execution_count": 2,
   "metadata": {},
   "outputs": [],
   "source": [
    "case_is_us =\\\n",
    "\"\"\"\n",
    "-- SQL 查詢語法起點\n",
    "SELECT Country_Region,\n",
    "       CASE WHEN Country_Region = 'US' THEN 1\n",
    "            ELSE 0 END AS is_us\n",
    "  FROM daily_report\n",
    " ORDER BY is_us DESC,\n",
    "          Country_Region;\n",
    "-- SQL 查詢語法終點\n",
    "\"\"\""
   ]
  },
  {
   "cell_type": "markdown",
   "metadata": {},
   "source": [
    "## 從 IMDb 最高評價的 250 部電影資料表 `top_rated_movies` 中利用 `CASE` 敘述產生一個衍生欄位 `rating_category` 將評等超過 8.7（`>8.7`）的電影分類為 `'Awesome'`、將評等超過 8.4（`>8.4`）的電影分類為 `'Terrific'`，再將其餘的電影分類為 `'Great'`，選擇 `title`、`rating` 與 `rating_category`，以 `rating_category` 遞增排序、`rating` 遞減排序。\n",
    "\n",
    "- 預期輸入：SQL 查詢語法。\n",
    "- 預期輸出：(250, 3) 的查詢結果。\n",
    "\n",
    "```\n",
    "                            title  rating rating_category\n",
    "0        The Shawshank Redemption     9.3         Awesome\n",
    "1                   The Godfather     9.2         Awesome\n",
    "2          The Godfather: Part II     9.0         Awesome\n",
    "3                 The Dark Knight     9.0         Awesome\n",
    "4                    12 Angry Men     9.0         Awesome\n",
    "..                            ...     ...             ...\n",
    "245                  The Prestige     8.5        Terrific\n",
    "246  Once Upon a Time in the West     8.5        Terrific\n",
    "247                    Casablanca     8.5        Terrific\n",
    "248               Cinema Paradiso     8.5        Terrific\n",
    "249                         Joker     8.5        Terrific\n",
    "\n",
    "[250 rows x 3 columns]\n",
    "```"
   ]
  },
  {
   "cell_type": "code",
   "execution_count": 3,
   "metadata": {},
   "outputs": [],
   "source": [
    "case_rating_category =\\\n",
    "\"\"\"\n",
    "-- SQL 查詢語法起點\n",
    "SELECT title,\n",
    "       rating,\n",
    "       CASE WHEN rating > 8.7 THEN 'Awesome'\n",
    "            WHEN rating > 8.4 THEN 'Terrific'\n",
    "            ELSE 'Great' END AS rating_category\n",
    "  FROM top_rated_movies\n",
    " ORDER BY rating_category,\n",
    "          rating DESC;\n",
    "-- SQL 查詢語法終點\n",
    "\"\"\""
   ]
  },
  {
   "cell_type": "markdown",
   "metadata": {},
   "source": [
    "## 從台灣 2020 總統副總統的各投票所得票明細資料表 `presidential` 中利用 `CASE` 敘述產生一個衍生欄位 `county_type` 將觀測值分類為 `'六都'`與`'非六都'`，選擇 `county` 與 `county_type` 欄位。\n",
    "\n",
    "- 預期輸入：SQL 查詢語法。\n",
    "- 預期輸出：(51678, 2) 的查詢結果。\n",
    "\n",
    "註：六都為臺北市、新北市、桃園市、臺中市、臺南市與高雄市。\n",
    "\n",
    "```\n",
    "      county county_type\n",
    "0        宜蘭縣         非六都\n",
    "1        宜蘭縣         非六都\n",
    "2        宜蘭縣         非六都\n",
    "3        宜蘭縣         非六都\n",
    "4        宜蘭縣         非六都\n",
    "...      ...         ...\n",
    "51673    臺中市          六都\n",
    "51674    臺中市          六都\n",
    "51675    臺中市          六都\n",
    "51676    臺中市          六都\n",
    "51677    臺中市          六都\n",
    "\n",
    "[51678 rows x 2 columns]\n",
    "```"
   ]
  },
  {
   "cell_type": "code",
   "execution_count": 4,
   "metadata": {},
   "outputs": [],
   "source": [
    "case_county_type =\\\n",
    "\"\"\"\n",
    "-- SQL 查詢語法起點\n",
    "SELECT county,\n",
    "       CASE WHEN county IN ('臺北市', '新北市', '桃園市', '臺中市', '臺南市', '高雄市') THEN '六都'\n",
    "            ELSE '非六都' END AS county_type\n",
    "  FROM presidential;\n",
    "-- SQL 查詢語法終點\n",
    "\"\"\""
   ]
  },
  {
   "cell_type": "markdown",
   "metadata": {
    "deletable": false,
    "editable": false
   },
   "source": [
    "## 執行測試！\n",
    "\n",
    "Kernel -> Restart & Run All."
   ]
  },
  {
   "cell_type": "code",
   "execution_count": 5,
   "metadata": {
    "deletable": false,
    "editable": false
   },
   "outputs": [
    {
     "name": "stderr",
     "output_type": "stream",
     "text": [
      "test_case_county_type (__main__.TestCase) ... ok\n",
      "test_case_is_us (__main__.TestCase) ... ok\n",
      "test_case_rating_category (__main__.TestCase) ... ok\n",
      "\n",
      "----------------------------------------------------------------------\n",
      "Ran 3 tests in 0.264s\n",
      "\n",
      "OK\n"
     ]
    }
   ],
   "source": [
    "class TestCase(unittest.TestCase):\n",
    "    def test_case_is_us(self):\n",
    "        is_us = pd.read_sql(case_is_us, conn)\n",
    "        self.assertEqual(is_us.shape, (3979, 2))\n",
    "        self.assertEqual(is_us['is_us'].sum(), 3275)\n",
    "    def test_case_rating_category(self):\n",
    "        rating_category = pd.read_sql(case_rating_category, conn)\n",
    "        self.assertEqual(rating_category.shape, (250, 3))\n",
    "        np.testing.assert_equal(rating_category['rating_category'].values[:5],\n",
    "                               np.array(['Awesome', 'Awesome', 'Awesome', 'Awesome', 'Awesome']))\n",
    "        np.testing.assert_equal(rating_category['rating_category'].values[-5:],\n",
    "                               np.array(['Terrific', 'Terrific', 'Terrific', 'Terrific', 'Terrific']))\n",
    "        \n",
    "    def test_case_county_type(self):\n",
    "        county_type = pd.read_sql(case_county_type, conn)\n",
    "        self.assertEqual(county_type.shape, (51678, 2))\n",
    "        np.testing.assert_equal(county_type['county_type'].unique(),\n",
    "                               np.array(['非六都', '六都']))\n",
    "        np.testing.assert_equal(county_type['county_type'].values[:5],\n",
    "                               np.array(['非六都', '非六都', '非六都', '非六都', '非六都']))\n",
    "        np.testing.assert_equal(county_type['county_type'].values[-5:],\n",
    "                               np.array(['六都', '六都', '六都', '六都', '六都']))\n",
    "        \n",
    "suite = unittest.TestLoader().loadTestsFromTestCase(TestCase)\n",
    "runner = unittest.TextTestRunner(verbosity=2)\n",
    "test_results = runner.run(suite)\n",
    "number_of_failures = len(test_results.failures)\n",
    "number_of_errors = len(test_results.errors)\n",
    "number_of_test_runs = test_results.testsRun\n",
    "number_of_successes = number_of_test_runs - (number_of_failures + number_of_errors)"
   ]
  },
  {
   "cell_type": "code",
   "execution_count": 6,
   "metadata": {
    "deletable": false,
    "editable": false
   },
   "outputs": [
    {
     "name": "stdout",
     "output_type": "stream",
     "text": [
      "您在 3 道 SQL 練習中答對了 3 題。\n"
     ]
    }
   ],
   "source": [
    "print(\"您在 {} 道 SQL 練習中答對了 {} 題。\".format(number_of_test_runs, number_of_successes))"
   ]
  }
 ],
 "metadata": {
  "kernelspec": {
   "display_name": "Python Data Analysis",
   "language": "python",
   "name": "pyda"
  },
  "language_info": {
   "codemirror_mode": {
    "name": "ipython",
    "version": 3
   },
   "file_extension": ".py",
   "mimetype": "text/x-python",
   "name": "python",
   "nbconvert_exporter": "python",
   "pygments_lexer": "ipython3",
   "version": "3.6.8"
  }
 },
 "nbformat": 4,
 "nbformat_minor": 4
}
