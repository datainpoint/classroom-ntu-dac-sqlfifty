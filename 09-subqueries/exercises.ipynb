{
 "cells": [
  {
   "cell_type": "markdown",
   "metadata": {
    "deletable": false,
    "editable": false
   },
   "source": [
    "# SQL 的五十道練習\n",
    "\n",
    "> 包含子查詢的結構 \n",
    "\n",
    "[數據交點](https://www.datainpoint.com) | 郭耀仁 <yaojenkuo@datainpoint.com>"
   ]
  },
  {
   "cell_type": "code",
   "execution_count": 1,
   "metadata": {
    "deletable": false,
    "editable": false
   },
   "outputs": [
    {
     "data": {
      "text/plain": [
       "<sqlite3.Cursor at 0x7fee38b73650>"
      ]
     },
     "execution_count": 1,
     "metadata": {},
     "output_type": "execute_result"
    }
   ],
   "source": [
    "import sqlite3\n",
    "import unittest\n",
    "import numpy as np\n",
    "import pandas as pd\n",
    "conn = sqlite3.connect('../databases/nba.db')\n",
    "conn.execute(\"\"\"ATTACH '../databases/covid19.db' AS covid19\"\"\")\n",
    "conn.execute(\"\"\"ATTACH '../databases/twElection2020.db' AS twElection2020\"\"\")\n",
    "conn.execute(\"\"\"ATTACH '../databases/imdb.db' AS imdb\"\"\")"
   ]
  },
  {
   "cell_type": "markdown",
   "metadata": {},
   "source": [
    "## 從球員的基本資料表 `players` 中找出聯盟身高最高與最矮的球員是誰。\n",
    "\n",
    "- 預期輸入：SQL 查詢語法。\n",
    "- 預期輸出：(5, 3) 的查詢結果。\n",
    "\n",
    "```\n",
    "  firstName  lastName  heightMeters\n",
    "0     Tacko      Fall          2.26\n",
    "1     Jared    Harper          1.78\n",
    "2   Tremont    Waters          1.78\n",
    "3    Markus    Howard          1.78\n",
    "4   Facundo  Campazzo          1.78\n",
    "```"
   ]
  },
  {
   "cell_type": "code",
   "execution_count": 2,
   "metadata": {},
   "outputs": [],
   "source": [
    "find_tallest_shortest_players =\\\n",
    "\"\"\"\n",
    "-- SQL 查詢語法起點\n",
    "\n",
    "-- SQL 查詢語法終點\n",
    "\"\"\""
   ]
  },
  {
   "cell_type": "markdown",
   "metadata": {},
   "source": [
    "## 從球員的基本資料表 `players` 中以 `country` 作分組，計算球員的國籍佔比，顯示前六高的國家。\n",
    "\n",
    "- 預期輸入：SQL 查詢語法。\n",
    "- 預期輸出：(6, 2) 的查詢結果。\n",
    "\n",
    "```\n",
    "     country  player_percentage\n",
    "0        USA           0.769697\n",
    "1     Canada           0.036364\n",
    "2     France           0.022222\n",
    "3  Australia           0.018182\n",
    "4    Germany           0.012121\n",
    "5     Serbia           0.012121\n",
    "```"
   ]
  },
  {
   "cell_type": "code",
   "execution_count": 3,
   "metadata": {},
   "outputs": [],
   "source": [
    "calculate_top_six_player_percentage =\\\n",
    "\"\"\"\n",
    "-- SQL 查詢語法起點\n",
    "\n",
    "-- SQL 查詢語法終點\n",
    "\"\"\""
   ]
  },
  {
   "cell_type": "markdown",
   "metadata": {},
   "source": [
    "## 從球員的基本資料表 `players` 與球隊的基本資料表 `teams` 中找出目前洛杉磯湖人隊的球員名單。\n",
    "\n",
    "- 預期輸入：SQL 查詢語法。\n",
    "- 預期輸出：(16, 2) 的查詢結果。\n",
    "\n",
    "```\n",
    "     firstName       lastName\n",
    "0       LeBron          James\n",
    "1        Jared         Dudley\n",
    "2         Marc          Gasol\n",
    "3       Wesley       Matthews\n",
    "4     Markieff         Morris\n",
    "5      Anthony          Davis\n",
    "6       Dennis       Schroder\n",
    "7   Kentavious  Caldwell-Pope\n",
    "8     Montrezl        Harrell\n",
    "9        Quinn           Cook\n",
    "10        Alex         Caruso\n",
    "11     Alfonzo       McKinnie\n",
    "12        Kyle          Kuzma\n",
    "13      Kostas  Antetokounmpo\n",
    "14       Talen  Horton-Tucker\n",
    "15    Devontae          Cacok\n",
    "```"
   ]
  },
  {
   "cell_type": "code",
   "execution_count": 4,
   "metadata": {},
   "outputs": [],
   "source": [
    "find_los_angelas_lakers_roster =\\\n",
    "\"\"\"\n",
    "-- SQL 查詢語法起點\n",
    "\n",
    "-- SQL 查詢語法終點\n",
    "\"\"\""
   ]
  },
  {
   "cell_type": "markdown",
   "metadata": {},
   "source": [
    "## 從台灣 2020 不分區立委的各投票所得票明細 `legislative_at_large` 資料表中計算政黨得票率，並依照得票率遞減排序。\n",
    "\n",
    "- 預期輸入：SQL 查詢語法。\n",
    "- 預期輸出：(19, 2) 的查詢結果。\n",
    "\n",
    "```\n",
    "      party  votes_percentage\n",
    "0     民主進步黨          0.339774\n",
    "1     中國國民黨          0.333578\n",
    "2     台灣民眾黨          0.112203\n",
    "3      時代力量          0.077549\n",
    "4       親民黨          0.036647\n",
    "5      台灣基進          0.031588\n",
    "6        綠黨          0.024115\n",
    "7        新黨          0.010408\n",
    "8   一邊一國行動黨          0.010142\n",
    "9      安定力量          0.006678\n",
    "10   台灣團結聯盟          0.003562\n",
    "11   國會政黨聯盟          0.002848\n",
    "12  中華統一促進黨          0.002328\n",
    "13     宗教聯盟          0.002198\n",
    "14    喜樂島聯盟          0.002071\n",
    "15      勞動黨          0.001408\n",
    "16   合一行動聯盟          0.001237\n",
    "17     台灣維新          0.000844\n",
    "18      台澎黨          0.000825\n",
    "```"
   ]
  },
  {
   "cell_type": "code",
   "execution_count": 5,
   "metadata": {},
   "outputs": [],
   "source": [
    "calculate_party_votes_percentage =\\\n",
    "\"\"\"\n",
    "-- SQL 查詢語法起點\n",
    "\n",
    "-- SQL 查詢語法終點\n",
    "\"\"\""
   ]
  },
  {
   "cell_type": "markdown",
   "metadata": {},
   "source": [
    "## 從台灣 2020 總統副總統的各投票所得票明細 `presidential` 資料表中計算各組候選人的得票率，利用 `||` 文字運算符將百分比符號 `%` 加入至查詢結果中。\n",
    "\n",
    "- 預期輸入：SQL 查詢語法。\n",
    "- 預期輸出：(3, 3) 的查詢結果。\n",
    "\n",
    "```\n",
    "   number candidate votes_percentage\n",
    "0       1    宋楚瑜/余湘            4.26%\n",
    "1       2   韓國瑜/張善政           38.61%\n",
    "2       3   蔡英文/賴清德           57.13%\n",
    "```"
   ]
  },
  {
   "cell_type": "code",
   "execution_count": 6,
   "metadata": {},
   "outputs": [],
   "source": [
    "calculate_president_votes_percentage =\\\n",
    "\"\"\"\n",
    "-- SQL 查詢語法起點\n",
    "\n",
    "-- SQL 查詢語法終點\n",
    "\"\"\""
   ]
  },
  {
   "cell_type": "markdown",
   "metadata": {
    "deletable": false,
    "editable": false
   },
   "source": [
    "## 執行測試！\n",
    "\n",
    "Kernel -> Restart & Run All."
   ]
  },
  {
   "cell_type": "code",
   "execution_count": 7,
   "metadata": {
    "deletable": false,
    "editable": false
   },
   "outputs": [
    {
     "name": "stderr",
     "output_type": "stream",
     "text": [
      "test_calculate_party_votes_percentage (__main__.TestSubQuery) ... ERROR\n",
      "test_calculate_president_votes_percentage (__main__.TestSubQuery) ... ERROR\n",
      "test_calculate_top_six_player_percentage (__main__.TestSubQuery) ... ERROR\n",
      "test_find_los_angelas_lakers_roster (__main__.TestSubQuery) ... ERROR\n",
      "test_find_tallest_shortest_players (__main__.TestSubQuery) ... ERROR\n",
      "\n",
      "======================================================================\n",
      "ERROR: test_calculate_party_votes_percentage (__main__.TestSubQuery)\n",
      "----------------------------------------------------------------------\n",
      "Traceback (most recent call last):\n",
      "  File \"<ipython-input-7-6e23f6b0b5c6>\", line 18, in test_calculate_party_votes_percentage\n",
      "    party_votes_percentage = pd.read_sql(calculate_party_votes_percentage, conn)\n",
      "  File \"/Users/kuoyaojen/pyda/lib/python3.6/site-packages/pandas/io/sql.py\", line 489, in read_sql\n",
      "    chunksize=chunksize,\n",
      "  File \"/Users/kuoyaojen/pyda/lib/python3.6/site-packages/pandas/io/sql.py\", line 1728, in read_query\n",
      "    columns = [col_desc[0] for col_desc in cursor.description]\n",
      "TypeError: 'NoneType' object is not iterable\n",
      "\n",
      "======================================================================\n",
      "ERROR: test_calculate_president_votes_percentage (__main__.TestSubQuery)\n",
      "----------------------------------------------------------------------\n",
      "Traceback (most recent call last):\n",
      "  File \"<ipython-input-7-6e23f6b0b5c6>\", line 23, in test_calculate_president_votes_percentage\n",
      "    president_votes_percentage = pd.read_sql(calculate_president_votes_percentage, conn)\n",
      "  File \"/Users/kuoyaojen/pyda/lib/python3.6/site-packages/pandas/io/sql.py\", line 489, in read_sql\n",
      "    chunksize=chunksize,\n",
      "  File \"/Users/kuoyaojen/pyda/lib/python3.6/site-packages/pandas/io/sql.py\", line 1728, in read_query\n",
      "    columns = [col_desc[0] for col_desc in cursor.description]\n",
      "TypeError: 'NoneType' object is not iterable\n",
      "\n",
      "======================================================================\n",
      "ERROR: test_calculate_top_six_player_percentage (__main__.TestSubQuery)\n",
      "----------------------------------------------------------------------\n",
      "Traceback (most recent call last):\n",
      "  File \"<ipython-input-7-6e23f6b0b5c6>\", line 8, in test_calculate_top_six_player_percentage\n",
      "    top_six_player_percentage = pd.read_sql(calculate_top_six_player_percentage, conn)\n",
      "  File \"/Users/kuoyaojen/pyda/lib/python3.6/site-packages/pandas/io/sql.py\", line 489, in read_sql\n",
      "    chunksize=chunksize,\n",
      "  File \"/Users/kuoyaojen/pyda/lib/python3.6/site-packages/pandas/io/sql.py\", line 1728, in read_query\n",
      "    columns = [col_desc[0] for col_desc in cursor.description]\n",
      "TypeError: 'NoneType' object is not iterable\n",
      "\n",
      "======================================================================\n",
      "ERROR: test_find_los_angelas_lakers_roster (__main__.TestSubQuery)\n",
      "----------------------------------------------------------------------\n",
      "Traceback (most recent call last):\n",
      "  File \"<ipython-input-7-6e23f6b0b5c6>\", line 13, in test_find_los_angelas_lakers_roster\n",
      "    los_angelas_lakers_roster = pd.read_sql(find_los_angelas_lakers_roster, conn)\n",
      "  File \"/Users/kuoyaojen/pyda/lib/python3.6/site-packages/pandas/io/sql.py\", line 489, in read_sql\n",
      "    chunksize=chunksize,\n",
      "  File \"/Users/kuoyaojen/pyda/lib/python3.6/site-packages/pandas/io/sql.py\", line 1728, in read_query\n",
      "    columns = [col_desc[0] for col_desc in cursor.description]\n",
      "TypeError: 'NoneType' object is not iterable\n",
      "\n",
      "======================================================================\n",
      "ERROR: test_find_tallest_shortest_players (__main__.TestSubQuery)\n",
      "----------------------------------------------------------------------\n",
      "Traceback (most recent call last):\n",
      "  File \"<ipython-input-7-6e23f6b0b5c6>\", line 3, in test_find_tallest_shortest_players\n",
      "    tallest_shortest_players = pd.read_sql(find_tallest_shortest_players, conn)\n",
      "  File \"/Users/kuoyaojen/pyda/lib/python3.6/site-packages/pandas/io/sql.py\", line 489, in read_sql\n",
      "    chunksize=chunksize,\n",
      "  File \"/Users/kuoyaojen/pyda/lib/python3.6/site-packages/pandas/io/sql.py\", line 1728, in read_query\n",
      "    columns = [col_desc[0] for col_desc in cursor.description]\n",
      "TypeError: 'NoneType' object is not iterable\n",
      "\n",
      "----------------------------------------------------------------------\n",
      "Ran 5 tests in 0.149s\n",
      "\n",
      "FAILED (errors=5)\n"
     ]
    }
   ],
   "source": [
    "class TestSubQuery(unittest.TestCase):\n",
    "    def test_find_tallest_shortest_players(self):\n",
    "        tallest_shortest_players = pd.read_sql(find_tallest_shortest_players, conn)\n",
    "        self.assertEqual(tallest_shortest_players.shape, (5, 3))\n",
    "        np.testing.assert_equal(tallest_shortest_players['heightMeters'].values,\n",
    "                               np.array([2.26, 1.78, 1.78, 1.78, 1.78]))\n",
    "    def test_calculate_top_six_player_percentage(self):\n",
    "        top_six_player_percentage = pd.read_sql(calculate_top_six_player_percentage, conn)\n",
    "        self.assertEqual(top_six_player_percentage.shape, (6, 2))\n",
    "        np.testing.assert_equal(top_six_player_percentage['country'].values,\n",
    "                               np.array(['USA', 'Canada', 'France', 'Australia', 'Germany', 'Serbia']))\n",
    "    def test_find_los_angelas_lakers_roster(self):\n",
    "        los_angelas_lakers_roster = pd.read_sql(find_los_angelas_lakers_roster, conn)\n",
    "        self.assertEqual(los_angelas_lakers_roster.shape, (16, 2))\n",
    "        self.assertEqual(np.isin(los_angelas_lakers_roster['firstName'].values, ['LeBron', 'Anthony']).sum(), 2)\n",
    "        self.assertEqual(np.isin(los_angelas_lakers_roster['lastName'].values, ['James', 'Davis']).sum(), 2)\n",
    "    def test_calculate_party_votes_percentage(self):\n",
    "        party_votes_percentage = pd.read_sql(calculate_party_votes_percentage, conn)\n",
    "        self.assertEqual(party_votes_percentage.shape, (19, 2))\n",
    "        np.testing.assert_equal(party_votes_percentage['party'].values[:5], \n",
    "                               np.array(['民主進步黨', '中國國民黨', '台灣民眾黨', '時代力量', '親民黨']))\n",
    "    def test_calculate_president_votes_percentage(self):\n",
    "        president_votes_percentage = pd.read_sql(calculate_president_votes_percentage, conn)\n",
    "        self.assertEqual(president_votes_percentage.shape, (3, 3))\n",
    "        np.testing.assert_equal(president_votes_percentage['votes_percentage'].values, \n",
    "                               np.array(['4.26%', '38.61%', '57.13%']))\n",
    "        \n",
    "suite = unittest.TestLoader().loadTestsFromTestCase(TestSubQuery)\n",
    "runner = unittest.TextTestRunner(verbosity=2)\n",
    "test_results = runner.run(suite)\n",
    "number_of_failures = len(test_results.failures)\n",
    "number_of_errors = len(test_results.errors)\n",
    "number_of_test_runs = test_results.testsRun\n",
    "number_of_successes = number_of_test_runs - (number_of_failures + number_of_errors)"
   ]
  },
  {
   "cell_type": "code",
   "execution_count": 8,
   "metadata": {
    "deletable": false,
    "editable": false
   },
   "outputs": [
    {
     "name": "stdout",
     "output_type": "stream",
     "text": [
      "您在 5 道 SQL 練習中答對了 0 題。\n"
     ]
    }
   ],
   "source": [
    "print(\"您在 {} 道 SQL 練習中答對了 {} 題。\".format(number_of_test_runs, number_of_successes))"
   ]
  }
 ],
 "metadata": {
  "kernelspec": {
   "display_name": "Python Data Analysis",
   "language": "python",
   "name": "pyda"
  },
  "language_info": {
   "codemirror_mode": {
    "name": "ipython",
    "version": 3
   },
   "file_extension": ".py",
   "mimetype": "text/x-python",
   "name": "python",
   "nbconvert_exporter": "python",
   "pygments_lexer": "ipython3",
   "version": "3.6.8"
  }
 },
 "nbformat": 4,
 "nbformat_minor": 4
}
