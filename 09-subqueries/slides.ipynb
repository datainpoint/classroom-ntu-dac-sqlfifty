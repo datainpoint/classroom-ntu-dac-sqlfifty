{
 "cells": [
  {
   "cell_type": "markdown",
   "id": "lightweight-fruit",
   "metadata": {
    "slideshow": {
     "slide_type": "slide"
    }
   },
   "source": [
    "# SQL 的五十道練習\n",
    "\n",
    "> 包含子查詢的結構\n",
    "\n",
    "[數據交點](https://www.datainpoint.com/) | 郭耀仁 <yaojenkuo@datainpoint.com>"
   ]
  },
  {
   "cell_type": "code",
   "execution_count": 1,
   "id": "matched-spyware",
   "metadata": {
    "slideshow": {
     "slide_type": "skip"
    }
   },
   "outputs": [],
   "source": [
    "%LOAD ../databases/imdb.db"
   ]
  },
  {
   "cell_type": "code",
   "execution_count": 2,
   "id": "desperate-contest",
   "metadata": {
    "slideshow": {
     "slide_type": "skip"
    }
   },
   "outputs": [],
   "source": [
    "ATTACH \"../databases/nba.db\" AS nba;"
   ]
  },
  {
   "cell_type": "code",
   "execution_count": 3,
   "id": "located-society",
   "metadata": {
    "slideshow": {
     "slide_type": "skip"
    }
   },
   "outputs": [],
   "source": [
    "ATTACH \"../databases/twElection2020.db\" AS twElection2020;"
   ]
  },
  {
   "cell_type": "code",
   "execution_count": 4,
   "id": "positive-conservative",
   "metadata": {
    "slideshow": {
     "slide_type": "skip"
    }
   },
   "outputs": [],
   "source": [
    "ATTACH \"../databases/covid19.db\" AS covid19;"
   ]
  },
  {
   "cell_type": "markdown",
   "id": "supposed-spread",
   "metadata": {
    "slideshow": {
     "slide_type": "slide"
    }
   },
   "source": [
    "## 什麼是子查詢"
   ]
  },
  {
   "cell_type": "markdown",
   "id": "endless-sodium",
   "metadata": {
    "slideshow": {
     "slide_type": "subslide"
    }
   },
   "source": [
    "## 在「函數」的章節中，我們看過函數中包含著其他函數的使用方法\n",
    "\n",
    "前一個函數的輸出，成為下一個函數的輸入。"
   ]
  },
  {
   "cell_type": "code",
   "execution_count": 5,
   "id": "superb-principle",
   "metadata": {
    "slideshow": {
     "slide_type": "-"
    }
   },
   "outputs": [
    {
     "data": {
      "text/html": [
       "<table>\n",
       "<tr>\n",
       "<th>avg_rating</th>\n",
       "</tr>\n",
       "<tr>\n",
       "<td>8.0</td>\n",
       "</tr>\n",
       "</table>"
      ],
      "text/plain": [
       "+------------+\n",
       "| avg_rating |\n",
       "+------------+\n",
       "| 8.0        |\n",
       "+------------+"
      ]
     },
     "execution_count": 5,
     "metadata": {},
     "output_type": "execute_result"
    }
   ],
   "source": [
    "-- 函數中包含著其他函數\n",
    "SELECT ROUND(AVG(rating)) AS avg_rating \n",
    "  FROM top_rated_movies;"
   ]
  },
  {
   "cell_type": "markdown",
   "id": "cordless-relay",
   "metadata": {
    "slideshow": {
     "slide_type": "subslide"
    }
   },
   "source": [
    "## 在一段 SQL 中包含著另外一段 SQL 的使用方法，被稱為子查詢（Subquery）。"
   ]
  },
  {
   "cell_type": "markdown",
   "id": "impressive-rochester",
   "metadata": {
    "slideshow": {
     "slide_type": "subslide"
    }
   },
   "source": [
    "## 在什麼樣的情境下我們會想使用子查詢呢？\n",
    "\n",
    "- 查詢的篩選條件是必須要先做一個查詢才能得知。\n",
    "- 查詢的計算內容必須要先做一個查詢才能得知。"
   ]
  },
  {
   "cell_type": "markdown",
   "id": "continuous-nerve",
   "metadata": {
    "slideshow": {
     "slide_type": "subslide"
    }
   },
   "source": [
    "## 舉例來說，我們想知道 `top_rated_movies` IMDb 最高評價的 250 部電影中最高評價的電影是哪一部？\n",
    "\n",
    "- 先查詢最高評價的數值為多少。\n",
    "- 再以前一個查詢結果作為篩選條件。"
   ]
  },
  {
   "cell_type": "code",
   "execution_count": 6,
   "id": "provincial-smith",
   "metadata": {
    "slideshow": {
     "slide_type": "subslide"
    }
   },
   "outputs": [
    {
     "data": {
      "text/html": [
       "<table>\n",
       "<tr>\n",
       "<th>max_rating</th>\n",
       "</tr>\n",
       "<tr>\n",
       "<td>9.3</td>\n",
       "</tr>\n",
       "</table>"
      ],
      "text/plain": [
       "+------------+\n",
       "| max_rating |\n",
       "+------------+\n",
       "| 9.3        |\n",
       "+------------+"
      ]
     },
     "execution_count": 6,
     "metadata": {},
     "output_type": "execute_result"
    }
   ],
   "source": [
    "-- 先查詢最高評價的數值為多少。\n",
    "SELECT MAX(rating) AS max_rating\n",
    "  FROM top_rated_movies;"
   ]
  },
  {
   "cell_type": "code",
   "execution_count": 7,
   "id": "alternative-march",
   "metadata": {
    "slideshow": {
     "slide_type": "subslide"
    }
   },
   "outputs": [
    {
     "data": {
      "text/html": [
       "<table>\n",
       "<tr>\n",
       "<th>best_rated_title</th>\n",
       "</tr>\n",
       "<tr>\n",
       "<td>The Shawshank Redemption</td>\n",
       "</tr>\n",
       "</table>"
      ],
      "text/plain": [
       "+--------------------------+\n",
       "| best_rated_title         |\n",
       "+--------------------------+\n",
       "| The Shawshank Redemption |\n",
       "+--------------------------+"
      ]
     },
     "execution_count": 7,
     "metadata": {},
     "output_type": "execute_result"
    }
   ],
   "source": [
    "-- 再以前一個查詢結果作為篩選條件。\n",
    "SELECT title AS best_rated_title\n",
    "  FROM top_rated_movies\n",
    " WHERE rating = 9.3;"
   ]
  },
  {
   "cell_type": "code",
   "execution_count": 8,
   "id": "mighty-helena",
   "metadata": {
    "slideshow": {
     "slide_type": "subslide"
    }
   },
   "outputs": [
    {
     "data": {
      "text/html": [
       "<table>\n",
       "<tr>\n",
       "<th>best_rated_title</th>\n",
       "</tr>\n",
       "<tr>\n",
       "<td>The Shawshank Redemption</td>\n",
       "</tr>\n",
       "</table>"
      ],
      "text/plain": [
       "+--------------------------+\n",
       "| best_rated_title         |\n",
       "+--------------------------+\n",
       "| The Shawshank Redemption |\n",
       "+--------------------------+"
      ]
     },
     "execution_count": 8,
     "metadata": {},
     "output_type": "execute_result"
    }
   ],
   "source": [
    "-- 在查詢中包含前一個查詢結果的 SQL\n",
    "SELECT title AS best_rated_title\n",
    "  FROM top_rated_movies\n",
    " WHERE rating = (SELECT MAX(rating) AS max_rating\n",
    "                   FROM top_rated_movies);"
   ]
  },
  {
   "cell_type": "markdown",
   "id": "complimentary-polyester",
   "metadata": {
    "slideshow": {
     "slide_type": "subslide"
    }
   },
   "source": [
    "## 舉例來說，我們想知道 `top_rated_movies` IMDb 最高評價的 250 部電影中，在 2000 年之後上映的電影佔比為多少？\n",
    "\n",
    "- 先查詢在 2000 年之後上映的電影有幾部。\n",
    "- 再以前一個查詢結果作為計算內容。"
   ]
  },
  {
   "cell_type": "code",
   "execution_count": 9,
   "id": "changing-queen",
   "metadata": {
    "slideshow": {
     "slide_type": "subslide"
    }
   },
   "outputs": [
    {
     "data": {
      "text/html": [
       "<table>\n",
       "<tr>\n",
       "<th>n_movies</th>\n",
       "</tr>\n",
       "<tr>\n",
       "<td>99</td>\n",
       "</tr>\n",
       "</table>"
      ],
      "text/plain": [
       "+----------+\n",
       "| n_movies |\n",
       "+----------+\n",
       "| 99       |\n",
       "+----------+"
      ]
     },
     "execution_count": 9,
     "metadata": {},
     "output_type": "execute_result"
    }
   ],
   "source": [
    "-- 先查詢在 2000 年之後上映的電影有幾部。\n",
    "SELECT COUNT(*) AS n_movies\n",
    "  FROM top_rated_movies\n",
    " WHERE release_year >= 2000;"
   ]
  },
  {
   "cell_type": "code",
   "execution_count": 10,
   "id": "isolated-madrid",
   "metadata": {
    "slideshow": {
     "slide_type": "subslide"
    }
   },
   "outputs": [
    {
     "data": {
      "text/html": [
       "<table>\n",
       "<tr>\n",
       "<th>millennium_percentage</th>\n",
       "</tr>\n",
       "<tr>\n",
       "<td>0.396</td>\n",
       "</tr>\n",
       "</table>"
      ],
      "text/plain": [
       "+-----------------------+\n",
       "| millennium_percentage |\n",
       "+-----------------------+\n",
       "| 0.396                 |\n",
       "+-----------------------+"
      ]
     },
     "execution_count": 10,
     "metadata": {},
     "output_type": "execute_result"
    }
   ],
   "source": [
    "-- 再以前一個查詢結果作為計算內容。\n",
    "SELECT 99 / CAST(COUNT(*) AS REAL) AS millennium_percentage\n",
    "  FROM top_rated_movies;"
   ]
  },
  {
   "cell_type": "code",
   "execution_count": 11,
   "id": "diagnostic-dragon",
   "metadata": {
    "slideshow": {
     "slide_type": "subslide"
    }
   },
   "outputs": [
    {
     "data": {
      "text/html": [
       "<table>\n",
       "<tr>\n",
       "<th>millennium_percentage</th>\n",
       "</tr>\n",
       "<tr>\n",
       "<td>0.396</td>\n",
       "</tr>\n",
       "</table>"
      ],
      "text/plain": [
       "+-----------------------+\n",
       "| millennium_percentage |\n",
       "+-----------------------+\n",
       "| 0.396                 |\n",
       "+-----------------------+"
      ]
     },
     "execution_count": 11,
     "metadata": {},
     "output_type": "execute_result"
    }
   ],
   "source": [
    "-- 在查詢中包含前一個查詢結果的 SQL\n",
    "SELECT (SELECT COUNT(*) AS n_movies\n",
    "          FROM top_rated_movies\n",
    "         WHERE release_year >= 2000) / CAST(COUNT(*) AS REAL) AS millennium_percentage\n",
    "  FROM top_rated_movies;"
   ]
  },
  {
   "cell_type": "markdown",
   "id": "auburn-accused",
   "metadata": {
    "slideshow": {
     "slide_type": "subslide"
    }
   },
   "source": [
    "## 常見的子查詢可以分為三類：\n",
    "\n",
    "1. 將一段 SQL 查詢結果作為資料表。\n",
    "2. 將一段 SQL 查詢結果作為條件。 \n",
    "3. 將一段 SQL 查詢結果作為衍生計算欄位。"
   ]
  },
  {
   "cell_type": "markdown",
   "id": "brown-catholic",
   "metadata": {
    "slideshow": {
     "slide_type": "slide"
    }
   },
   "source": [
    "## 將一段 SQL 查詢結果作為資料表"
   ]
  },
  {
   "cell_type": "markdown",
   "id": "changed-location",
   "metadata": {
    "slideshow": {
     "slide_type": "subslide"
    }
   },
   "source": [
    "## 在 `FROM` 敘述後接另外一段 SQL 查詢\n",
    "\n",
    "```sql\n",
    "SELECT column_name\n",
    "  FROM (SELECT column_name FROM table_name) AS alias;\n",
    "```"
   ]
  },
  {
   "cell_type": "code",
   "execution_count": 12,
   "id": "hazardous-mattress",
   "metadata": {
    "slideshow": {
     "slide_type": "subslide"
    }
   },
   "outputs": [
    {
     "data": {
      "text/html": [
       "<table>\n",
       "<tr>\n",
       "<th>release_year</th>\n",
       "<th>title</th>\n",
       "<th>rating</th>\n",
       "</tr>\n",
       "<tr>\n",
       "<td>1994</td>\n",
       "<td>The Shawshank Redemption</td>\n",
       "<td>9.3</td>\n",
       "</tr>\n",
       "<tr>\n",
       "<td>1994</td>\n",
       "<td>Pulp Fiction</td>\n",
       "<td>8.9</td>\n",
       "</tr>\n",
       "<tr>\n",
       "<td>1994</td>\n",
       "<td>Forrest Gump</td>\n",
       "<td>8.8</td>\n",
       "</tr>\n",
       "<tr>\n",
       "<td>1994</td>\n",
       "<td>Léon: The Professional</td>\n",
       "<td>8.5</td>\n",
       "</tr>\n",
       "<tr>\n",
       "<td>1994</td>\n",
       "<td>The Lion King</td>\n",
       "<td>8.5</td>\n",
       "</tr>\n",
       "<tr>\n",
       "<td>1994</td>\n",
       "<td>Three Colors: Red</td>\n",
       "<td>8.1</td>\n",
       "</tr>\n",
       "</table>"
      ],
      "text/plain": [
       "+--------------+--------------------------+--------+\n",
       "| release_year | title                    | rating |\n",
       "+--------------+--------------------------+--------+\n",
       "| 1994         | The Shawshank Redemption | 9.3    |\n",
       "+--------------+--------------------------+--------+\n",
       "| 1994         | Pulp Fiction             | 8.9    |\n",
       "+--------------+--------------------------+--------+\n",
       "| 1994         | Forrest Gump             | 8.8    |\n",
       "+--------------+--------------------------+--------+\n",
       "| 1994         | Léon: The Professional  | 8.5    |\n",
       "+--------------+--------------------------+--------+\n",
       "| 1994         | The Lion King            | 8.5    |\n",
       "+--------------+--------------------------+--------+\n",
       "| 1994         | Three Colors: Red        | 8.1    |\n",
       "+--------------+--------------------------+--------+"
      ]
     },
     "execution_count": 12,
     "metadata": {},
     "output_type": "execute_result"
    }
   ],
   "source": [
    "SELECT *\n",
    "  FROM (SELECT release_year,\n",
    "               title,\n",
    "               rating\n",
    "          FROM top_rated_movies\n",
    "         WHERE release_year = 1994) AS top_1994_movies;"
   ]
  },
  {
   "cell_type": "markdown",
   "id": "employed-title",
   "metadata": {
    "slideshow": {
     "slide_type": "slide"
    }
   },
   "source": [
    "## 將一段 SQL 查詢結果作為條件"
   ]
  },
  {
   "cell_type": "markdown",
   "id": "reflected-plate",
   "metadata": {
    "slideshow": {
     "slide_type": "subslide"
    }
   },
   "source": [
    "## 在 `WHERE` 敘述後接另外一段 SQL 查詢\n",
    "\n",
    "```sql\n",
    "SELECT column_name\n",
    "  FROM table_name\n",
    " WHERE condition (SELECT column_name FROM table_name);\n",
    "```"
   ]
  },
  {
   "cell_type": "code",
   "execution_count": 13,
   "id": "following-fleet",
   "metadata": {
    "slideshow": {
     "slide_type": "subslide"
    }
   },
   "outputs": [
    {
     "data": {
      "text/html": [
       "<table>\n",
       "<tr>\n",
       "<th>id</th>\n",
       "<th>title</th>\n",
       "<th>release_year</th>\n",
       "<th>rating</th>\n",
       "<th>director</th>\n",
       "<th>runtime</th>\n",
       "</tr>\n",
       "<tr>\n",
       "<td>101</td>\n",
       "<td>The Kid</td>\n",
       "<td>1921</td>\n",
       "<td>8.3</td>\n",
       "<td>Charles Chaplin</td>\n",
       "<td>68</td>\n",
       "</tr>\n",
       "</table>"
      ],
      "text/plain": [
       "+-----+---------+--------------+--------+-----------------+---------+\n",
       "| id  | title   | release_year | rating | director        | runtime |\n",
       "+-----+---------+--------------+--------+-----------------+---------+\n",
       "| 101 | The Kid | 1921         | 8.3    | Charles Chaplin | 68      |\n",
       "+-----+---------+--------------+--------+-----------------+---------+"
      ]
     },
     "execution_count": 13,
     "metadata": {},
     "output_type": "execute_result"
    }
   ],
   "source": [
    "SELECT *\n",
    "  FROM top_rated_movies\n",
    " WHERE release_year IN (SELECT MIN(release_year)\n",
    "                         FROM top_rated_movies);"
   ]
  },
  {
   "cell_type": "markdown",
   "id": "choice-lincoln",
   "metadata": {
    "slideshow": {
     "slide_type": "subslide"
    }
   },
   "source": [
    "## 在 `HAVING` 敘述後接另外一段 SQL 查詢\n",
    "\n",
    "```sql\n",
    "SELECT column_name\n",
    "  FROM table_name\n",
    " GROUP BY column_name\n",
    "HAVING condition (SELECT column_name FROM table_name);\n",
    "```"
   ]
  },
  {
   "cell_type": "code",
   "execution_count": 14,
   "id": "equivalent-swift",
   "metadata": {
    "slideshow": {
     "slide_type": "subslide"
    }
   },
   "outputs": [
    {
     "data": {
      "text/html": [
       "<table>\n",
       "<tr>\n",
       "<th>release_year</th>\n",
       "<th>avg_rating</th>\n",
       "</tr>\n",
       "<tr>\n",
       "<td>1936</td>\n",
       "<td>8.5</td>\n",
       "</tr>\n",
       "<tr>\n",
       "<td>1946</td>\n",
       "<td>8.6</td>\n",
       "</tr>\n",
       "<tr>\n",
       "<td>1972</td>\n",
       "<td>9.2</td>\n",
       "</tr>\n",
       "<tr>\n",
       "<td>1974</td>\n",
       "<td>8.6</td>\n",
       "</tr>\n",
       "<tr>\n",
       "<td>1977</td>\n",
       "<td>8.6</td>\n",
       "</tr>\n",
       "<tr>\n",
       "<td>1990</td>\n",
       "<td>8.7</td>\n",
       "</tr>\n",
       "<tr>\n",
       "<td>1991</td>\n",
       "<td>8.6</td>\n",
       "</tr>\n",
       "<tr>\n",
       "<td>1994</td>\n",
       "<td>8.7</td>\n",
       "</tr>\n",
       "<tr>\n",
       "<td>1999</td>\n",
       "<td>8.5</td>\n",
       "</tr>\n",
       "<tr>\n",
       "<td>2002</td>\n",
       "<td>8.5</td>\n",
       "</tr>\n",
       "<tr>\n",
       "<td>2008</td>\n",
       "<td>8.5</td>\n",
       "</tr>\n",
       "</table>"
      ],
      "text/plain": [
       "+--------------+------------+\n",
       "| release_year | avg_rating |\n",
       "+--------------+------------+\n",
       "| 1936         | 8.5        |\n",
       "+--------------+------------+\n",
       "| 1946         | 8.6        |\n",
       "+--------------+------------+\n",
       "| 1972         | 9.2        |\n",
       "+--------------+------------+\n",
       "| 1974         | 8.6        |\n",
       "+--------------+------------+\n",
       "| 1977         | 8.6        |\n",
       "+--------------+------------+\n",
       "| 1990         | 8.7        |\n",
       "+--------------+------------+\n",
       "| 1991         | 8.6        |\n",
       "+--------------+------------+\n",
       "| 1994         | 8.7        |\n",
       "+--------------+------------+\n",
       "| 1999         | 8.5        |\n",
       "+--------------+------------+\n",
       "| 2002         | 8.5        |\n",
       "+--------------+------------+\n",
       "| 2008         | 8.5        |\n",
       "+--------------+------------+"
      ]
     },
     "execution_count": 14,
     "metadata": {},
     "output_type": "execute_result"
    }
   ],
   "source": [
    "SELECT release_year,\n",
    "       ROUND(AVG(rating), 1) AS avg_rating \n",
    "  FROM top_rated_movies\n",
    " GROUP BY release_year\n",
    "HAVING avg_rating >= (SELECT MAX(rating) - 0.8 FROM top_rated_movies);"
   ]
  },
  {
   "cell_type": "markdown",
   "id": "delayed-valuable",
   "metadata": {
    "slideshow": {
     "slide_type": "slide"
    }
   },
   "source": [
    "## 將一段 SQL 查詢結果作為衍生計算欄位"
   ]
  },
  {
   "cell_type": "markdown",
   "id": "stylish-endorsement",
   "metadata": {
    "slideshow": {
     "slide_type": "subslide"
    }
   },
   "source": [
    "## 在 `SELECT` 敘述後接另外一段 SQL 查詢\n",
    "\n",
    "```sql\n",
    "SELECT ... (SELECT column_name FROM table_name)\n",
    "  FROM table_name;\n",
    "```"
   ]
  },
  {
   "cell_type": "code",
   "execution_count": 15,
   "id": "cardiovascular-particle",
   "metadata": {
    "slideshow": {
     "slide_type": "subslide"
    }
   },
   "outputs": [
    {
     "data": {
      "text/html": [
       "<table>\n",
       "<tr>\n",
       "<th>number</th>\n",
       "<th>candidate</th>\n",
       "<th>votes_percentage</th>\n",
       "</tr>\n",
       "<tr>\n",
       "<td>1</td>\n",
       "<td>宋楚瑜/余湘</td>\n",
       "<td>0.04</td>\n",
       "</tr>\n",
       "<tr>\n",
       "<td>2</td>\n",
       "<td>韓國瑜/張善政</td>\n",
       "<td>0.39</td>\n",
       "</tr>\n",
       "<tr>\n",
       "<td>3</td>\n",
       "<td>蔡英文/賴清德</td>\n",
       "<td>0.57</td>\n",
       "</tr>\n",
       "</table>"
      ],
      "text/plain": [
       "+--------+---------------------+------------------+\n",
       "| number | candidate           | votes_percentage |\n",
       "+--------+---------------------+------------------+\n",
       "| 1      | 宋楚瑜/余湘    | 0.04             |\n",
       "+--------+---------------------+------------------+\n",
       "| 2      | 韓國瑜/張善政 | 0.39             |\n",
       "+--------+---------------------+------------------+\n",
       "| 3      | 蔡英文/賴清德 | 0.57             |\n",
       "+--------+---------------------+------------------+"
      ]
     },
     "execution_count": 15,
     "metadata": {},
     "output_type": "execute_result"
    }
   ],
   "source": [
    "SELECT number,\n",
    "       candidate,\n",
    "       ROUND(CAST(SUM(votes) AS REAL) / (SELECT SUM(votes) FROM presidential), 2) AS votes_percentage\n",
    "  FROM presidential\n",
    " GROUP BY number;"
   ]
  },
  {
   "cell_type": "markdown",
   "id": "understanding-sudan",
   "metadata": {
    "slideshow": {
     "slide_type": "slide"
    }
   },
   "source": [
    "## 重點統整\n",
    "\n",
    "- 在一段 SQL 中包含著另外一段 SQL 的使用方法，被稱為子查詢（Subquery）。\n",
    "- 子查詢常見的應用情境\n",
    "    - 查詢的篩選條件是必須要先做一個查詢才能得知。\n",
    "    - 查詢的計算內容必須要先做一個查詢才能得知。\n",
    "- 常見的子查詢可以分為三類：\n",
    "    - 將一段 SQL 查詢結果作為資料表。\n",
    "    - 將一段 SQL 查詢結果作為條件。\n",
    "    - 將一段 SQL 查詢結果作為衍生計算欄位。"
   ]
  },
  {
   "cell_type": "markdown",
   "id": "employed-thousand",
   "metadata": {
    "slideshow": {
     "slide_type": "subslide"
    }
   },
   "source": [
    "## 目前我們會的 SQL\n",
    "\n",
    "```sql\n",
    "-- 搭配子查詢\n",
    "SELECT column_name\n",
    "  FROM table_name\n",
    " WHERE condition\n",
    " GROUP BY column_name\n",
    "HAVING condition \n",
    " ORDER BY column_name\n",
    " LIMIT m;\n",
    "```"
   ]
  }
 ],
 "metadata": {
  "celltoolbar": "Slideshow",
  "kernelspec": {
   "display_name": "xsqlite",
   "language": "sqlite",
   "name": "xsqlite"
  },
  "language_info": {
   "file_extension": "",
   "mimetype": "",
   "name": "sqlite3",
   "version": "3.30.1"
  }
 },
 "nbformat": 4,
 "nbformat_minor": 5
}
