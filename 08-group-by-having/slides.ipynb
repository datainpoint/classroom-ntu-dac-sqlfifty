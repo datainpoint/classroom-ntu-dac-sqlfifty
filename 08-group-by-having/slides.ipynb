{
 "cells": [
  {
   "cell_type": "markdown",
   "id": "lightweight-fruit",
   "metadata": {
    "slideshow": {
     "slide_type": "slide"
    }
   },
   "source": [
    "# SQL 的五十道練習\n",
    "\n",
    "> 分組與聚合結果篩選\n",
    "\n",
    "[數據交點](https://www.datainpoint.com/) | 郭耀仁 <yaojenkuo@datainpoint.com>"
   ]
  },
  {
   "cell_type": "code",
   "execution_count": 1,
   "id": "matched-spyware",
   "metadata": {
    "slideshow": {
     "slide_type": "skip"
    }
   },
   "outputs": [],
   "source": [
    "%LOAD ../databases/imdb.db"
   ]
  },
  {
   "cell_type": "code",
   "execution_count": 2,
   "id": "desperate-contest",
   "metadata": {
    "slideshow": {
     "slide_type": "skip"
    }
   },
   "outputs": [],
   "source": [
    "ATTACH \"../databases/nba.db\" AS nba;"
   ]
  },
  {
   "cell_type": "code",
   "execution_count": 3,
   "id": "located-society",
   "metadata": {
    "slideshow": {
     "slide_type": "skip"
    }
   },
   "outputs": [],
   "source": [
    "ATTACH \"../databases/twElection2020.db\" AS twElection2020;"
   ]
  },
  {
   "cell_type": "code",
   "execution_count": 4,
   "id": "positive-conservative",
   "metadata": {
    "slideshow": {
     "slide_type": "skip"
    }
   },
   "outputs": [],
   "source": [
    "ATTACH \"../databases/covid19.db\" AS covid19;"
   ]
  },
  {
   "cell_type": "markdown",
   "id": "supposed-spread",
   "metadata": {
    "slideshow": {
     "slide_type": "slide"
    }
   },
   "source": [
    "## 以 `GROUP BY` 敘述分組"
   ]
  },
  {
   "cell_type": "markdown",
   "id": "endless-sodium",
   "metadata": {
    "slideshow": {
     "slide_type": "subslide"
    }
   },
   "source": [
    "## 使用分組 `GROUP BY` 敘述的時候可以視為 `DISTINCT` 與 `ORDER BY` 兩個敘述同時作用。"
   ]
  },
  {
   "cell_type": "code",
   "execution_count": 5,
   "id": "loose-script",
   "metadata": {},
   "outputs": [
    {
     "data": {
      "text/html": [
       "<table>\n",
       "<tr>\n",
       "<th>distinct_pos</th>\n",
       "</tr>\n",
       "<tr>\n",
       "<td>C</td>\n",
       "</tr>\n",
       "<tr>\n",
       "<td>C-F</td>\n",
       "</tr>\n",
       "<tr>\n",
       "<td>F</td>\n",
       "</tr>\n",
       "<tr>\n",
       "<td>F-C</td>\n",
       "</tr>\n",
       "<tr>\n",
       "<td>F-G</td>\n",
       "</tr>\n",
       "<tr>\n",
       "<td>G</td>\n",
       "</tr>\n",
       "<tr>\n",
       "<td>G-F</td>\n",
       "</tr>\n",
       "</table>"
      ],
      "text/plain": [
       "+--------------+\n",
       "| distinct_pos |\n",
       "+--------------+\n",
       "| C            |\n",
       "+--------------+\n",
       "| C-F          |\n",
       "+--------------+\n",
       "| F            |\n",
       "+--------------+\n",
       "| F-C          |\n",
       "+--------------+\n",
       "| F-G          |\n",
       "+--------------+\n",
       "| G            |\n",
       "+--------------+\n",
       "| G-F          |\n",
       "+--------------+"
      ]
     },
     "execution_count": 5,
     "metadata": {},
     "output_type": "execute_result"
    }
   ],
   "source": [
    "-- DISTINCT 與 ORDER BY 兩個敘述同時作用\n",
    "SELECT DISTINCT pos AS distinct_pos\n",
    "  FROM players\n",
    " ORDER BY distinct_pos;"
   ]
  },
  {
   "cell_type": "code",
   "execution_count": 6,
   "id": "annoying-milton",
   "metadata": {
    "slideshow": {
     "slide_type": "subslide"
    }
   },
   "outputs": [
    {
     "data": {
      "text/html": [
       "<table>\n",
       "<tr>\n",
       "<th>distinct_pos</th>\n",
       "</tr>\n",
       "<tr>\n",
       "<td>C</td>\n",
       "</tr>\n",
       "<tr>\n",
       "<td>C-F</td>\n",
       "</tr>\n",
       "<tr>\n",
       "<td>F</td>\n",
       "</tr>\n",
       "<tr>\n",
       "<td>F-C</td>\n",
       "</tr>\n",
       "<tr>\n",
       "<td>F-G</td>\n",
       "</tr>\n",
       "<tr>\n",
       "<td>G</td>\n",
       "</tr>\n",
       "<tr>\n",
       "<td>G-F</td>\n",
       "</tr>\n",
       "</table>"
      ],
      "text/plain": [
       "+--------------+\n",
       "| distinct_pos |\n",
       "+--------------+\n",
       "| C            |\n",
       "+--------------+\n",
       "| C-F          |\n",
       "+--------------+\n",
       "| F            |\n",
       "+--------------+\n",
       "| F-C          |\n",
       "+--------------+\n",
       "| F-G          |\n",
       "+--------------+\n",
       "| G            |\n",
       "+--------------+\n",
       "| G-F          |\n",
       "+--------------+"
      ]
     },
     "execution_count": 6,
     "metadata": {},
     "output_type": "execute_result"
    }
   ],
   "source": [
    "-- 使用分組 GROUP BY 敘述\n",
    "SELECT pos AS distinct_pos\n",
    "  FROM players\n",
    " GROUP BY pos;"
   ]
  },
  {
   "cell_type": "markdown",
   "id": "olympic-advertiser",
   "metadata": {
    "slideshow": {
     "slide_type": "subslide"
    }
   },
   "source": [
    "## 在「函數」的章節中，我們介紹過一種「用來彙總資訊」的函數，稱為聚合函數（Aggregate functions）。"
   ]
  },
  {
   "cell_type": "markdown",
   "id": "available-anchor",
   "metadata": {
    "slideshow": {
     "slide_type": "subslide"
    }
   },
   "source": [
    "## 單獨使用聚合函數的時候，是將一整欄變數的資訊彙總後輸出。"
   ]
  },
  {
   "cell_type": "code",
   "execution_count": 7,
   "id": "instrumental-dinner",
   "metadata": {},
   "outputs": [
    {
     "data": {
      "text/html": [
       "<table>\n",
       "<tr>\n",
       "<th>height_meters_avg</th>\n",
       "</tr>\n",
       "<tr>\n",
       "<td>1.98917171717171</td>\n",
       "</tr>\n",
       "</table>"
      ],
      "text/plain": [
       "+-------------------+\n",
       "| height_meters_avg |\n",
       "+-------------------+\n",
       "| 1.98917171717171  |\n",
       "+-------------------+"
      ]
     },
     "execution_count": 7,
     "metadata": {},
     "output_type": "execute_result"
    }
   ],
   "source": [
    "-- 所有球員的平均身高\n",
    "SELECT AVG(heightMeters) AS height_meters_avg\n",
    "  FROM players;"
   ]
  },
  {
   "cell_type": "markdown",
   "id": "declared-pendant",
   "metadata": {
    "slideshow": {
     "slide_type": "subslide"
    }
   },
   "source": [
    "## 假如現在希望計算不同 `pos`（鋒衛位置）的球員平均身高，現在的我們可以怎麼做？\n",
    "\n",
    "- 先知道有哪些鋒衛位置。\n",
    "- 篩選不同鋒衛位置的球員，一一計算平均身高。"
   ]
  },
  {
   "cell_type": "code",
   "execution_count": 8,
   "id": "wooden-humanity",
   "metadata": {
    "slideshow": {
     "slide_type": "subslide"
    }
   },
   "outputs": [
    {
     "data": {
      "text/html": [
       "<table>\n",
       "<tr>\n",
       "<th>pos</th>\n",
       "</tr>\n",
       "<tr>\n",
       "<td>F</td>\n",
       "</tr>\n",
       "<tr>\n",
       "<td>C-F</td>\n",
       "</tr>\n",
       "<tr>\n",
       "<td>G-F</td>\n",
       "</tr>\n",
       "<tr>\n",
       "<td>G</td>\n",
       "</tr>\n",
       "<tr>\n",
       "<td>F-G</td>\n",
       "</tr>\n",
       "<tr>\n",
       "<td>C</td>\n",
       "</tr>\n",
       "<tr>\n",
       "<td>F-C</td>\n",
       "</tr>\n",
       "</table>"
      ],
      "text/plain": [
       "+-----+\n",
       "| pos |\n",
       "+-----+\n",
       "| F   |\n",
       "+-----+\n",
       "| C-F |\n",
       "+-----+\n",
       "| G-F |\n",
       "+-----+\n",
       "| G   |\n",
       "+-----+\n",
       "| F-G |\n",
       "+-----+\n",
       "| C   |\n",
       "+-----+\n",
       "| F-C |\n",
       "+-----+"
      ]
     },
     "execution_count": 8,
     "metadata": {},
     "output_type": "execute_result"
    }
   ],
   "source": [
    "-- 先知道有哪些鋒衛位置\n",
    "SELECT DISTINCT pos\n",
    "  FROM players;"
   ]
  },
  {
   "cell_type": "markdown",
   "id": "local-proceeding",
   "metadata": {
    "slideshow": {
     "slide_type": "subslide"
    }
   },
   "source": [
    "## 篩選不同鋒衛位置的球員，一一計算平均身高\n",
    "\n",
    "```sql\n",
    "SELECT AVG(heightMeters) AS forward_avg_height_meters\n",
    "  FROM players\n",
    " WHERE pos = 'F';\n",
    "SELECT AVG(heightMeters) AS center_forward_avg_height_meters\n",
    "  FROM players\n",
    " WHERE pos = 'C-F';\n",
    "SELECT AVG(heightMeters) AS guard_forward_avg_height_meters\n",
    "  FROM players\n",
    " WHERE pos = 'G-F';\n",
    "SELECT AVG(heightMeters) AS guard_avg_height_meters\n",
    "  FROM players\n",
    " WHERE pos = 'G';\n",
    "```"
   ]
  },
  {
   "cell_type": "markdown",
   "id": "difficult-bahrain",
   "metadata": {
    "slideshow": {
     "slide_type": "subslide"
    }
   },
   "source": [
    "## 篩選不同鋒衛位置的球員，一一計算平均身高\n",
    "\n",
    "```sql\n",
    "SELECT AVG(heightMeters) AS forward_guard_avg_height_meters\n",
    "  FROM players\n",
    " WHERE pos = 'F-G';\n",
    "SELECT AVG(heightMeters) AS center_avg_height_meters\n",
    "  FROM players\n",
    " WHERE pos = 'C';\n",
    "SELECT AVG(heightMeters) AS forward_center_avg_height_meters\n",
    "  FROM players\n",
    " WHERE pos = 'F-C';\n",
    "```"
   ]
  },
  {
   "cell_type": "markdown",
   "id": "weird-houston",
   "metadata": {
    "slideshow": {
     "slide_type": "subslide"
    }
   },
   "source": [
    "## 結合聚合函數與 `GROUP BY` 敘述可以便捷地完成分組聚合\n",
    "\n",
    "```sql\n",
    "-- GROUP BY 敘述\n",
    "SELECT AGGREGATE_FUNCTION(column_name) AS alias\n",
    "  FROM table_name\n",
    " GROUP BY column_name;\n",
    "```"
   ]
  },
  {
   "cell_type": "code",
   "execution_count": 9,
   "id": "three-pressure",
   "metadata": {
    "slideshow": {
     "slide_type": "subslide"
    }
   },
   "outputs": [
    {
     "data": {
      "text/html": [
       "<table>\n",
       "<tr>\n",
       "<th>pos</th>\n",
       "<th>avg_height_meters</th>\n",
       "</tr>\n",
       "<tr>\n",
       "<td>C</td>\n",
       "<td>2.12</td>\n",
       "</tr>\n",
       "<tr>\n",
       "<td>C-F</td>\n",
       "<td>2.1</td>\n",
       "</tr>\n",
       "<tr>\n",
       "<td>F</td>\n",
       "<td>2.02</td>\n",
       "</tr>\n",
       "<tr>\n",
       "<td>F-C</td>\n",
       "<td>2.08</td>\n",
       "</tr>\n",
       "<tr>\n",
       "<td>F-G</td>\n",
       "<td>2.0</td>\n",
       "</tr>\n",
       "<tr>\n",
       "<td>G</td>\n",
       "<td>1.91</td>\n",
       "</tr>\n",
       "<tr>\n",
       "<td>G-F</td>\n",
       "<td>1.98</td>\n",
       "</tr>\n",
       "</table>"
      ],
      "text/plain": [
       "+-----+-------------------+\n",
       "| pos | avg_height_meters |\n",
       "+-----+-------------------+\n",
       "| C   | 2.12              |\n",
       "+-----+-------------------+\n",
       "| C-F | 2.1               |\n",
       "+-----+-------------------+\n",
       "| F   | 2.02              |\n",
       "+-----+-------------------+\n",
       "| F-C | 2.08              |\n",
       "+-----+-------------------+\n",
       "| F-G | 2.0               |\n",
       "+-----+-------------------+\n",
       "| G   | 1.91              |\n",
       "+-----+-------------------+\n",
       "| G-F | 1.98              |\n",
       "+-----+-------------------+"
      ]
     },
     "execution_count": 9,
     "metadata": {},
     "output_type": "execute_result"
    }
   ],
   "source": [
    "-- 計算不同 pos（鋒衛位置）的球員平均身高\n",
    "SELECT pos,\n",
    "       ROUND(AVG(heightMeters), 2) AS avg_height_meters\n",
    "  FROM players\n",
    " GROUP BY pos;"
   ]
  },
  {
   "cell_type": "markdown",
   "id": "fatal-capital",
   "metadata": {
    "slideshow": {
     "slide_type": "subslide"
    }
   },
   "source": [
    "## `GROUP BY` 敘述後可以加入不只一個變數"
   ]
  },
  {
   "cell_type": "code",
   "execution_count": 10,
   "id": "expensive-studio",
   "metadata": {},
   "outputs": [
    {
     "data": {
      "text/html": [
       "<table>\n",
       "<tr>\n",
       "<th>confName</th>\n",
       "<th>divName</th>\n",
       "<th>n_teams</th>\n",
       "</tr>\n",
       "<tr>\n",
       "<td>East</td>\n",
       "<td>Atlantic</td>\n",
       "<td>5</td>\n",
       "</tr>\n",
       "<tr>\n",
       "<td>East</td>\n",
       "<td>Central</td>\n",
       "<td>5</td>\n",
       "</tr>\n",
       "<tr>\n",
       "<td>East</td>\n",
       "<td>Southeast</td>\n",
       "<td>5</td>\n",
       "</tr>\n",
       "<tr>\n",
       "<td>West</td>\n",
       "<td>Northwest</td>\n",
       "<td>5</td>\n",
       "</tr>\n",
       "<tr>\n",
       "<td>West</td>\n",
       "<td>Pacific</td>\n",
       "<td>5</td>\n",
       "</tr>\n",
       "<tr>\n",
       "<td>West</td>\n",
       "<td>Southwest</td>\n",
       "<td>5</td>\n",
       "</tr>\n",
       "</table>"
      ],
      "text/plain": [
       "+----------+-----------+---------+\n",
       "| confName | divName   | n_teams |\n",
       "+----------+-----------+---------+\n",
       "| East     | Atlantic  | 5       |\n",
       "+----------+-----------+---------+\n",
       "| East     | Central   | 5       |\n",
       "+----------+-----------+---------+\n",
       "| East     | Southeast | 5       |\n",
       "+----------+-----------+---------+\n",
       "| West     | Northwest | 5       |\n",
       "+----------+-----------+---------+\n",
       "| West     | Pacific   | 5       |\n",
       "+----------+-----------+---------+\n",
       "| West     | Southwest | 5       |\n",
       "+----------+-----------+---------+"
      ]
     },
     "execution_count": 10,
     "metadata": {},
     "output_type": "execute_result"
    }
   ],
   "source": [
    "SELECT confName,\n",
    "       divName,\n",
    "       COUNT(*) AS n_teams\n",
    "  FROM teams\n",
    " GROUP BY confName,\n",
    "          divName;"
   ]
  },
  {
   "cell_type": "markdown",
   "id": "existing-integrity",
   "metadata": {
    "slideshow": {
     "slide_type": "slide"
    }
   },
   "source": [
    "## 以 `HAVING` 敘述篩選分組聚合結果"
   ]
  },
  {
   "cell_type": "markdown",
   "id": "humanitarian-undergraduate",
   "metadata": {
    "slideshow": {
     "slide_type": "subslide"
    }
   },
   "source": [
    "## 篩選查詢結果的敘述有兩個：\n",
    "\n",
    "1. 作用在「觀測值」的 `WHERE` 敘述。\n",
    "2. 作用在「分組聚合結果」的 `HAVING` 敘述。"
   ]
  },
  {
   "cell_type": "markdown",
   "id": "graphic-collar",
   "metadata": {
    "slideshow": {
     "slide_type": "subslide"
    }
   },
   "source": [
    "## 作用在「分組聚合結果」的 `HAVING` 敘述\n",
    "\n",
    "```sql\n",
    "-- HAVING 敘述\n",
    "SELECT AGGREcolumn_name\n",
    "  FROM table_name\n",
    " GROUP BY column_name\n",
    "HAVING condition;\n",
    "```"
   ]
  },
  {
   "cell_type": "code",
   "execution_count": 11,
   "id": "defined-beach",
   "metadata": {
    "slideshow": {
     "slide_type": "subslide"
    }
   },
   "outputs": [
    {
     "data": {
      "text/html": [
       "<table>\n",
       "<tr>\n",
       "<th>pos</th>\n",
       "<th>avg_height_meters</th>\n",
       "</tr>\n",
       "<tr>\n",
       "<td>C</td>\n",
       "<td>2.12</td>\n",
       "</tr>\n",
       "<tr>\n",
       "<td>C-F</td>\n",
       "<td>2.1</td>\n",
       "</tr>\n",
       "<tr>\n",
       "<td>F</td>\n",
       "<td>2.02</td>\n",
       "</tr>\n",
       "<tr>\n",
       "<td>F-C</td>\n",
       "<td>2.08</td>\n",
       "</tr>\n",
       "<tr>\n",
       "<td>F-G</td>\n",
       "<td>2.0</td>\n",
       "</tr>\n",
       "</table>"
      ],
      "text/plain": [
       "+-----+-------------------+\n",
       "| pos | avg_height_meters |\n",
       "+-----+-------------------+\n",
       "| C   | 2.12              |\n",
       "+-----+-------------------+\n",
       "| C-F | 2.1               |\n",
       "+-----+-------------------+\n",
       "| F   | 2.02              |\n",
       "+-----+-------------------+\n",
       "| F-C | 2.08              |\n",
       "+-----+-------------------+\n",
       "| F-G | 2.0               |\n",
       "+-----+-------------------+"
      ]
     },
     "execution_count": 11,
     "metadata": {},
     "output_type": "execute_result"
    }
   ],
   "source": [
    "-- 篩選分組聚合結果\n",
    "SELECT pos,\n",
    "       ROUND(AVG(heightMeters), 2) AS avg_height_meters\n",
    "  FROM players\n",
    " GROUP BY pos\n",
    "HAVING AVG(heightMeters) > 2;"
   ]
  },
  {
   "cell_type": "code",
   "execution_count": 12,
   "id": "opening-therapy",
   "metadata": {},
   "outputs": [
    {
     "data": {
      "text/html": [
       "<table>\n",
       "<tr>\n",
       "<th>pos</th>\n",
       "<th>avg_height_meters</th>\n",
       "</tr>\n",
       "<tr>\n",
       "<td>C</td>\n",
       "<td>2.12</td>\n",
       "</tr>\n",
       "<tr>\n",
       "<td>C-F</td>\n",
       "<td>2.1</td>\n",
       "</tr>\n",
       "<tr>\n",
       "<td>F</td>\n",
       "<td>2.02</td>\n",
       "</tr>\n",
       "<tr>\n",
       "<td>F-C</td>\n",
       "<td>2.08</td>\n",
       "</tr>\n",
       "</table>"
      ],
      "text/plain": [
       "+-----+-------------------+\n",
       "| pos | avg_height_meters |\n",
       "+-----+-------------------+\n",
       "| C   | 2.12              |\n",
       "+-----+-------------------+\n",
       "| C-F | 2.1               |\n",
       "+-----+-------------------+\n",
       "| F   | 2.02              |\n",
       "+-----+-------------------+\n",
       "| F-C | 2.08              |\n",
       "+-----+-------------------+"
      ]
     },
     "execution_count": 12,
     "metadata": {},
     "output_type": "execute_result"
    }
   ],
   "source": [
    "-- 篩選平均身高超過 2 公尺的查詢結果\n",
    "SELECT pos,\n",
    "       ROUND(AVG(heightMeters), 2) AS avg_height_meters\n",
    "  FROM players\n",
    " GROUP BY pos\n",
    "HAVING avg_height_meters > 2;"
   ]
  },
  {
   "cell_type": "markdown",
   "id": "understanding-sudan",
   "metadata": {
    "slideshow": {
     "slide_type": "slide"
    }
   },
   "source": [
    "## 重點統整\n",
    "\n",
    "- 使用分組 `GROUP BY` 敘述的時候可以視為 `DISTINCT` 與 `ORDER BY` 兩個敘述同時作用。\n",
    "- 結合聚合函數與 `GROUP BY` 敘述可以便捷地完成分組聚合。\n",
    "- 以 `HAVING` 敘述篩選分組聚合結果。"
   ]
  },
  {
   "cell_type": "markdown",
   "id": "employed-thousand",
   "metadata": {
    "slideshow": {
     "slide_type": "subslide"
    }
   },
   "source": [
    "## 目前我們會的 SQL\n",
    "\n",
    "```sql\n",
    "SELECT column_name\n",
    "  FROM table_name\n",
    " WHERE condition\n",
    " GROUP BY column_name\n",
    "HAVING condition\n",
    " ORDER BY column_name\n",
    " LIMIT m;\n",
    "```"
   ]
  }
 ],
 "metadata": {
  "celltoolbar": "Slideshow",
  "kernelspec": {
   "display_name": "xsqlite",
   "language": "sqlite",
   "name": "xsqlite"
  },
  "language_info": {
   "file_extension": "",
   "mimetype": "",
   "name": "sqlite3",
   "version": "3.30.1"
  }
 },
 "nbformat": 4,
 "nbformat_minor": 5
}
