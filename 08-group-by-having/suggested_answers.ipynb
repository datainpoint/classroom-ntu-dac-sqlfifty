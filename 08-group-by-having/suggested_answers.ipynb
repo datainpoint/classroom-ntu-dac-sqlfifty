{
 "cells": [
  {
   "cell_type": "markdown",
   "metadata": {
    "deletable": false,
    "editable": false
   },
   "source": [
    "# SQL 的五十道練習\n",
    "\n",
    "> 分組與聚合結果篩選\n",
    "\n",
    "郭耀仁 <yaojenkuo@datainpoint.com>，[數據交點](https://www.datainpoint.com)"
   ]
  },
  {
   "cell_type": "code",
   "execution_count": 1,
   "metadata": {
    "deletable": false,
    "editable": false
   },
   "outputs": [
    {
     "data": {
      "text/plain": [
       "<sqlite3.Cursor at 0x7fd47cb69650>"
      ]
     },
     "execution_count": 1,
     "metadata": {},
     "output_type": "execute_result"
    }
   ],
   "source": [
    "import sqlite3\n",
    "import unittest\n",
    "import numpy as np\n",
    "import pandas as pd\n",
    "conn = sqlite3.connect('../databases/nba.db')\n",
    "conn.execute(\"\"\"ATTACH '../databases/covid19.db' AS covid19\"\"\")\n",
    "conn.execute(\"\"\"ATTACH '../databases/twElection2020.db' AS twElection2020\"\"\")\n",
    "conn.execute(\"\"\"ATTACH '../databases/imdb.db' AS imdb\"\"\")"
   ]
  },
  {
   "cell_type": "markdown",
   "metadata": {},
   "source": [
    "## 從新冠肺炎的每日報告資料表 `daily_report` 中以 `Country_Region` 作分組，聚合加總 `Confirmed` 變數，暸解截至 2021-01-31 世界各國的確診人數。選擇 ` Country_Region` 與 `n_confirmed` 欄位，並且以 `n_confirmed` 遞減排序。\n",
    "\n",
    "- 預期輸入：SQL 查詢語法。\n",
    "- 預期輸出：(192, 2) 的查詢結果。\n",
    "\n",
    "```\n",
    "       Country_Region  n_confirmed\n",
    "0                  US     26186781\n",
    "1               India     10757610\n",
    "2              Brazil      9204731\n",
    "3      United Kingdom      3828183\n",
    "4              Russia      3808348\n",
    "..                ...          ...\n",
    "187        MS Zaandam            9\n",
    "188  Marshall Islands            4\n",
    "189             Samoa            2\n",
    "190        Micronesia            1\n",
    "191           Vanuatu            1\n",
    "\n",
    "[192 rows x 2 columns]\n",
    "```"
   ]
  },
  {
   "cell_type": "code",
   "execution_count": 2,
   "metadata": {},
   "outputs": [],
   "source": [
    "sum_n_confirmed_by_country_region =\\\n",
    "\"\"\"\n",
    "-- SQL 查詢語法起點\n",
    "SELECT Country_Region,\n",
    "       SUM(Confirmed) AS n_confirmed\n",
    "  FROM daily_report\n",
    " GROUP BY Country_Region\n",
    " ORDER BY n_confirmed DESC,\n",
    "          Country_Region;\n",
    "-- SQL 查詢語法終點\n",
    "\"\"\""
   ]
  },
  {
   "cell_type": "markdown",
   "metadata": {},
   "source": [
    "## 承接上題，從新冠肺炎的每日報告資料表 `daily_report` 中以 `Country_Region` 作分組，聚合加總 `Confirmed` 變數，暸解截至 2021-01-31 世界各國的確診人數。選擇 ` Country_Region` 與 `n_confirmed` 欄位，並且以 `n_confirmed` 遞減排序，只顯示確診人數在 100 萬以上的國家。\n",
    "\n",
    "- 預期輸入：SQL 查詢語法。\n",
    "- 預期輸出：(19, 2) 的查詢結果。\n",
    "\n",
    "```\n",
    "    Country_Region  n_confirmed\n",
    "0               US     26186781\n",
    "1            India     10757610\n",
    "2           Brazil      9204731\n",
    "3   United Kingdom      3828183\n",
    "4           Russia      3808348\n",
    "5           France      3255920\n",
    "6            Spain      2743119\n",
    "7            Italy      2553032\n",
    "8           Turkey      2477463\n",
    "9          Germany      2225659\n",
    "10        Colombia      2094884\n",
    "11       Argentina      1927239\n",
    "12          Mexico      1864260\n",
    "13          Poland      1513385\n",
    "14    South Africa      1453761\n",
    "15            Iran      1417999\n",
    "16         Ukraine      1261546\n",
    "17            Peru      1138239\n",
    "18       Indonesia      1078314\n",
    "```"
   ]
  },
  {
   "cell_type": "code",
   "execution_count": 3,
   "metadata": {},
   "outputs": [],
   "source": [
    "having_n_confirmed_by_country_region =\\\n",
    "\"\"\"\n",
    "-- SQL 查詢語法起點\n",
    "SELECT Country_Region,\n",
    "       SUM(Confirmed) AS n_confirmed\n",
    "  FROM daily_report\n",
    " GROUP BY Country_Region\n",
    "HAVING n_confirmed > 1000000\n",
    " ORDER BY n_confirmed DESC,\n",
    "          Country_Region;\n",
    "-- SQL 查詢語法終點\n",
    "\"\"\""
   ]
  },
  {
   "cell_type": "markdown",
   "metadata": {},
   "source": [
    "## 從台灣 2020 總統副總統的各投票所得票明細資料表 `presidential` 中以 `number` 作分組，聚合加總 `votes` 變數，暸解台灣 2020 總統副總統的選舉結果，選擇 ` number`、`candidate` 與 `n_votes` 欄位。\n",
    "\n",
    "- 預期輸入：SQL 查詢語法。\n",
    "- 預期輸出：(3, 3) 的查詢結果。\n",
    "\n",
    "```\n",
    "  number candidate  n_votes\n",
    "0      1    宋楚瑜/余湘   608590\n",
    "1      2   韓國瑜/張善政  5522119\n",
    "2      3   蔡英文/賴清德  8170231\n",
    "```"
   ]
  },
  {
   "cell_type": "code",
   "execution_count": 4,
   "metadata": {},
   "outputs": [],
   "source": [
    "sum_votes_by_number =\\\n",
    "\"\"\"\n",
    "-- SQL 查詢語法起點\n",
    "SELECT number,\n",
    "       candidate,\n",
    "       SUM(votes) AS n_votes\n",
    "  FROM presidential\n",
    " GROUP BY number;\n",
    "-- SQL 查詢語法終點\n",
    "\"\"\""
   ]
  },
  {
   "cell_type": "markdown",
   "metadata": {},
   "source": [
    "## 從球員的基本資料表 `players` 中以 `country` 作分組，聚合計算觀測值列數，暸解截至 2021-01-31 NBA 由哪些國家的藍球員所組成，選擇 ` country` 與 `n_players` 欄位，並且以 `n_players` 遞減排序。\n",
    "\n",
    "- 預期輸入：SQL 查詢語法。\n",
    "- 預期輸出：(43, 2) 的查詢結果。\n",
    "\n",
    "```\n",
    "                   country  n_players\n",
    "0                      USA        381\n",
    "1                   Canada         18\n",
    "2                   France         11\n",
    "3                Australia          9\n",
    "4                  Germany          6\n",
    "5                   Serbia          6\n",
    "6                  Croatia          4\n",
    "7                    Spain          4\n",
    "8                   Greece          3\n",
    "9                    Italy          3\n",
    "10                  Latvia          3\n",
    "11               Lithuania          3\n",
    "12                 Nigeria          3\n",
    "13                 Senegal          3\n",
    "14                Slovenia          3\n",
    "15                  Turkey          3\n",
    "16                 Bahamas          2\n",
    "17                  Brazil          2\n",
    "18                Cameroon          2\n",
    "19                   Japan          2\n",
    "20                 Ukraine          2\n",
    "21                  Angola          1\n",
    "22               Argentina          1\n",
    "23                 Austria          1\n",
    "24  Bosnia and Herzegovina          1\n",
    "25          Czech Republic          1\n",
    "26                     DRC          1\n",
    "27      Dominican Republic          1\n",
    "28                   Egypt          1\n",
    "29                 Finland          1\n",
    "30                   Gabon          1\n",
    "31                 Georgia          1\n",
    "32                  Guinea          1\n",
    "33                  Israel          1\n",
    "34                 Jamaica          1\n",
    "35              Montenegro          1\n",
    "36             New Zealand          1\n",
    "37   Republic of the Congo          1\n",
    "38             Saint Lucia          1\n",
    "39             South Sudan          1\n",
    "40                   Sudan          1\n",
    "41             Switzerland          1\n",
    "42          United Kingdom          1\n",
    "```"
   ]
  },
  {
   "cell_type": "code",
   "execution_count": 5,
   "metadata": {},
   "outputs": [],
   "source": [
    "count_n_players_by_country =\\\n",
    "\"\"\"\n",
    "-- SQL 查詢語法起點\n",
    "SELECT country,\n",
    "       COUNT(*) AS n_players\n",
    "  FROM players\n",
    " GROUP BY country\n",
    " ORDER BY n_players DESC;\n",
    "-- SQL 查詢語法終點\n",
    "\"\"\""
   ]
  },
  {
   "cell_type": "markdown",
   "metadata": {},
   "source": [
    "## 承接上題，從球員的基本資料表 `players` 中以 `country` 作分組，聚合計算觀測值列數，暸解截至 2021-01-31 NBA 由哪些國家的藍球員所組成，選擇 ` country` 與 `n_players` 欄位，並且以 `n_players` 遞減排序，只顯示 NBA 球員人數剛好是 2 個或 3 個的國家。\n",
    "\n",
    "- 預期輸入：SQL 查詢語法。\n",
    "- 預期輸出：(13, 2) 的查詢結果。\n",
    "\n",
    "```\n",
    "      country  n_players\n",
    "0      Greece          3\n",
    "1       Italy          3\n",
    "2      Latvia          3\n",
    "3   Lithuania          3\n",
    "4     Nigeria          3\n",
    "5     Senegal          3\n",
    "6    Slovenia          3\n",
    "7      Turkey          3\n",
    "8     Bahamas          2\n",
    "9      Brazil          2\n",
    "10   Cameroon          2\n",
    "11      Japan          2\n",
    "12    Ukraine          2\n",
    "```"
   ]
  },
  {
   "cell_type": "code",
   "execution_count": 6,
   "metadata": {},
   "outputs": [],
   "source": [
    "having_n_players_by_country =\\\n",
    "\"\"\"\n",
    "-- SQL 查詢語法起點\n",
    "SELECT country,\n",
    "       COUNT(*) AS n_players\n",
    "  FROM players\n",
    " GROUP BY country\n",
    "HAVING n_players BETWEEN 2 and 3\n",
    " ORDER BY n_players DESC;\n",
    "-- SQL 查詢語法終點\n",
    "\"\"\""
   ]
  },
  {
   "cell_type": "markdown",
   "metadata": {
    "deletable": false,
    "editable": false
   },
   "source": [
    "## 執行測試！\n",
    "\n",
    "Kernel -> Restart & Run All."
   ]
  },
  {
   "cell_type": "code",
   "execution_count": 7,
   "metadata": {
    "deletable": false,
    "editable": false
   },
   "outputs": [
    {
     "name": "stderr",
     "output_type": "stream",
     "text": [
      "test_count_n_players_by_country (__main__.TestGroupByHaving) ... ok\n",
      "test_having_n_confirmed_by_country_region (__main__.TestGroupByHaving) ... ok\n",
      "test_having_n_players_by_country (__main__.TestGroupByHaving) ... ok\n",
      "test_sum_n_confirmed_by_country_region (__main__.TestGroupByHaving) ... ok\n",
      "test_sum_votes_by_number (__main__.TestGroupByHaving) ... ok\n",
      "\n",
      "----------------------------------------------------------------------\n",
      "Ran 5 tests in 0.224s\n",
      "\n",
      "OK\n"
     ]
    }
   ],
   "source": [
    "class TestGroupByHaving(unittest.TestCase):\n",
    "    def test_sum_n_confirmed_by_country_region(self):\n",
    "        n_confirmed_by_country_region = pd.read_sql(sum_n_confirmed_by_country_region, conn)\n",
    "        self.assertEqual(n_confirmed_by_country_region.shape, (192, 2))\n",
    "        np.testing.assert_equal(n_confirmed_by_country_region['Country_Region'].values[:5],\n",
    "                               np.array(['US', 'India', 'Brazil', 'United Kingdom', 'Russia']))\n",
    "        np.testing.assert_equal(n_confirmed_by_country_region['n_confirmed'].values[:5],\n",
    "                               np.array([26186781, 10757610, 9204731, 3828183, 3808348]))\n",
    "        np.testing.assert_equal(n_confirmed_by_country_region['Country_Region'].values[-5:],\n",
    "                               np.array(['MS Zaandam', 'Marshall Islands', 'Samoa', 'Micronesia', 'Vanuatu']))\n",
    "        np.testing.assert_equal(n_confirmed_by_country_region['n_confirmed'].values[-5:],\n",
    "                               np.array([9, 4, 2, 1, 1]))\n",
    "    def test_having_n_confirmed_by_country_region(self):\n",
    "        n_confirmed_by_country_region = pd.read_sql(having_n_confirmed_by_country_region, conn)\n",
    "        self.assertEqual(n_confirmed_by_country_region.shape, (19, 2))\n",
    "        np.testing.assert_equal(n_confirmed_by_country_region['Country_Region'].values[:5],\n",
    "                               np.array(['US', 'India', 'Brazil', 'United Kingdom', 'Russia']))\n",
    "        np.testing.assert_equal(n_confirmed_by_country_region['n_confirmed'].values[:5],\n",
    "                               np.array([26186781, 10757610, 9204731, 3828183, 3808348]))\n",
    "        np.testing.assert_equal(n_confirmed_by_country_region['Country_Region'].values[-5:],\n",
    "                               np.array(['South Africa', 'Iran', 'Ukraine', 'Peru', 'Indonesia']))\n",
    "        np.testing.assert_equal(n_confirmed_by_country_region['n_confirmed'].values[-5:],\n",
    "                               np.array([1453761, 1417999, 1261546, 1138239, 1078314]))\n",
    "    def test_sum_votes_by_number(self):\n",
    "        votes_by_number = pd.read_sql(sum_votes_by_number, conn)\n",
    "        self.assertEqual(votes_by_number.shape, (3, 3))\n",
    "        np.testing.assert_equal(votes_by_number['number'].values,\n",
    "                               np.array([1, 2, 3]))\n",
    "        np.testing.assert_equal(votes_by_number['n_votes'].values,\n",
    "                               np.array([608590, 5522119, 8170231]))\n",
    "    def test_count_n_players_by_country(self):\n",
    "        n_players_by_country = pd.read_sql(count_n_players_by_country, conn)\n",
    "        self.assertEqual(n_players_by_country.shape, (43, 2))\n",
    "        np.testing.assert_equal(n_players_by_country['country'].values[:5],\n",
    "                               np.array(['USA', 'Canada', 'France', 'Australia', 'Germany']))\n",
    "        np.testing.assert_equal(n_players_by_country['n_players'].values[:5],\n",
    "                               np.array([381, 18, 11, 9, 6]))\n",
    "    def test_having_n_players_by_country(self):\n",
    "        n_players_by_country = pd.read_sql(having_n_players_by_country, conn)\n",
    "        self.assertEqual(n_players_by_country.shape, (13, 2))\n",
    "        np.testing.assert_equal(n_players_by_country['country'].values[:5],\n",
    "                               np.array(['Greece', 'Italy', 'Latvia', 'Lithuania', 'Nigeria']))\n",
    "        np.testing.assert_equal(n_players_by_country['n_players'].values[:5],\n",
    "                               np.array([3, 3, 3, 3, 3]))\n",
    "        np.testing.assert_equal(n_players_by_country['country'].values[-5:],\n",
    "                               np.array(['Bahamas', 'Brazil', 'Cameroon', 'Japan', 'Ukraine']))\n",
    "        np.testing.assert_equal(n_players_by_country['n_players'].values[-5:],\n",
    "                               np.array([2, 2, 2, 2, 2]))\n",
    "\n",
    "suite = unittest.TestLoader().loadTestsFromTestCase(TestGroupByHaving)\n",
    "runner = unittest.TextTestRunner(verbosity=2)\n",
    "test_results = runner.run(suite)\n",
    "number_of_failures = len(test_results.failures)\n",
    "number_of_errors = len(test_results.errors)\n",
    "number_of_test_runs = test_results.testsRun\n",
    "number_of_successes = number_of_test_runs - (number_of_failures + number_of_errors)"
   ]
  },
  {
   "cell_type": "code",
   "execution_count": 8,
   "metadata": {
    "deletable": false,
    "editable": false
   },
   "outputs": [
    {
     "name": "stdout",
     "output_type": "stream",
     "text": [
      "您在 5 道 SQL 練習中答對了 5 題。\n"
     ]
    }
   ],
   "source": [
    "print(\"您在 {} 道 SQL 練習中答對了 {} 題。\".format(number_of_test_runs, number_of_successes))"
   ]
  }
 ],
 "metadata": {
  "kernelspec": {
   "display_name": "Python Data Analysis",
   "language": "python",
   "name": "pyda"
  },
  "language_info": {
   "codemirror_mode": {
    "name": "ipython",
    "version": 3
   },
   "file_extension": ".py",
   "mimetype": "text/x-python",
   "name": "python",
   "nbconvert_exporter": "python",
   "pygments_lexer": "ipython3",
   "version": "3.6.8"
  }
 },
 "nbformat": 4,
 "nbformat_minor": 4
}
