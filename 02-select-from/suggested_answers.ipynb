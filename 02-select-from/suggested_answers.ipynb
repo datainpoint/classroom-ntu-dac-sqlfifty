{
 "cells": [
  {
   "cell_type": "markdown",
   "metadata": {
    "deletable": false,
    "editable": false
   },
   "source": [
    "# SQL 的五十道練習\n",
    "\n",
    "> 從資料表選擇\n",
    "\n",
    "郭耀仁 <yaojenkuo@datainpoint.com>，[數據交點](https://www.datainpoint.com)"
   ]
  },
  {
   "cell_type": "code",
   "execution_count": 1,
   "metadata": {
    "deletable": false,
    "editable": false
   },
   "outputs": [
    {
     "data": {
      "text/plain": [
       "<sqlite3.Cursor at 0x7f9cc537d5e0>"
      ]
     },
     "execution_count": 1,
     "metadata": {},
     "output_type": "execute_result"
    }
   ],
   "source": [
    "import sqlite3\n",
    "import unittest\n",
    "import numpy as np\n",
    "import pandas as pd\n",
    "conn = sqlite3.connect('../databases/nba.db')\n",
    "conn.execute(\"\"\"ATTACH '../databases/covid19.db' AS covid19\"\"\")\n",
    "conn.execute(\"\"\"ATTACH '../databases/twElection2020.db' AS twElection2020\"\"\")\n",
    "conn.execute(\"\"\"ATTACH '../databases/imdb.db' AS imdb\"\"\")"
   ]
  },
  {
   "cell_type": "markdown",
   "metadata": {},
   "source": [
    "## 從 NBA 球隊資料表 `teams` 中選擇「所有」欄位。\n",
    "\n",
    "- 預期輸入：SQL 查詢語法。\n",
    "- 預期輸出：(30, 12) 的查詢結果。\n",
    "\n",
    "```\n",
    "    isNBAFranchise  isAllStar           city         altCityName  \\\n",
    "0                1          0        Atlanta             Atlanta   \n",
    "1                1          0         Boston              Boston   \n",
    "2                1          0       Brooklyn            Brooklyn   \n",
    "3                1          0      Charlotte           Charlotte   \n",
    "4                1          0        Chicago             Chicago   \n",
    "5                1          0      Cleveland           Cleveland   \n",
    "6                1          0         Dallas              Dallas   \n",
    "7                1          0         Denver              Denver   \n",
    "8                1          0        Detroit             Detroit   \n",
    "9                1          0   Golden State        Golden State   \n",
    "10               1          0        Houston             Houston   \n",
    "11               1          0        Indiana             Indiana   \n",
    "12               1          0             LA         LA Clippers   \n",
    "13               1          0    Los Angeles  Los Angeles Lakers   \n",
    "14               1          0        Memphis             Memphis   \n",
    "15               1          0          Miami               Miami   \n",
    "16               1          0      Milwaukee           Milwaukee   \n",
    "17               1          0      Minnesota           Minnesota   \n",
    "18               1          0    New Orleans         New Orleans   \n",
    "19               1          0       New York            New York   \n",
    "20               1          0  Oklahoma City       Oklahoma City   \n",
    "21               1          0        Orlando             Orlando   \n",
    "22               1          0   Philadelphia        Philadelphia   \n",
    "23               1          0        Phoenix             Phoenix   \n",
    "24               1          0       Portland            Portland   \n",
    "25               1          0     Sacramento          Sacramento   \n",
    "26               1          0    San Antonio         San Antonio   \n",
    "27               1          0        Toronto             Toronto   \n",
    "28               1          0           Utah                Utah   \n",
    "29               1          0     Washington          Washington   \n",
    "\n",
    "                  fullName tricode      teamId       nickname       urlName  \\\n",
    "0            Atlanta Hawks     ATL  1610612737          Hawks         hawks   \n",
    "1           Boston Celtics     BOS  1610612738        Celtics       celtics   \n",
    "2            Brooklyn Nets     BKN  1610612751           Nets          nets   \n",
    "3        Charlotte Hornets     CHA  1610612766        Hornets       hornets   \n",
    "4            Chicago Bulls     CHI  1610612741          Bulls         bulls   \n",
    "5      Cleveland Cavaliers     CLE  1610612739      Cavaliers     cavaliers   \n",
    "6         Dallas Mavericks     DAL  1610612742      Mavericks     mavericks   \n",
    "7           Denver Nuggets     DEN  1610612743        Nuggets       nuggets   \n",
    "8          Detroit Pistons     DET  1610612765        Pistons       pistons   \n",
    "9    Golden State Warriors     GSW  1610612744       Warriors      warriors   \n",
    "10         Houston Rockets     HOU  1610612745        Rockets       rockets   \n",
    "11          Indiana Pacers     IND  1610612754         Pacers        pacers   \n",
    "12             LA Clippers     LAC  1610612746       Clippers      clippers   \n",
    "13      Los Angeles Lakers     LAL  1610612747         Lakers        lakers   \n",
    "14       Memphis Grizzlies     MEM  1610612763      Grizzlies     grizzlies   \n",
    "15              Miami Heat     MIA  1610612748           Heat          heat   \n",
    "16         Milwaukee Bucks     MIL  1610612749          Bucks         bucks   \n",
    "17  Minnesota Timberwolves     MIN  1610612750   Timberwolves  timberwolves   \n",
    "18    New Orleans Pelicans     NOP  1610612740       Pelicans      pelicans   \n",
    "19         New York Knicks     NYK  1610612752         Knicks        knicks   \n",
    "20   Oklahoma City Thunder     OKC  1610612760        Thunder       thunder   \n",
    "21           Orlando Magic     ORL  1610612753          Magic         magic   \n",
    "22      Philadelphia 76ers     PHI  1610612755          76ers        sixers   \n",
    "23            Phoenix Suns     PHX  1610612756           Suns          suns   \n",
    "24  Portland Trail Blazers     POR  1610612757  Trail Blazers       blazers   \n",
    "25        Sacramento Kings     SAC  1610612758          Kings         kings   \n",
    "26       San Antonio Spurs     SAS  1610612759          Spurs         spurs   \n",
    "27         Toronto Raptors     TOR  1610612761        Raptors       raptors   \n",
    "28               Utah Jazz     UTA  1610612762           Jazz          jazz   \n",
    "29      Washington Wizards     WAS  1610612764        Wizards       wizards   \n",
    "\n",
    "    teamShortName confName    divName  \n",
    "0         Atlanta     East  Southeast  \n",
    "1          Boston     East   Atlantic  \n",
    "2        Brooklyn     East   Atlantic  \n",
    "3       Charlotte     East  Southeast  \n",
    "4         Chicago     East    Central  \n",
    "5       Cleveland     East    Central  \n",
    "6          Dallas     West  Southwest  \n",
    "7          Denver     West  Northwest  \n",
    "8         Detroit     East    Central  \n",
    "9    Golden State     West    Pacific  \n",
    "10        Houston     West  Southwest  \n",
    "11        Indiana     East    Central  \n",
    "12    LA Clippers     West    Pacific  \n",
    "13    L.A. Lakers     West    Pacific  \n",
    "14        Memphis     West  Southwest  \n",
    "15          Miami     East  Southeast  \n",
    "16      Milwaukee     East    Central  \n",
    "17      Minnesota     West  Northwest  \n",
    "18    New Orleans     West  Southwest  \n",
    "19       New York     East   Atlantic  \n",
    "20  Oklahoma City     West  Northwest  \n",
    "21        Orlando     East  Southeast  \n",
    "22   Philadelphia     East   Atlantic  \n",
    "23        Phoenix     West    Pacific  \n",
    "24       Portland     West  Northwest  \n",
    "25     Sacramento     West    Pacific  \n",
    "26    San Antonio     West  Southwest  \n",
    "27        Toronto     East   Atlantic  \n",
    "28           Utah     West  Northwest  \n",
    "29     Washington     East  Southeast\n",
    "```"
   ]
  },
  {
   "cell_type": "code",
   "execution_count": 2,
   "metadata": {},
   "outputs": [],
   "source": [
    "select_all_from_teams =\\\n",
    "\"\"\"\n",
    "-- SQL 查詢語法起點\n",
    "SELECT *\n",
    "  FROM teams;\n",
    "-- SQL 查詢語法終點\n",
    "\"\"\""
   ]
  },
  {
   "cell_type": "markdown",
   "metadata": {},
   "source": [
    "## 從 NBA 球隊資料表 `teams` 中選擇 `confName`、`divName` 與 `fullName` 三個欄位。\n",
    "\n",
    "- 預期輸入：SQL 查詢語法。\n",
    "- 預期輸出：(30, 3) 的查詢結果。\n",
    "\n",
    "```\n",
    "   confName    divName                fullName\n",
    "0      East  Southeast           Atlanta Hawks\n",
    "1      East   Atlantic          Boston Celtics\n",
    "2      East   Atlantic           Brooklyn Nets\n",
    "3      East  Southeast       Charlotte Hornets\n",
    "4      East    Central           Chicago Bulls\n",
    "5      East    Central     Cleveland Cavaliers\n",
    "6      West  Southwest        Dallas Mavericks\n",
    "7      West  Northwest          Denver Nuggets\n",
    "8      East    Central         Detroit Pistons\n",
    "9      West    Pacific   Golden State Warriors\n",
    "10     West  Southwest         Houston Rockets\n",
    "11     East    Central          Indiana Pacers\n",
    "12     West    Pacific             LA Clippers\n",
    "13     West    Pacific      Los Angeles Lakers\n",
    "14     West  Southwest       Memphis Grizzlies\n",
    "15     East  Southeast              Miami Heat\n",
    "16     East    Central         Milwaukee Bucks\n",
    "17     West  Northwest  Minnesota Timberwolves\n",
    "18     West  Southwest    New Orleans Pelicans\n",
    "19     East   Atlantic         New York Knicks\n",
    "20     West  Northwest   Oklahoma City Thunder\n",
    "21     East  Southeast           Orlando Magic\n",
    "22     East   Atlantic      Philadelphia 76ers\n",
    "23     West    Pacific            Phoenix Suns\n",
    "24     West  Northwest  Portland Trail Blazers\n",
    "25     West    Pacific        Sacramento Kings\n",
    "26     West  Southwest       San Antonio Spurs\n",
    "27     East   Atlantic         Toronto Raptors\n",
    "28     West  Northwest               Utah Jazz\n",
    "29     East  Southeast      Washington Wizards\n",
    "```"
   ]
  },
  {
   "cell_type": "code",
   "execution_count": 3,
   "metadata": {},
   "outputs": [],
   "source": [
    "select_variables_from_teams =\\\n",
    "\"\"\"\n",
    "-- SQL 查詢語法起點\n",
    "SELECT confName,\n",
    "       divName,\n",
    "       fullName\n",
    "  FROM teams;\n",
    "-- SQL 查詢語法終點\n",
    "\"\"\""
   ]
  },
  {
   "cell_type": "markdown",
   "metadata": {},
   "source": [
    "## 從 NBA 球隊資料表 `teams` 中選擇 `confName`、`divName` 與 `fullName` 三個欄位，並依序取別名為 `conference`, `division`, `team`。\n",
    "\n",
    "- 預期輸入：SQL 查詢語法。\n",
    "- 預期輸出：(30, 3) 的查詢結果。\n",
    "\n",
    "```\n",
    "   conference   division                    team\n",
    "0        East  Southeast           Atlanta Hawks\n",
    "1        East   Atlantic          Boston Celtics\n",
    "2        East   Atlantic           Brooklyn Nets\n",
    "3        East  Southeast       Charlotte Hornets\n",
    "4        East    Central           Chicago Bulls\n",
    "5        East    Central     Cleveland Cavaliers\n",
    "6        West  Southwest        Dallas Mavericks\n",
    "7        West  Northwest          Denver Nuggets\n",
    "8        East    Central         Detroit Pistons\n",
    "9        West    Pacific   Golden State Warriors\n",
    "10       West  Southwest         Houston Rockets\n",
    "11       East    Central          Indiana Pacers\n",
    "12       West    Pacific             LA Clippers\n",
    "13       West    Pacific      Los Angeles Lakers\n",
    "14       West  Southwest       Memphis Grizzlies\n",
    "15       East  Southeast              Miami Heat\n",
    "16       East    Central         Milwaukee Bucks\n",
    "17       West  Northwest  Minnesota Timberwolves\n",
    "18       West  Southwest    New Orleans Pelicans\n",
    "19       East   Atlantic         New York Knicks\n",
    "20       West  Northwest   Oklahoma City Thunder\n",
    "21       East  Southeast           Orlando Magic\n",
    "22       East   Atlantic      Philadelphia 76ers\n",
    "23       West    Pacific            Phoenix Suns\n",
    "24       West  Northwest  Portland Trail Blazers\n",
    "25       West    Pacific        Sacramento Kings\n",
    "26       West  Southwest       San Antonio Spurs\n",
    "27       East   Atlantic         Toronto Raptors\n",
    "28       West  Northwest               Utah Jazz\n",
    "29       East  Southeast      Washington Wizards\n",
    "```"
   ]
  },
  {
   "cell_type": "code",
   "execution_count": 4,
   "metadata": {},
   "outputs": [],
   "source": [
    "select_variables_as_from_teams =\\\n",
    "\"\"\"\n",
    "-- SQL 查詢語法起點\n",
    "SELECT confName AS conference,\n",
    "       divName AS division,\n",
    "       fullName AS team\n",
    "  FROM teams;\n",
    "-- SQL 查詢語法終點\n",
    "\"\"\""
   ]
  },
  {
   "cell_type": "markdown",
   "metadata": {},
   "source": [
    "## 從 NBA 球隊資料表 `teams` 中查詢有哪些「不重複」的聯盟，並將查詢結果取別名為 `distinct_conference`。\n",
    "\n",
    "- 預期輸入：SQL 查詢語法。\n",
    "- 預期輸出：(2, 1) 的查詢結果。\n",
    "\n",
    "```\n",
    "  distinct_conference\n",
    "0                East\n",
    "1                West\n",
    "```"
   ]
  },
  {
   "cell_type": "code",
   "execution_count": 5,
   "metadata": {},
   "outputs": [],
   "source": [
    "select_distinct_conference =\\\n",
    "\"\"\"\n",
    "-- SQL 查詢語法起點\n",
    "SELECT DISTINCT confName AS distinct_conference\n",
    "  FROM teams;\n",
    "-- SQL 查詢語法終點\n",
    "\"\"\""
   ]
  },
  {
   "cell_type": "markdown",
   "metadata": {},
   "source": [
    "## 從 NBA 球隊資料表 `teams` 中查詢有哪些「不重複」的分組，並將查詢結果取別名為 `distinct_division`。\n",
    "\n",
    "- 預期輸入：SQL 查詢語法。\n",
    "- 預期輸出：(6, 1) 的查詢結果。\n",
    "\n",
    "```\n",
    "  distinct_division\n",
    "0         Southeast\n",
    "1          Atlantic\n",
    "2           Central\n",
    "3         Southwest\n",
    "4         Northwest\n",
    "5           Pacific\n",
    "```"
   ]
  },
  {
   "cell_type": "code",
   "execution_count": 6,
   "metadata": {},
   "outputs": [],
   "source": [
    "select_distinct_division =\\\n",
    "\"\"\"\n",
    "-- SQL 查詢語法起點\n",
    "SELECT DISTINCT divName AS distinct_division\n",
    "  FROM teams;\n",
    "-- SQL 查詢語法終點\n",
    "\"\"\""
   ]
  },
  {
   "cell_type": "markdown",
   "metadata": {
    "deletable": false,
    "editable": false
   },
   "source": [
    "## 執行測試！\n",
    "\n",
    "Kernel -> Restart & Run All."
   ]
  },
  {
   "cell_type": "code",
   "execution_count": 7,
   "metadata": {
    "deletable": false,
    "editable": false
   },
   "outputs": [
    {
     "name": "stderr",
     "output_type": "stream",
     "text": [
      "test_select_all_from_top_rated_movies (__main__.TestSelectFrom) ... ok\n",
      "test_select_distinct_conference (__main__.TestSelectFrom) ... ok\n",
      "test_select_distinct_division (__main__.TestSelectFrom) ... ok\n",
      "test_select_variables_as_from_teams (__main__.TestSelectFrom) ... ok\n",
      "test_select_variables_from_teams (__main__.TestSelectFrom) ... ok\n",
      "\n",
      "----------------------------------------------------------------------\n",
      "Ran 5 tests in 0.149s\n",
      "\n",
      "OK\n"
     ]
    }
   ],
   "source": [
    "class TestSelectFrom(unittest.TestCase):\n",
    "    def test_select_all_from_top_rated_movies(self):\n",
    "        all_from_teams = pd.read_sql(select_all_from_teams, conn)\n",
    "        self.assertEqual(all_from_teams.shape, (30, 12))\n",
    "    def test_select_variables_from_teams(self):\n",
    "        variables_from_teams = pd.read_sql(select_variables_from_teams, conn)\n",
    "        self.assertEqual(variables_from_teams.shape, (30, 3))\n",
    "        np.testing.assert_equal(variables_from_teams.columns.values,\n",
    "                               np.array(['confName', 'divName', 'fullName']))\n",
    "    def test_select_variables_as_from_teams(self):\n",
    "        variables_as_from_teams = pd.read_sql(select_variables_as_from_teams, conn)\n",
    "        self.assertEqual(variables_as_from_teams.shape, (30, 3))\n",
    "        np.testing.assert_equal(variables_as_from_teams.columns.values,\n",
    "                               np.array(['conference', 'division', 'team']))\n",
    "    def test_select_distinct_conference(self):\n",
    "        distinct_conference = pd.read_sql(select_distinct_conference, conn)\n",
    "        self.assertEqual(distinct_conference.shape, (2, 1))\n",
    "        np.testing.assert_equal(distinct_conference['distinct_conference'].values,\n",
    "                               np.array(['East', 'West']))\n",
    "    def test_select_distinct_division(self):\n",
    "        distinct_division = pd.read_sql(select_distinct_division, conn)\n",
    "        self.assertEqual(distinct_division.shape, (6, 1))\n",
    "        np.testing.assert_equal(distinct_division['distinct_division'].values,\n",
    "                               np.array(['Southeast', 'Atlantic', 'Central', 'Southwest', 'Northwest', 'Pacific']))\n",
    "\n",
    "suite = unittest.TestLoader().loadTestsFromTestCase(TestSelectFrom)\n",
    "runner = unittest.TextTestRunner(verbosity=2)\n",
    "test_results = runner.run(suite)\n",
    "number_of_failures = len(test_results.failures)\n",
    "number_of_errors = len(test_results.errors)\n",
    "number_of_test_runs = test_results.testsRun\n",
    "number_of_successes = number_of_test_runs - (number_of_failures + number_of_errors)"
   ]
  },
  {
   "cell_type": "code",
   "execution_count": 8,
   "metadata": {
    "deletable": false,
    "editable": false
   },
   "outputs": [
    {
     "name": "stdout",
     "output_type": "stream",
     "text": [
      "您在 5 道 SQL 練習中答對了 5 題。\n"
     ]
    }
   ],
   "source": [
    "print(\"您在 {} 道 SQL 練習中答對了 {} 題。\".format(number_of_test_runs, number_of_successes))"
   ]
  }
 ],
 "metadata": {
  "kernelspec": {
   "display_name": "Python Data Analysis",
   "language": "python",
   "name": "pyda"
  },
  "language_info": {
   "codemirror_mode": {
    "name": "ipython",
    "version": 3
   },
   "file_extension": ".py",
   "mimetype": "text/x-python",
   "name": "python",
   "nbconvert_exporter": "python",
   "pygments_lexer": "ipython3",
   "version": "3.6.8"
  }
 },
 "nbformat": 4,
 "nbformat_minor": 4
}
