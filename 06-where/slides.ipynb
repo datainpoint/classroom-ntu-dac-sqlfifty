{
 "cells": [
  {
   "cell_type": "markdown",
   "id": "lightweight-fruit",
   "metadata": {
    "slideshow": {
     "slide_type": "slide"
    }
   },
   "source": [
    "# SQL 的五十道練習\n",
    "\n",
    "> 篩選資料\n",
    "\n",
    "郭耀仁 <yaojenkuo@datainpoint.com>，[數據交點](https://www.datainpoint.com/)"
   ]
  },
  {
   "cell_type": "code",
   "execution_count": 1,
   "id": "matched-spyware",
   "metadata": {
    "slideshow": {
     "slide_type": "skip"
    }
   },
   "outputs": [],
   "source": [
    "%LOAD ../databases/imdb.db"
   ]
  },
  {
   "cell_type": "code",
   "execution_count": 2,
   "id": "desperate-contest",
   "metadata": {
    "slideshow": {
     "slide_type": "skip"
    }
   },
   "outputs": [],
   "source": [
    "ATTACH \"../databases/nba.db\" AS nba;"
   ]
  },
  {
   "cell_type": "code",
   "execution_count": 3,
   "id": "located-society",
   "metadata": {
    "slideshow": {
     "slide_type": "skip"
    }
   },
   "outputs": [],
   "source": [
    "ATTACH \"../databases/twElection2020.db\" AS twElection2020;"
   ]
  },
  {
   "cell_type": "code",
   "execution_count": 4,
   "id": "positive-conservative",
   "metadata": {
    "slideshow": {
     "slide_type": "skip"
    }
   },
   "outputs": [],
   "source": [
    "ATTACH \"../databases/covid19.db\" AS covid19;"
   ]
  },
  {
   "cell_type": "markdown",
   "id": "supposed-spread",
   "metadata": {
    "slideshow": {
     "slide_type": "slide"
    }
   },
   "source": [
    "## 以 `WHERE` 敘述篩選資料"
   ]
  },
  {
   "cell_type": "markdown",
   "id": "subjective-retro",
   "metadata": {
    "slideshow": {
     "slide_type": "subslide"
    }
   },
   "source": [
    "## 截至目前，我們所撰寫的 SQL 幾乎都是將資料表中「所有」的觀測值回傳為查詢結果。"
   ]
  },
  {
   "cell_type": "markdown",
   "id": "stable-venice",
   "metadata": {
    "slideshow": {
     "slide_type": "subslide"
    }
   },
   "source": [
    "## 在應用場景中，更常見的是需要資料表中「特定」的觀測值，例如：\n",
    "\n",
    "- 在 nba 資料庫中找出 Fantasy Game 想要選的球員。\n",
    "- 在 imdb 資料庫中找出 1994 年上映的經典電影。\n",
    "- 在 twElection2020 資料庫中找出台北市的資料。"
   ]
  },
  {
   "cell_type": "markdown",
   "id": "forty-cookbook",
   "metadata": {
    "slideshow": {
     "slide_type": "subslide"
    }
   },
   "source": [
    "## 加入 `WHERE` 敘述能夠以「條件」作為篩選觀測值的依據\n",
    "\n",
    "```sql\n",
    "-- WHERE 敘述\n",
    "SELECT column_name\n",
    "  FROM column_name\n",
    " WHERE condition;\n",
    "```"
   ]
  },
  {
   "cell_type": "markdown",
   "id": "intellectual-variable",
   "metadata": {
    "slideshow": {
     "slide_type": "subslide"
    }
   },
   "source": [
    "## 撰寫條件的時候，我們要暸解兩個觀念：\n",
    "\n",
    "1. 比較運算符：能夠產生布林的運算符號。\n",
    "2. 布林（Boolean）：用來表示比較結果的兩個值（真、假）。"
   ]
  },
  {
   "cell_type": "markdown",
   "id": "brown-approach",
   "metadata": {
    "slideshow": {
     "slide_type": "subslide"
    }
   },
   "source": [
    "## 基礎比較運算符\n",
    "\n",
    "|比較運算符|作用描述|\n",
    "|--------|-------|\n",
    "|`=`|相等|\n",
    "|`!=`|不相等|\n",
    "|`>`|大於|\n",
    "|`<`|小於|\n",
    "|`>=`|大於等於|\n",
    "|`<=`|小於等於|"
   ]
  },
  {
   "cell_type": "markdown",
   "id": "amber-french",
   "metadata": {
    "slideshow": {
     "slide_type": "subslide"
    }
   },
   "source": [
    "## 比較結果為「真」的布林，SQLite 以 `1` 表示"
   ]
  },
  {
   "cell_type": "code",
   "execution_count": 5,
   "id": "private-swift",
   "metadata": {},
   "outputs": [
    {
     "data": {
      "text/html": [
       "<table>\n",
       "<tr>\n",
       "<th>bool_true</th>\n",
       "</tr>\n",
       "<tr>\n",
       "<td>1</td>\n",
       "</tr>\n",
       "</table>"
      ],
      "text/plain": [
       "+-----------+\n",
       "| bool_true |\n",
       "+-----------+\n",
       "| 1         |\n",
       "+-----------+"
      ]
     },
     "execution_count": 5,
     "metadata": {},
     "output_type": "execute_result"
    }
   ],
   "source": [
    "SELECT 55 = 55 AS bool_true;"
   ]
  },
  {
   "cell_type": "markdown",
   "id": "persistent-replication",
   "metadata": {
    "slideshow": {
     "slide_type": "subslide"
    }
   },
   "source": [
    "## 比較結果為「假」的布林，SQLite 以 `0` 表示"
   ]
  },
  {
   "cell_type": "code",
   "execution_count": 6,
   "id": "smoking-fortune",
   "metadata": {
    "slideshow": {
     "slide_type": "-"
    }
   },
   "outputs": [
    {
     "data": {
      "text/html": [
       "<table>\n",
       "<tr>\n",
       "<th>bool_false</th>\n",
       "</tr>\n",
       "<tr>\n",
       "<td>0</td>\n",
       "</tr>\n",
       "</table>"
      ],
      "text/plain": [
       "+------------+\n",
       "| bool_false |\n",
       "+------------+\n",
       "| 0          |\n",
       "+------------+"
      ]
     },
     "execution_count": 6,
     "metadata": {},
     "output_type": "execute_result"
    }
   ],
   "source": [
    "SELECT 55 != 55 AS bool_false;"
   ]
  },
  {
   "cell_type": "markdown",
   "id": "wrapped-warren",
   "metadata": {
    "slideshow": {
     "slide_type": "subslide"
    }
   },
   "source": [
    "## 針對資料表的欄位撰寫條件會產生由布林所組成的查詢結果"
   ]
  },
  {
   "cell_type": "code",
   "execution_count": 7,
   "id": "dynamic-market",
   "metadata": {},
   "outputs": [
    {
     "data": {
      "text/html": [
       "<table>\n",
       "<tr>\n",
       "<th>bool</th>\n",
       "</tr>\n",
       "<tr>\n",
       "<td>1</td>\n",
       "</tr>\n",
       "<tr>\n",
       "<td>1</td>\n",
       "</tr>\n",
       "<tr>\n",
       "<td>1</td>\n",
       "</tr>\n",
       "<tr>\n",
       "<td>0</td>\n",
       "</tr>\n",
       "<tr>\n",
       "<td>1</td>\n",
       "</tr>\n",
       "<tr>\n",
       "<td>0</td>\n",
       "</tr>\n",
       "<tr>\n",
       "<td>0</td>\n",
       "</tr>\n",
       "<tr>\n",
       "<td>0</td>\n",
       "</tr>\n",
       "<tr>\n",
       "<td>0</td>\n",
       "</tr>\n",
       "<tr>\n",
       "<td>0</td>\n",
       "</tr>\n",
       "<tr>\n",
       "<td>0</td>\n",
       "</tr>\n",
       "<tr>\n",
       "<td>1</td>\n",
       "</tr>\n",
       "<tr>\n",
       "<td>1</td>\n",
       "</tr>\n",
       "<tr>\n",
       "<td>0</td>\n",
       "</tr>\n",
       "<tr>\n",
       "<td>1</td>\n",
       "</tr>\n",
       "<tr>\n",
       "<td>1</td>\n",
       "</tr>\n",
       "<tr>\n",
       "<td>1</td>\n",
       "</tr>\n",
       "<tr>\n",
       "<td>1</td>\n",
       "</tr>\n",
       "<tr>\n",
       "<td>1</td>\n",
       "</tr>\n",
       "<tr>\n",
       "<td>0</td>\n",
       "</tr>\n",
       "<tr>\n",
       "<td>0</td>\n",
       "</tr>\n",
       "<tr>\n",
       "<td>0</td>\n",
       "</tr>\n",
       "<tr>\n",
       "<td>0</td>\n",
       "</tr>\n",
       "<tr>\n",
       "<td>0</td>\n",
       "</tr>\n",
       "<tr>\n",
       "<td>1</td>\n",
       "</tr>\n",
       "<tr>\n",
       "<td>0</td>\n",
       "</tr>\n",
       "<tr>\n",
       "<td>0</td>\n",
       "</tr>\n",
       "<tr>\n",
       "<td>1</td>\n",
       "</tr>\n",
       "<tr>\n",
       "<td>1</td>\n",
       "</tr>\n",
       "<tr>\n",
       "<td>1</td>\n",
       "</tr>\n",
       "</table>"
      ],
      "text/plain": [
       "+------+\n",
       "| bool |\n",
       "+------+\n",
       "| 1    |\n",
       "+------+\n",
       "| 1    |\n",
       "+------+\n",
       "| 1    |\n",
       "+------+\n",
       "| 0    |\n",
       "+------+\n",
       "| 1    |\n",
       "+------+\n",
       "| 0    |\n",
       "+------+\n",
       "| 0    |\n",
       "+------+\n",
       "| 0    |\n",
       "+------+\n",
       "| 0    |\n",
       "+------+\n",
       "| 0    |\n",
       "+------+\n",
       "| 0    |\n",
       "+------+\n",
       "| 1    |\n",
       "+------+\n",
       "| 1    |\n",
       "+------+\n",
       "| 0    |\n",
       "+------+\n",
       "| 1    |\n",
       "+------+\n",
       "| 1    |\n",
       "+------+\n",
       "| 1    |\n",
       "+------+\n",
       "| 1    |\n",
       "+------+\n",
       "| 1    |\n",
       "+------+\n",
       "| 0    |\n",
       "+------+\n",
       "| 0    |\n",
       "+------+\n",
       "| 0    |\n",
       "+------+\n",
       "| 0    |\n",
       "+------+\n",
       "| 0    |\n",
       "+------+\n",
       "| 1    |\n",
       "+------+\n",
       "| 0    |\n",
       "+------+\n",
       "| 0    |\n",
       "+------+\n",
       "| 1    |\n",
       "+------+\n",
       "| 1    |\n",
       "+------+\n",
       "| 1    |\n",
       "+------+"
      ]
     },
     "execution_count": 7,
     "metadata": {},
     "output_type": "execute_result"
    }
   ],
   "source": [
    "SELECT confName = 'East' AS bool\n",
    "  FROM teams;"
   ]
  },
  {
   "cell_type": "markdown",
   "id": "romantic-building",
   "metadata": {
    "slideshow": {
     "slide_type": "subslide"
    }
   },
   "source": [
    "## 將條件撰寫在 `WHERE` 敘述之後，會篩選布林為真（`1`）的觀測值回傳"
   ]
  },
  {
   "cell_type": "code",
   "execution_count": 8,
   "id": "reflected-firmware",
   "metadata": {},
   "outputs": [
    {
     "data": {
      "text/html": [
       "<table>\n",
       "<tr>\n",
       "<th>bool</th>\n",
       "</tr>\n",
       "<tr>\n",
       "<td>1</td>\n",
       "</tr>\n",
       "<tr>\n",
       "<td>1</td>\n",
       "</tr>\n",
       "<tr>\n",
       "<td>1</td>\n",
       "</tr>\n",
       "<tr>\n",
       "<td>1</td>\n",
       "</tr>\n",
       "<tr>\n",
       "<td>1</td>\n",
       "</tr>\n",
       "<tr>\n",
       "<td>1</td>\n",
       "</tr>\n",
       "<tr>\n",
       "<td>1</td>\n",
       "</tr>\n",
       "<tr>\n",
       "<td>1</td>\n",
       "</tr>\n",
       "<tr>\n",
       "<td>1</td>\n",
       "</tr>\n",
       "<tr>\n",
       "<td>1</td>\n",
       "</tr>\n",
       "<tr>\n",
       "<td>1</td>\n",
       "</tr>\n",
       "<tr>\n",
       "<td>1</td>\n",
       "</tr>\n",
       "<tr>\n",
       "<td>1</td>\n",
       "</tr>\n",
       "<tr>\n",
       "<td>1</td>\n",
       "</tr>\n",
       "<tr>\n",
       "<td>1</td>\n",
       "</tr>\n",
       "</table>"
      ],
      "text/plain": [
       "+------+\n",
       "| bool |\n",
       "+------+\n",
       "| 1    |\n",
       "+------+\n",
       "| 1    |\n",
       "+------+\n",
       "| 1    |\n",
       "+------+\n",
       "| 1    |\n",
       "+------+\n",
       "| 1    |\n",
       "+------+\n",
       "| 1    |\n",
       "+------+\n",
       "| 1    |\n",
       "+------+\n",
       "| 1    |\n",
       "+------+\n",
       "| 1    |\n",
       "+------+\n",
       "| 1    |\n",
       "+------+\n",
       "| 1    |\n",
       "+------+\n",
       "| 1    |\n",
       "+------+\n",
       "| 1    |\n",
       "+------+\n",
       "| 1    |\n",
       "+------+\n",
       "| 1    |\n",
       "+------+"
      ]
     },
     "execution_count": 8,
     "metadata": {},
     "output_type": "execute_result"
    }
   ],
   "source": [
    "SELECT confName = 'East' AS bool\n",
    "  FROM teams\n",
    " WHERE confName = 'East';"
   ]
  },
  {
   "cell_type": "code",
   "execution_count": 9,
   "id": "handy-access",
   "metadata": {
    "slideshow": {
     "slide_type": "subslide"
    }
   },
   "outputs": [
    {
     "data": {
      "text/html": [
       "<table>\n",
       "<tr>\n",
       "<th>fullName</th>\n",
       "</tr>\n",
       "<tr>\n",
       "<td>Atlanta Hawks</td>\n",
       "</tr>\n",
       "<tr>\n",
       "<td>Boston Celtics</td>\n",
       "</tr>\n",
       "<tr>\n",
       "<td>Cleveland Cavaliers</td>\n",
       "</tr>\n",
       "<tr>\n",
       "<td>Chicago Bulls</td>\n",
       "</tr>\n",
       "<tr>\n",
       "<td>Miami Heat</td>\n",
       "</tr>\n",
       "<tr>\n",
       "<td>Milwaukee Bucks</td>\n",
       "</tr>\n",
       "<tr>\n",
       "<td>Brooklyn Nets</td>\n",
       "</tr>\n",
       "<tr>\n",
       "<td>New York Knicks</td>\n",
       "</tr>\n",
       "<tr>\n",
       "<td>Orlando Magic</td>\n",
       "</tr>\n",
       "<tr>\n",
       "<td>Indiana Pacers</td>\n",
       "</tr>\n",
       "<tr>\n",
       "<td>Philadelphia 76ers</td>\n",
       "</tr>\n",
       "<tr>\n",
       "<td>Toronto Raptors</td>\n",
       "</tr>\n",
       "<tr>\n",
       "<td>Washington Wizards</td>\n",
       "</tr>\n",
       "<tr>\n",
       "<td>Detroit Pistons</td>\n",
       "</tr>\n",
       "<tr>\n",
       "<td>Charlotte Hornets</td>\n",
       "</tr>\n",
       "</table>"
      ],
      "text/plain": [
       "+---------------------+\n",
       "| fullName            |\n",
       "+---------------------+\n",
       "| Atlanta Hawks       |\n",
       "+---------------------+\n",
       "| Boston Celtics      |\n",
       "+---------------------+\n",
       "| Cleveland Cavaliers |\n",
       "+---------------------+\n",
       "| Chicago Bulls       |\n",
       "+---------------------+\n",
       "| Miami Heat          |\n",
       "+---------------------+\n",
       "| Milwaukee Bucks     |\n",
       "+---------------------+\n",
       "| Brooklyn Nets       |\n",
       "+---------------------+\n",
       "| New York Knicks     |\n",
       "+---------------------+\n",
       "| Orlando Magic       |\n",
       "+---------------------+\n",
       "| Indiana Pacers      |\n",
       "+---------------------+\n",
       "| Philadelphia 76ers  |\n",
       "+---------------------+\n",
       "| Toronto Raptors     |\n",
       "+---------------------+\n",
       "| Washington Wizards  |\n",
       "+---------------------+\n",
       "| Detroit Pistons     |\n",
       "+---------------------+\n",
       "| Charlotte Hornets   |\n",
       "+---------------------+"
      ]
     },
     "execution_count": 9,
     "metadata": {},
     "output_type": "execute_result"
    }
   ],
   "source": [
    "-- 篩選東區的球隊\n",
    "SELECT fullName\n",
    "  FROM teams\n",
    " WHERE confName = 'East';"
   ]
  },
  {
   "cell_type": "markdown",
   "id": "transsexual-universal",
   "metadata": {
    "slideshow": {
     "slide_type": "subslide"
    }
   },
   "source": [
    "## 撰寫條件不只可以針對文字類型的變數，亦能夠針對數值類型的變數"
   ]
  },
  {
   "cell_type": "code",
   "execution_count": 10,
   "id": "exceptional-debut",
   "metadata": {
    "slideshow": {
     "slide_type": "-"
    }
   },
   "outputs": [
    {
     "data": {
      "text/html": [
       "<table>\n",
       "<tr>\n",
       "<th>personId</th>\n",
       "<th>bool</th>\n",
       "</tr>\n",
       "<tr>\n",
       "<td>2544</td>\n",
       "<td>1</td>\n",
       "</tr>\n",
       "<tr>\n",
       "<td>2546</td>\n",
       "<td>1</td>\n",
       "</tr>\n",
       "<tr>\n",
       "<td>2617</td>\n",
       "<td>0</td>\n",
       "</tr>\n",
       "<tr>\n",
       "<td>2730</td>\n",
       "<td>0</td>\n",
       "</tr>\n",
       "<tr>\n",
       "<td>2738</td>\n",
       "<td>0</td>\n",
       "</tr>\n",
       "<tr>\n",
       "<td>2772</td>\n",
       "<td>0</td>\n",
       "</tr>\n",
       "<tr>\n",
       "<td>101108</td>\n",
       "<td>0</td>\n",
       "</tr>\n",
       "<tr>\n",
       "<td>101150</td>\n",
       "<td>0</td>\n",
       "</tr>\n",
       "<tr>\n",
       "<td>200746</td>\n",
       "<td>0</td>\n",
       "</tr>\n",
       "<tr>\n",
       "<td>200752</td>\n",
       "<td>0</td>\n",
       "</tr>\n",
       "</table>"
      ],
      "text/plain": [
       "+----------+------+\n",
       "| personId | bool |\n",
       "+----------+------+\n",
       "| 2544     | 1    |\n",
       "+----------+------+\n",
       "| 2546     | 1    |\n",
       "+----------+------+\n",
       "| 2617     | 0    |\n",
       "+----------+------+\n",
       "| 2730     | 0    |\n",
       "+----------+------+\n",
       "| 2738     | 0    |\n",
       "+----------+------+\n",
       "| 2772     | 0    |\n",
       "+----------+------+\n",
       "| 101108   | 0    |\n",
       "+----------+------+\n",
       "| 101150   | 0    |\n",
       "+----------+------+\n",
       "| 200746   | 0    |\n",
       "+----------+------+\n",
       "| 200752   | 0    |\n",
       "+----------+------+"
      ]
     },
     "execution_count": 10,
     "metadata": {},
     "output_type": "execute_result"
    }
   ],
   "source": [
    "SELECT personId,\n",
    "       ppg > 20 AS bool\n",
    "  FROM career_summaries\n",
    " LIMIT 10;"
   ]
  },
  {
   "cell_type": "code",
   "execution_count": 11,
   "id": "bizarre-participant",
   "metadata": {
    "slideshow": {
     "slide_type": "subslide"
    }
   },
   "outputs": [
    {
     "data": {
      "text/html": [
       "<table>\n",
       "<tr>\n",
       "<th>personId</th>\n",
       "<th>ppg</th>\n",
       "</tr>\n",
       "<tr>\n",
       "<td>2544</td>\n",
       "<td>27.0</td>\n",
       "</tr>\n",
       "<tr>\n",
       "<td>2546</td>\n",
       "<td>23.4</td>\n",
       "</tr>\n",
       "<tr>\n",
       "<td>201142</td>\n",
       "<td>27.1</td>\n",
       "</tr>\n",
       "<tr>\n",
       "<td>201566</td>\n",
       "<td>23.2</td>\n",
       "</tr>\n",
       "<tr>\n",
       "<td>201933</td>\n",
       "<td>21.5</td>\n",
       "</tr>\n",
       "<tr>\n",
       "<td>201935</td>\n",
       "<td>25.2</td>\n",
       "</tr>\n",
       "<tr>\n",
       "<td>201939</td>\n",
       "<td>23.6</td>\n",
       "</tr>\n",
       "<tr>\n",
       "<td>202326</td>\n",
       "<td>20.9</td>\n",
       "</tr>\n",
       "<tr>\n",
       "<td>202331</td>\n",
       "<td>20.1</td>\n",
       "</tr>\n",
       "<tr>\n",
       "<td>202681</td>\n",
       "<td>22.6</td>\n",
       "</tr>\n",
       "<tr>\n",
       "<td>203076</td>\n",
       "<td>23.9</td>\n",
       "</tr>\n",
       "<tr>\n",
       "<td>203078</td>\n",
       "<td>21.3</td>\n",
       "</tr>\n",
       "<tr>\n",
       "<td>203081</td>\n",
       "<td>24.4</td>\n",
       "</tr>\n",
       "<tr>\n",
       "<td>203507</td>\n",
       "<td>20.3</td>\n",
       "</tr>\n",
       "<tr>\n",
       "<td>203954</td>\n",
       "<td>24.3</td>\n",
       "</tr>\n",
       "<tr>\n",
       "<td>1626157</td>\n",
       "<td>22.7</td>\n",
       "</tr>\n",
       "<tr>\n",
       "<td>1626164</td>\n",
       "<td>22.5</td>\n",
       "</tr>\n",
       "<tr>\n",
       "<td>1628378</td>\n",
       "<td>22.7</td>\n",
       "</tr>\n",
       "<tr>\n",
       "<td>1629027</td>\n",
       "<td>24.0</td>\n",
       "</tr>\n",
       "<tr>\n",
       "<td>1629029</td>\n",
       "<td>25.0</td>\n",
       "</tr>\n",
       "<tr>\n",
       "<td>1629627</td>\n",
       "<td>23.1</td>\n",
       "</tr>\n",
       "</table>"
      ],
      "text/plain": [
       "+----------+------+\n",
       "| personId | ppg  |\n",
       "+----------+------+\n",
       "| 2544     | 27.0 |\n",
       "+----------+------+\n",
       "| 2546     | 23.4 |\n",
       "+----------+------+\n",
       "| 201142   | 27.1 |\n",
       "+----------+------+\n",
       "| 201566   | 23.2 |\n",
       "+----------+------+\n",
       "| 201933   | 21.5 |\n",
       "+----------+------+\n",
       "| 201935   | 25.2 |\n",
       "+----------+------+\n",
       "| 201939   | 23.6 |\n",
       "+----------+------+\n",
       "| 202326   | 20.9 |\n",
       "+----------+------+\n",
       "| 202331   | 20.1 |\n",
       "+----------+------+\n",
       "| 202681   | 22.6 |\n",
       "+----------+------+\n",
       "| 203076   | 23.9 |\n",
       "+----------+------+\n",
       "| 203078   | 21.3 |\n",
       "+----------+------+\n",
       "| 203081   | 24.4 |\n",
       "+----------+------+\n",
       "| 203507   | 20.3 |\n",
       "+----------+------+\n",
       "| 203954   | 24.3 |\n",
       "+----------+------+\n",
       "| 1626157  | 22.7 |\n",
       "+----------+------+\n",
       "| 1626164  | 22.5 |\n",
       "+----------+------+\n",
       "| 1628378  | 22.7 |\n",
       "+----------+------+\n",
       "| 1629027  | 24.0 |\n",
       "+----------+------+\n",
       "| 1629029  | 25.0 |\n",
       "+----------+------+\n",
       "| 1629627  | 23.1 |\n",
       "+----------+------+"
      ]
     },
     "execution_count": 11,
     "metadata": {},
     "output_type": "execute_result"
    }
   ],
   "source": [
    "-- 篩選生涯場均得分超過 20 分的球員\n",
    "SELECT personId,\n",
    "       ppg\n",
    "  FROM career_summaries\n",
    " WHERE ppg > 20;"
   ]
  },
  {
   "cell_type": "markdown",
   "id": "quantitative-square",
   "metadata": {
    "slideshow": {
     "slide_type": "slide"
    }
   },
   "source": [
    "## 特徵比對"
   ]
  },
  {
   "cell_type": "markdown",
   "id": "threaded-police",
   "metadata": {
    "slideshow": {
     "slide_type": "subslide"
    }
   },
   "source": [
    "## 除了基礎比較運算符，對文字類型的變數撰寫條件時，還能夠使用具備特徵比對（Pattern matching）性質的比較運算符 `LIKE`。"
   ]
  },
  {
   "cell_type": "markdown",
   "id": "express-quarterly",
   "metadata": {
    "slideshow": {
     "slide_type": "subslide"
    }
   },
   "source": [
    "## 使用 `LIKE` 比較運算符的時候需要搭配萬用字元（Wildcards）\n",
    "\n",
    "|萬用字元|作用描述|\n",
    "|-------|------|\n",
    "|`%`|表示任意文字，包含空字串|\n",
    "|`_`|表示剛好一個文字|"
   ]
  },
  {
   "cell_type": "code",
   "execution_count": 12,
   "id": "activated-regular",
   "metadata": {
    "slideshow": {
     "slide_type": "subslide"
    }
   },
   "outputs": [
    {
     "data": {
      "text/html": [
       "<table>\n",
       "<tr>\n",
       "<th>firstName</th>\n",
       "</tr>\n",
       "<tr>\n",
       "<td>LeBron</td>\n",
       "</tr>\n",
       "<tr>\n",
       "<td>Lou</td>\n",
       "</tr>\n",
       "<tr>\n",
       "<td>LaMarcus</td>\n",
       "</tr>\n",
       "<tr>\n",
       "<td>Langston</td>\n",
       "</tr>\n",
       "<tr>\n",
       "<td>Larry</td>\n",
       "</tr>\n",
       "<tr>\n",
       "<td>Lonzo</td>\n",
       "</tr>\n",
       "<tr>\n",
       "<td>Lauri</td>\n",
       "</tr>\n",
       "<tr>\n",
       "<td>Luke</td>\n",
       "</tr>\n",
       "<tr>\n",
       "<td>Luke</td>\n",
       "</tr>\n",
       "<tr>\n",
       "<td>Landry</td>\n",
       "</tr>\n",
       "<tr>\n",
       "<td>Lonnie</td>\n",
       "</tr>\n",
       "<tr>\n",
       "<td>Luka</td>\n",
       "</tr>\n",
       "<tr>\n",
       "<td>Luguentz</td>\n",
       "</tr>\n",
       "<tr>\n",
       "<td>Luka</td>\n",
       "</tr>\n",
       "<tr>\n",
       "<td>LaMelo</td>\n",
       "</tr>\n",
       "<tr>\n",
       "<td>Lamar</td>\n",
       "</tr>\n",
       "</table>"
      ],
      "text/plain": [
       "+-----------+\n",
       "| firstName |\n",
       "+-----------+\n",
       "| LeBron    |\n",
       "+-----------+\n",
       "| Lou       |\n",
       "+-----------+\n",
       "| LaMarcus  |\n",
       "+-----------+\n",
       "| Langston  |\n",
       "+-----------+\n",
       "| Larry     |\n",
       "+-----------+\n",
       "| Lonzo     |\n",
       "+-----------+\n",
       "| Lauri     |\n",
       "+-----------+\n",
       "| Luke      |\n",
       "+-----------+\n",
       "| Luke      |\n",
       "+-----------+\n",
       "| Landry    |\n",
       "+-----------+\n",
       "| Lonnie    |\n",
       "+-----------+\n",
       "| Luka      |\n",
       "+-----------+\n",
       "| Luguentz  |\n",
       "+-----------+\n",
       "| Luka      |\n",
       "+-----------+\n",
       "| LaMelo    |\n",
       "+-----------+\n",
       "| Lamar     |\n",
       "+-----------+"
      ]
     },
     "execution_count": 12,
     "metadata": {},
     "output_type": "execute_result"
    }
   ],
   "source": [
    "-- 篩選名字是 L 開頭的球員\n",
    "SELECT firstName\n",
    "  FROM players\n",
    " WHERE firstName LIKE 'L%';"
   ]
  },
  {
   "cell_type": "code",
   "execution_count": 13,
   "id": "fewer-milwaukee",
   "metadata": {
    "slideshow": {
     "slide_type": "subslide"
    }
   },
   "outputs": [
    {
     "data": {
      "text/html": [
       "<table>\n",
       "<tr>\n",
       "<th>firstName</th>\n",
       "</tr>\n",
       "<tr>\n",
       "<td>LeBron</td>\n",
       "</tr>\n",
       "<tr>\n",
       "<td>Landry</td>\n",
       "</tr>\n",
       "<tr>\n",
       "<td>Lonnie</td>\n",
       "</tr>\n",
       "<tr>\n",
       "<td>LaMelo</td>\n",
       "</tr>\n",
       "</table>"
      ],
      "text/plain": [
       "+-----------+\n",
       "| firstName |\n",
       "+-----------+\n",
       "| LeBron    |\n",
       "+-----------+\n",
       "| Landry    |\n",
       "+-----------+\n",
       "| Lonnie    |\n",
       "+-----------+\n",
       "| LaMelo    |\n",
       "+-----------+"
      ]
     },
     "execution_count": 13,
     "metadata": {},
     "output_type": "execute_result"
    }
   ],
   "source": [
    "-- 篩選名字是 L 開頭後面接五個字元的球員\n",
    "SELECT firstName\n",
    "  FROM players\n",
    " WHERE firstName LIKE 'L_____'; -- 五個底線"
   ]
  },
  {
   "cell_type": "markdown",
   "id": "italic-symposium",
   "metadata": {
    "slideshow": {
     "slide_type": "slide"
    }
   },
   "source": [
    "## 邏輯運算符"
   ]
  },
  {
   "cell_type": "markdown",
   "id": "declared-novelty",
   "metadata": {
    "slideshow": {
     "slide_type": "subslide"
    }
   },
   "source": [
    "## 當 `WHERE` 敘述之後的條件超過一個的時候，必須使用邏輯運算符連結這些條件。"
   ]
  },
  {
   "cell_type": "markdown",
   "id": "skilled-demonstration",
   "metadata": {
    "slideshow": {
     "slide_type": "subslide"
    }
   },
   "source": [
    "## 基礎的邏輯運算符有：\n",
    "\n",
    "- `AND` 代表條件的交集。\n",
    "- `OR` 代表條件的聯集。\n",
    "- `BETWEEN` 處理數值條件的交集。\n",
    "- `IN` 處理文字條件的聯集。\n",
    "- `NOT` 反轉真假。"
   ]
  },
  {
   "cell_type": "markdown",
   "id": "later-toddler",
   "metadata": {
    "slideshow": {
     "slide_type": "subslide"
    }
   },
   "source": [
    "## 使用 `AND` 連結兩個條件時，要兩皆為真（`1`）才為真，其餘狀況均為假（`0`）"
   ]
  },
  {
   "cell_type": "code",
   "execution_count": 14,
   "id": "registered-editing",
   "metadata": {},
   "outputs": [
    {
     "data": {
      "text/html": [
       "<table>\n",
       "<tr>\n",
       "<th>condition_1</th>\n",
       "<th>condition_2</th>\n",
       "<th>condition_1_and_2</th>\n",
       "</tr>\n",
       "<tr>\n",
       "<td>1</td>\n",
       "<td>0</td>\n",
       "<td>0</td>\n",
       "</tr>\n",
       "<tr>\n",
       "<td>1</td>\n",
       "<td>0</td>\n",
       "<td>0</td>\n",
       "</tr>\n",
       "<tr>\n",
       "<td>1</td>\n",
       "<td>0</td>\n",
       "<td>0</td>\n",
       "</tr>\n",
       "<tr>\n",
       "<td>1</td>\n",
       "<td>0</td>\n",
       "<td>0</td>\n",
       "</tr>\n",
       "<tr>\n",
       "<td>1</td>\n",
       "<td>1</td>\n",
       "<td>1</td>\n",
       "</tr>\n",
       "<tr>\n",
       "<td>1</td>\n",
       "<td>0</td>\n",
       "<td>0</td>\n",
       "</tr>\n",
       "<tr>\n",
       "<td>0</td>\n",
       "<td>1</td>\n",
       "<td>0</td>\n",
       "</tr>\n",
       "<tr>\n",
       "<td>0</td>\n",
       "<td>1</td>\n",
       "<td>0</td>\n",
       "</tr>\n",
       "<tr>\n",
       "<td>1</td>\n",
       "<td>0</td>\n",
       "<td>0</td>\n",
       "</tr>\n",
       "<tr>\n",
       "<td>1</td>\n",
       "<td>0</td>\n",
       "<td>0</td>\n",
       "</tr>\n",
       "</table>"
      ],
      "text/plain": [
       "+-------------+-------------+-------------------+\n",
       "| condition_1 | condition_2 | condition_1_and_2 |\n",
       "+-------------+-------------+-------------------+\n",
       "| 1           | 0           | 0                 |\n",
       "+-------------+-------------+-------------------+\n",
       "| 1           | 0           | 0                 |\n",
       "+-------------+-------------+-------------------+\n",
       "| 1           | 0           | 0                 |\n",
       "+-------------+-------------+-------------------+\n",
       "| 1           | 0           | 0                 |\n",
       "+-------------+-------------+-------------------+\n",
       "| 1           | 1           | 1                 |\n",
       "+-------------+-------------+-------------------+\n",
       "| 1           | 0           | 0                 |\n",
       "+-------------+-------------+-------------------+\n",
       "| 0           | 1           | 0                 |\n",
       "+-------------+-------------+-------------------+\n",
       "| 0           | 1           | 0                 |\n",
       "+-------------+-------------+-------------------+\n",
       "| 1           | 0           | 0                 |\n",
       "+-------------+-------------+-------------------+\n",
       "| 1           | 0           | 0                 |\n",
       "+-------------+-------------+-------------------+"
      ]
     },
     "execution_count": 14,
     "metadata": {},
     "output_type": "execute_result"
    }
   ],
   "source": [
    "SELECT heightMeters >= 1.9 AS condition_1,\n",
    "       heightMeters <= 2.0 AS condition_2,\n",
    "       heightMeters >= 1.9 AND heightMeters <= 2.0 AS condition_1_and_2\n",
    "  FROM players\n",
    " LIMIT 10;"
   ]
  },
  {
   "cell_type": "code",
   "execution_count": 15,
   "id": "adult-password",
   "metadata": {
    "slideshow": {
     "slide_type": "subslide"
    }
   },
   "outputs": [
    {
     "data": {
      "text/html": [
       "<table>\n",
       "<tr>\n",
       "<th>heightMeters</th>\n",
       "</tr>\n",
       "<tr>\n",
       "<td>1.98</td>\n",
       "</tr>\n",
       "<tr>\n",
       "<td>1.9</td>\n",
       "</tr>\n",
       "<tr>\n",
       "<td>1.96</td>\n",
       "</tr>\n",
       "<tr>\n",
       "<td>1.98</td>\n",
       "</tr>\n",
       "<tr>\n",
       "<td>1.9</td>\n",
       "</tr>\n",
       "<tr>\n",
       "<td>1.9</td>\n",
       "</tr>\n",
       "<tr>\n",
       "<td>1.93</td>\n",
       "</tr>\n",
       "<tr>\n",
       "<td>1.9</td>\n",
       "</tr>\n",
       "<tr>\n",
       "<td>1.96</td>\n",
       "</tr>\n",
       "<tr>\n",
       "<td>1.9</td>\n",
       "</tr>\n",
       "</table>"
      ],
      "text/plain": [
       "+--------------+\n",
       "| heightMeters |\n",
       "+--------------+\n",
       "| 1.98         |\n",
       "+--------------+\n",
       "| 1.9          |\n",
       "+--------------+\n",
       "| 1.96         |\n",
       "+--------------+\n",
       "| 1.98         |\n",
       "+--------------+\n",
       "| 1.9          |\n",
       "+--------------+\n",
       "| 1.9          |\n",
       "+--------------+\n",
       "| 1.93         |\n",
       "+--------------+\n",
       "| 1.9          |\n",
       "+--------------+\n",
       "| 1.96         |\n",
       "+--------------+\n",
       "| 1.9          |\n",
       "+--------------+"
      ]
     },
     "execution_count": 15,
     "metadata": {},
     "output_type": "execute_result"
    }
   ],
   "source": [
    "SELECT heightMeters\n",
    "  FROM players\n",
    " WHERE heightMeters >= 1.9 AND \n",
    "       heightMeters <= 2.0\n",
    " LIMIT 10;"
   ]
  },
  {
   "cell_type": "markdown",
   "id": "efficient-entrance",
   "metadata": {
    "slideshow": {
     "slide_type": "subslide"
    }
   },
   "source": [
    "## 採取 `AND` 連結兩個數值比較條件時，可以使用 `BETWEEN` 邏輯運算符來縮減程式碼"
   ]
  },
  {
   "cell_type": "code",
   "execution_count": 16,
   "id": "selective-integrity",
   "metadata": {},
   "outputs": [
    {
     "data": {
      "text/html": [
       "<table>\n",
       "<tr>\n",
       "<th>heightMeters</th>\n",
       "</tr>\n",
       "<tr>\n",
       "<td>1.98</td>\n",
       "</tr>\n",
       "<tr>\n",
       "<td>1.9</td>\n",
       "</tr>\n",
       "<tr>\n",
       "<td>1.96</td>\n",
       "</tr>\n",
       "<tr>\n",
       "<td>1.98</td>\n",
       "</tr>\n",
       "<tr>\n",
       "<td>1.9</td>\n",
       "</tr>\n",
       "<tr>\n",
       "<td>1.9</td>\n",
       "</tr>\n",
       "<tr>\n",
       "<td>1.93</td>\n",
       "</tr>\n",
       "<tr>\n",
       "<td>1.9</td>\n",
       "</tr>\n",
       "<tr>\n",
       "<td>1.96</td>\n",
       "</tr>\n",
       "<tr>\n",
       "<td>1.9</td>\n",
       "</tr>\n",
       "</table>"
      ],
      "text/plain": [
       "+--------------+\n",
       "| heightMeters |\n",
       "+--------------+\n",
       "| 1.98         |\n",
       "+--------------+\n",
       "| 1.9          |\n",
       "+--------------+\n",
       "| 1.96         |\n",
       "+--------------+\n",
       "| 1.98         |\n",
       "+--------------+\n",
       "| 1.9          |\n",
       "+--------------+\n",
       "| 1.9          |\n",
       "+--------------+\n",
       "| 1.93         |\n",
       "+--------------+\n",
       "| 1.9          |\n",
       "+--------------+\n",
       "| 1.96         |\n",
       "+--------------+\n",
       "| 1.9          |\n",
       "+--------------+"
      ]
     },
     "execution_count": 16,
     "metadata": {},
     "output_type": "execute_result"
    }
   ],
   "source": [
    "SELECT heightMeters\n",
    "  FROM players\n",
    " WHERE heightMeters BETWEEN 1.9 AND 2.0\n",
    " LIMIT 10;"
   ]
  },
  {
   "cell_type": "markdown",
   "id": "dress-while",
   "metadata": {
    "slideshow": {
     "slide_type": "subslide"
    }
   },
   "source": [
    "## 使用 `OR` 連結兩個條件時，要兩皆為假（`0`）才為假，其餘狀況均為真（`1`）"
   ]
  },
  {
   "cell_type": "code",
   "execution_count": 17,
   "id": "collaborative-tooth",
   "metadata": {
    "slideshow": {
     "slide_type": "-"
    }
   },
   "outputs": [
    {
     "data": {
      "text/html": [
       "<table>\n",
       "<tr>\n",
       "<th>condition_1</th>\n",
       "<th>condition_2</th>\n",
       "<th>condition_1_or_2</th>\n",
       "</tr>\n",
       "<tr>\n",
       "<td>0</td>\n",
       "<td>0</td>\n",
       "<td>0</td>\n",
       "</tr>\n",
       "<tr>\n",
       "<td>1</td>\n",
       "<td>0</td>\n",
       "<td>1</td>\n",
       "</tr>\n",
       "<tr>\n",
       "<td>0</td>\n",
       "<td>0</td>\n",
       "<td>0</td>\n",
       "</tr>\n",
       "<tr>\n",
       "<td>0</td>\n",
       "<td>0</td>\n",
       "<td>0</td>\n",
       "</tr>\n",
       "<tr>\n",
       "<td>0</td>\n",
       "<td>0</td>\n",
       "<td>0</td>\n",
       "</tr>\n",
       "<tr>\n",
       "<td>0</td>\n",
       "<td>0</td>\n",
       "<td>0</td>\n",
       "</tr>\n",
       "<tr>\n",
       "<td>0</td>\n",
       "<td>0</td>\n",
       "<td>0</td>\n",
       "</tr>\n",
       "<tr>\n",
       "<td>0</td>\n",
       "<td>1</td>\n",
       "<td>1</td>\n",
       "</tr>\n",
       "<tr>\n",
       "<td>0</td>\n",
       "<td>0</td>\n",
       "<td>0</td>\n",
       "</tr>\n",
       "<tr>\n",
       "<td>0</td>\n",
       "<td>1</td>\n",
       "<td>1</td>\n",
       "</tr>\n",
       "<tr>\n",
       "<td>0</td>\n",
       "<td>1</td>\n",
       "<td>1</td>\n",
       "</tr>\n",
       "<tr>\n",
       "<td>0</td>\n",
       "<td>0</td>\n",
       "<td>0</td>\n",
       "</tr>\n",
       "<tr>\n",
       "<td>0</td>\n",
       "<td>0</td>\n",
       "<td>0</td>\n",
       "</tr>\n",
       "<tr>\n",
       "<td>0</td>\n",
       "<td>0</td>\n",
       "<td>0</td>\n",
       "</tr>\n",
       "<tr>\n",
       "<td>1</td>\n",
       "<td>0</td>\n",
       "<td>1</td>\n",
       "</tr>\n",
       "<tr>\n",
       "<td>1</td>\n",
       "<td>0</td>\n",
       "<td>1</td>\n",
       "</tr>\n",
       "<tr>\n",
       "<td>0</td>\n",
       "<td>0</td>\n",
       "<td>0</td>\n",
       "</tr>\n",
       "<tr>\n",
       "<td>0</td>\n",
       "<td>0</td>\n",
       "<td>0</td>\n",
       "</tr>\n",
       "<tr>\n",
       "<td>1</td>\n",
       "<td>0</td>\n",
       "<td>1</td>\n",
       "</tr>\n",
       "<tr>\n",
       "<td>0</td>\n",
       "<td>1</td>\n",
       "<td>1</td>\n",
       "</tr>\n",
       "<tr>\n",
       "<td>0</td>\n",
       "<td>0</td>\n",
       "<td>0</td>\n",
       "</tr>\n",
       "<tr>\n",
       "<td>0</td>\n",
       "<td>1</td>\n",
       "<td>1</td>\n",
       "</tr>\n",
       "<tr>\n",
       "<td>0</td>\n",
       "<td>0</td>\n",
       "<td>0</td>\n",
       "</tr>\n",
       "<tr>\n",
       "<td>0</td>\n",
       "<td>0</td>\n",
       "<td>0</td>\n",
       "</tr>\n",
       "<tr>\n",
       "<td>1</td>\n",
       "<td>0</td>\n",
       "<td>1</td>\n",
       "</tr>\n",
       "<tr>\n",
       "<td>0</td>\n",
       "<td>0</td>\n",
       "<td>0</td>\n",
       "</tr>\n",
       "<tr>\n",
       "<td>0</td>\n",
       "<td>0</td>\n",
       "<td>0</td>\n",
       "</tr>\n",
       "<tr>\n",
       "<td>0</td>\n",
       "<td>0</td>\n",
       "<td>0</td>\n",
       "</tr>\n",
       "<tr>\n",
       "<td>0</td>\n",
       "<td>0</td>\n",
       "<td>0</td>\n",
       "</tr>\n",
       "<tr>\n",
       "<td>0</td>\n",
       "<td>0</td>\n",
       "<td>0</td>\n",
       "</tr>\n",
       "</table>"
      ],
      "text/plain": [
       "+-------------+-------------+------------------+\n",
       "| condition_1 | condition_2 | condition_1_or_2 |\n",
       "+-------------+-------------+------------------+\n",
       "| 0           | 0           | 0                |\n",
       "+-------------+-------------+------------------+\n",
       "| 1           | 0           | 1                |\n",
       "+-------------+-------------+------------------+\n",
       "| 0           | 0           | 0                |\n",
       "+-------------+-------------+------------------+\n",
       "| 0           | 0           | 0                |\n",
       "+-------------+-------------+------------------+\n",
       "| 0           | 0           | 0                |\n",
       "+-------------+-------------+------------------+\n",
       "| 0           | 0           | 0                |\n",
       "+-------------+-------------+------------------+\n",
       "| 0           | 0           | 0                |\n",
       "+-------------+-------------+------------------+\n",
       "| 0           | 1           | 1                |\n",
       "+-------------+-------------+------------------+\n",
       "| 0           | 0           | 0                |\n",
       "+-------------+-------------+------------------+\n",
       "| 0           | 1           | 1                |\n",
       "+-------------+-------------+------------------+\n",
       "| 0           | 1           | 1                |\n",
       "+-------------+-------------+------------------+\n",
       "| 0           | 0           | 0                |\n",
       "+-------------+-------------+------------------+\n",
       "| 0           | 0           | 0                |\n",
       "+-------------+-------------+------------------+\n",
       "| 0           | 0           | 0                |\n",
       "+-------------+-------------+------------------+\n",
       "| 1           | 0           | 1                |\n",
       "+-------------+-------------+------------------+\n",
       "| 1           | 0           | 1                |\n",
       "+-------------+-------------+------------------+\n",
       "| 0           | 0           | 0                |\n",
       "+-------------+-------------+------------------+\n",
       "| 0           | 0           | 0                |\n",
       "+-------------+-------------+------------------+\n",
       "| 1           | 0           | 1                |\n",
       "+-------------+-------------+------------------+\n",
       "| 0           | 1           | 1                |\n",
       "+-------------+-------------+------------------+\n",
       "| 0           | 0           | 0                |\n",
       "+-------------+-------------+------------------+\n",
       "| 0           | 1           | 1                |\n",
       "+-------------+-------------+------------------+\n",
       "| 0           | 0           | 0                |\n",
       "+-------------+-------------+------------------+\n",
       "| 0           | 0           | 0                |\n",
       "+-------------+-------------+------------------+\n",
       "| 1           | 0           | 1                |\n",
       "+-------------+-------------+------------------+\n",
       "| 0           | 0           | 0                |\n",
       "+-------------+-------------+------------------+\n",
       "| 0           | 0           | 0                |\n",
       "+-------------+-------------+------------------+\n",
       "| 0           | 0           | 0                |\n",
       "+-------------+-------------+------------------+\n",
       "| 0           | 0           | 0                |\n",
       "+-------------+-------------+------------------+\n",
       "| 0           | 0           | 0                |\n",
       "+-------------+-------------+------------------+"
      ]
     },
     "execution_count": 17,
     "metadata": {},
     "output_type": "execute_result"
    }
   ],
   "source": [
    "SELECT divName = 'Atlantic' AS condition_1,\n",
    "       divName = 'Pacific' AS condition_2,\n",
    "       divName = 'Atlantic' OR divName = 'Pacific' AS condition_1_or_2\n",
    "  FROM teams;"
   ]
  },
  {
   "cell_type": "code",
   "execution_count": 18,
   "id": "minor-sheffield",
   "metadata": {
    "slideshow": {
     "slide_type": "subslide"
    }
   },
   "outputs": [
    {
     "data": {
      "text/html": [
       "<table>\n",
       "<tr>\n",
       "<th>fullName</th>\n",
       "<th>divName</th>\n",
       "</tr>\n",
       "<tr>\n",
       "<td>Boston Celtics</td>\n",
       "<td>Atlantic</td>\n",
       "</tr>\n",
       "<tr>\n",
       "<td>Golden State Warriors</td>\n",
       "<td>Pacific</td>\n",
       "</tr>\n",
       "<tr>\n",
       "<td>LA Clippers</td>\n",
       "<td>Pacific</td>\n",
       "</tr>\n",
       "<tr>\n",
       "<td>Los Angeles Lakers</td>\n",
       "<td>Pacific</td>\n",
       "</tr>\n",
       "<tr>\n",
       "<td>Brooklyn Nets</td>\n",
       "<td>Atlantic</td>\n",
       "</tr>\n",
       "<tr>\n",
       "<td>New York Knicks</td>\n",
       "<td>Atlantic</td>\n",
       "</tr>\n",
       "<tr>\n",
       "<td>Philadelphia 76ers</td>\n",
       "<td>Atlantic</td>\n",
       "</tr>\n",
       "<tr>\n",
       "<td>Phoenix Suns</td>\n",
       "<td>Pacific</td>\n",
       "</tr>\n",
       "<tr>\n",
       "<td>Sacramento Kings</td>\n",
       "<td>Pacific</td>\n",
       "</tr>\n",
       "<tr>\n",
       "<td>Toronto Raptors</td>\n",
       "<td>Atlantic</td>\n",
       "</tr>\n",
       "</table>"
      ],
      "text/plain": [
       "+-----------------------+----------+\n",
       "| fullName              | divName  |\n",
       "+-----------------------+----------+\n",
       "| Boston Celtics        | Atlantic |\n",
       "+-----------------------+----------+\n",
       "| Golden State Warriors | Pacific  |\n",
       "+-----------------------+----------+\n",
       "| LA Clippers           | Pacific  |\n",
       "+-----------------------+----------+\n",
       "| Los Angeles Lakers    | Pacific  |\n",
       "+-----------------------+----------+\n",
       "| Brooklyn Nets         | Atlantic |\n",
       "+-----------------------+----------+\n",
       "| New York Knicks       | Atlantic |\n",
       "+-----------------------+----------+\n",
       "| Philadelphia 76ers    | Atlantic |\n",
       "+-----------------------+----------+\n",
       "| Phoenix Suns          | Pacific  |\n",
       "+-----------------------+----------+\n",
       "| Sacramento Kings      | Pacific  |\n",
       "+-----------------------+----------+\n",
       "| Toronto Raptors       | Atlantic |\n",
       "+-----------------------+----------+"
      ]
     },
     "execution_count": 18,
     "metadata": {},
     "output_type": "execute_result"
    }
   ],
   "source": [
    "SELECT fullName,\n",
    "       divName\n",
    "  FROM teams\n",
    " WHERE divName = 'Atlantic' OR\n",
    "       divName = 'Pacific';"
   ]
  },
  {
   "cell_type": "markdown",
   "id": "severe-missouri",
   "metadata": {
    "slideshow": {
     "slide_type": "subslide"
    }
   },
   "source": [
    "## 採取 `OR` 連結兩個文字比較條件時，可以使用 `IN` 邏輯運算符來縮減程式碼"
   ]
  },
  {
   "cell_type": "code",
   "execution_count": 19,
   "id": "separate-legislation",
   "metadata": {},
   "outputs": [
    {
     "data": {
      "text/html": [
       "<table>\n",
       "<tr>\n",
       "<th>fullName</th>\n",
       "<th>divName</th>\n",
       "</tr>\n",
       "<tr>\n",
       "<td>Boston Celtics</td>\n",
       "<td>Atlantic</td>\n",
       "</tr>\n",
       "<tr>\n",
       "<td>Golden State Warriors</td>\n",
       "<td>Pacific</td>\n",
       "</tr>\n",
       "<tr>\n",
       "<td>LA Clippers</td>\n",
       "<td>Pacific</td>\n",
       "</tr>\n",
       "<tr>\n",
       "<td>Los Angeles Lakers</td>\n",
       "<td>Pacific</td>\n",
       "</tr>\n",
       "<tr>\n",
       "<td>Brooklyn Nets</td>\n",
       "<td>Atlantic</td>\n",
       "</tr>\n",
       "<tr>\n",
       "<td>New York Knicks</td>\n",
       "<td>Atlantic</td>\n",
       "</tr>\n",
       "<tr>\n",
       "<td>Philadelphia 76ers</td>\n",
       "<td>Atlantic</td>\n",
       "</tr>\n",
       "<tr>\n",
       "<td>Phoenix Suns</td>\n",
       "<td>Pacific</td>\n",
       "</tr>\n",
       "<tr>\n",
       "<td>Sacramento Kings</td>\n",
       "<td>Pacific</td>\n",
       "</tr>\n",
       "<tr>\n",
       "<td>Toronto Raptors</td>\n",
       "<td>Atlantic</td>\n",
       "</tr>\n",
       "</table>"
      ],
      "text/plain": [
       "+-----------------------+----------+\n",
       "| fullName              | divName  |\n",
       "+-----------------------+----------+\n",
       "| Boston Celtics        | Atlantic |\n",
       "+-----------------------+----------+\n",
       "| Golden State Warriors | Pacific  |\n",
       "+-----------------------+----------+\n",
       "| LA Clippers           | Pacific  |\n",
       "+-----------------------+----------+\n",
       "| Los Angeles Lakers    | Pacific  |\n",
       "+-----------------------+----------+\n",
       "| Brooklyn Nets         | Atlantic |\n",
       "+-----------------------+----------+\n",
       "| New York Knicks       | Atlantic |\n",
       "+-----------------------+----------+\n",
       "| Philadelphia 76ers    | Atlantic |\n",
       "+-----------------------+----------+\n",
       "| Phoenix Suns          | Pacific  |\n",
       "+-----------------------+----------+\n",
       "| Sacramento Kings      | Pacific  |\n",
       "+-----------------------+----------+\n",
       "| Toronto Raptors       | Atlantic |\n",
       "+-----------------------+----------+"
      ]
     },
     "execution_count": 19,
     "metadata": {},
     "output_type": "execute_result"
    }
   ],
   "source": [
    "SELECT fullName,\n",
    "       divName\n",
    "  FROM teams\n",
    " WHERE divName IN ('Atlantic', 'Pacific');"
   ]
  },
  {
   "cell_type": "markdown",
   "id": "instant-respondent",
   "metadata": {
    "slideshow": {
     "slide_type": "subslide"
    }
   },
   "source": [
    "## 使用 `NOT` 將條件的比較結果反轉，亦即真假互換"
   ]
  },
  {
   "cell_type": "code",
   "execution_count": 20,
   "id": "retained-valve",
   "metadata": {},
   "outputs": [
    {
     "data": {
      "text/html": [
       "<table>\n",
       "<tr>\n",
       "<th>true</th>\n",
       "<th>not_true</th>\n",
       "</tr>\n",
       "<tr>\n",
       "<td>1</td>\n",
       "<td>0</td>\n",
       "</tr>\n",
       "</table>"
      ],
      "text/plain": [
       "+------+----------+\n",
       "| true | not_true |\n",
       "+------+----------+\n",
       "| 1    | 0        |\n",
       "+------+----------+"
      ]
     },
     "execution_count": 20,
     "metadata": {},
     "output_type": "execute_result"
    }
   ],
   "source": [
    "SELECT 55 = 55 AS true,\n",
    "       NOT 55 = 55 AS not_true;"
   ]
  },
  {
   "cell_type": "code",
   "execution_count": 21,
   "id": "valuable-region",
   "metadata": {
    "slideshow": {
     "slide_type": "subslide"
    }
   },
   "outputs": [
    {
     "data": {
      "text/html": [
       "<table>\n",
       "<tr>\n",
       "<th>condition_1</th>\n",
       "<th>condition_2</th>\n",
       "<th>not_condition_1_or_2</th>\n",
       "</tr>\n",
       "<tr>\n",
       "<td>0</td>\n",
       "<td>0</td>\n",
       "<td>1</td>\n",
       "</tr>\n",
       "<tr>\n",
       "<td>1</td>\n",
       "<td>0</td>\n",
       "<td>0</td>\n",
       "</tr>\n",
       "<tr>\n",
       "<td>0</td>\n",
       "<td>0</td>\n",
       "<td>1</td>\n",
       "</tr>\n",
       "<tr>\n",
       "<td>0</td>\n",
       "<td>0</td>\n",
       "<td>1</td>\n",
       "</tr>\n",
       "<tr>\n",
       "<td>0</td>\n",
       "<td>0</td>\n",
       "<td>1</td>\n",
       "</tr>\n",
       "<tr>\n",
       "<td>0</td>\n",
       "<td>0</td>\n",
       "<td>1</td>\n",
       "</tr>\n",
       "<tr>\n",
       "<td>0</td>\n",
       "<td>0</td>\n",
       "<td>1</td>\n",
       "</tr>\n",
       "<tr>\n",
       "<td>0</td>\n",
       "<td>1</td>\n",
       "<td>0</td>\n",
       "</tr>\n",
       "<tr>\n",
       "<td>0</td>\n",
       "<td>0</td>\n",
       "<td>1</td>\n",
       "</tr>\n",
       "<tr>\n",
       "<td>0</td>\n",
       "<td>1</td>\n",
       "<td>0</td>\n",
       "</tr>\n",
       "<tr>\n",
       "<td>0</td>\n",
       "<td>1</td>\n",
       "<td>0</td>\n",
       "</tr>\n",
       "<tr>\n",
       "<td>0</td>\n",
       "<td>0</td>\n",
       "<td>1</td>\n",
       "</tr>\n",
       "<tr>\n",
       "<td>0</td>\n",
       "<td>0</td>\n",
       "<td>1</td>\n",
       "</tr>\n",
       "<tr>\n",
       "<td>0</td>\n",
       "<td>0</td>\n",
       "<td>1</td>\n",
       "</tr>\n",
       "<tr>\n",
       "<td>1</td>\n",
       "<td>0</td>\n",
       "<td>0</td>\n",
       "</tr>\n",
       "<tr>\n",
       "<td>1</td>\n",
       "<td>0</td>\n",
       "<td>0</td>\n",
       "</tr>\n",
       "<tr>\n",
       "<td>0</td>\n",
       "<td>0</td>\n",
       "<td>1</td>\n",
       "</tr>\n",
       "<tr>\n",
       "<td>0</td>\n",
       "<td>0</td>\n",
       "<td>1</td>\n",
       "</tr>\n",
       "<tr>\n",
       "<td>1</td>\n",
       "<td>0</td>\n",
       "<td>0</td>\n",
       "</tr>\n",
       "<tr>\n",
       "<td>0</td>\n",
       "<td>1</td>\n",
       "<td>0</td>\n",
       "</tr>\n",
       "<tr>\n",
       "<td>0</td>\n",
       "<td>0</td>\n",
       "<td>1</td>\n",
       "</tr>\n",
       "<tr>\n",
       "<td>0</td>\n",
       "<td>1</td>\n",
       "<td>0</td>\n",
       "</tr>\n",
       "<tr>\n",
       "<td>0</td>\n",
       "<td>0</td>\n",
       "<td>1</td>\n",
       "</tr>\n",
       "<tr>\n",
       "<td>0</td>\n",
       "<td>0</td>\n",
       "<td>1</td>\n",
       "</tr>\n",
       "<tr>\n",
       "<td>1</td>\n",
       "<td>0</td>\n",
       "<td>0</td>\n",
       "</tr>\n",
       "<tr>\n",
       "<td>0</td>\n",
       "<td>0</td>\n",
       "<td>1</td>\n",
       "</tr>\n",
       "<tr>\n",
       "<td>0</td>\n",
       "<td>0</td>\n",
       "<td>1</td>\n",
       "</tr>\n",
       "<tr>\n",
       "<td>0</td>\n",
       "<td>0</td>\n",
       "<td>1</td>\n",
       "</tr>\n",
       "<tr>\n",
       "<td>0</td>\n",
       "<td>0</td>\n",
       "<td>1</td>\n",
       "</tr>\n",
       "<tr>\n",
       "<td>0</td>\n",
       "<td>0</td>\n",
       "<td>1</td>\n",
       "</tr>\n",
       "</table>"
      ],
      "text/plain": [
       "+-------------+-------------+----------------------+\n",
       "| condition_1 | condition_2 | not_condition_1_or_2 |\n",
       "+-------------+-------------+----------------------+\n",
       "| 0           | 0           | 1                    |\n",
       "+-------------+-------------+----------------------+\n",
       "| 1           | 0           | 0                    |\n",
       "+-------------+-------------+----------------------+\n",
       "| 0           | 0           | 1                    |\n",
       "+-------------+-------------+----------------------+\n",
       "| 0           | 0           | 1                    |\n",
       "+-------------+-------------+----------------------+\n",
       "| 0           | 0           | 1                    |\n",
       "+-------------+-------------+----------------------+\n",
       "| 0           | 0           | 1                    |\n",
       "+-------------+-------------+----------------------+\n",
       "| 0           | 0           | 1                    |\n",
       "+-------------+-------------+----------------------+\n",
       "| 0           | 1           | 0                    |\n",
       "+-------------+-------------+----------------------+\n",
       "| 0           | 0           | 1                    |\n",
       "+-------------+-------------+----------------------+\n",
       "| 0           | 1           | 0                    |\n",
       "+-------------+-------------+----------------------+\n",
       "| 0           | 1           | 0                    |\n",
       "+-------------+-------------+----------------------+\n",
       "| 0           | 0           | 1                    |\n",
       "+-------------+-------------+----------------------+\n",
       "| 0           | 0           | 1                    |\n",
       "+-------------+-------------+----------------------+\n",
       "| 0           | 0           | 1                    |\n",
       "+-------------+-------------+----------------------+\n",
       "| 1           | 0           | 0                    |\n",
       "+-------------+-------------+----------------------+\n",
       "| 1           | 0           | 0                    |\n",
       "+-------------+-------------+----------------------+\n",
       "| 0           | 0           | 1                    |\n",
       "+-------------+-------------+----------------------+\n",
       "| 0           | 0           | 1                    |\n",
       "+-------------+-------------+----------------------+\n",
       "| 1           | 0           | 0                    |\n",
       "+-------------+-------------+----------------------+\n",
       "| 0           | 1           | 0                    |\n",
       "+-------------+-------------+----------------------+\n",
       "| 0           | 0           | 1                    |\n",
       "+-------------+-------------+----------------------+\n",
       "| 0           | 1           | 0                    |\n",
       "+-------------+-------------+----------------------+\n",
       "| 0           | 0           | 1                    |\n",
       "+-------------+-------------+----------------------+\n",
       "| 0           | 0           | 1                    |\n",
       "+-------------+-------------+----------------------+\n",
       "| 1           | 0           | 0                    |\n",
       "+-------------+-------------+----------------------+\n",
       "| 0           | 0           | 1                    |\n",
       "+-------------+-------------+----------------------+\n",
       "| 0           | 0           | 1                    |\n",
       "+-------------+-------------+----------------------+\n",
       "| 0           | 0           | 1                    |\n",
       "+-------------+-------------+----------------------+\n",
       "| 0           | 0           | 1                    |\n",
       "+-------------+-------------+----------------------+\n",
       "| 0           | 0           | 1                    |\n",
       "+-------------+-------------+----------------------+"
      ]
     },
     "execution_count": 21,
     "metadata": {},
     "output_type": "execute_result"
    }
   ],
   "source": [
    "SELECT divName = 'Atlantic' AS condition_1,\n",
    "       divName = 'Pacific' AS condition_2,\n",
    "       NOT (divName = 'Atlantic' OR divName = 'Pacific') AS not_condition_1_or_2\n",
    "  FROM teams;"
   ]
  },
  {
   "cell_type": "code",
   "execution_count": 22,
   "id": "honest-harris",
   "metadata": {
    "slideshow": {
     "slide_type": "subslide"
    }
   },
   "outputs": [
    {
     "data": {
      "text/html": [
       "<table>\n",
       "<tr>\n",
       "<th>fullName</th>\n",
       "<th>divName</th>\n",
       "</tr>\n",
       "<tr>\n",
       "<td>Atlanta Hawks</td>\n",
       "<td>Southeast</td>\n",
       "</tr>\n",
       "<tr>\n",
       "<td>Cleveland Cavaliers</td>\n",
       "<td>Central</td>\n",
       "</tr>\n",
       "<tr>\n",
       "<td>New Orleans Pelicans</td>\n",
       "<td>Southwest</td>\n",
       "</tr>\n",
       "<tr>\n",
       "<td>Chicago Bulls</td>\n",
       "<td>Central</td>\n",
       "</tr>\n",
       "<tr>\n",
       "<td>Dallas Mavericks</td>\n",
       "<td>Southwest</td>\n",
       "</tr>\n",
       "<tr>\n",
       "<td>Denver Nuggets</td>\n",
       "<td>Northwest</td>\n",
       "</tr>\n",
       "<tr>\n",
       "<td>Houston Rockets</td>\n",
       "<td>Southwest</td>\n",
       "</tr>\n",
       "<tr>\n",
       "<td>Miami Heat</td>\n",
       "<td>Southeast</td>\n",
       "</tr>\n",
       "<tr>\n",
       "<td>Milwaukee Bucks</td>\n",
       "<td>Central</td>\n",
       "</tr>\n",
       "<tr>\n",
       "<td>Minnesota Timberwolves</td>\n",
       "<td>Northwest</td>\n",
       "</tr>\n",
       "<tr>\n",
       "<td>Orlando Magic</td>\n",
       "<td>Southeast</td>\n",
       "</tr>\n",
       "<tr>\n",
       "<td>Indiana Pacers</td>\n",
       "<td>Central</td>\n",
       "</tr>\n",
       "<tr>\n",
       "<td>Portland Trail Blazers</td>\n",
       "<td>Northwest</td>\n",
       "</tr>\n",
       "<tr>\n",
       "<td>San Antonio Spurs</td>\n",
       "<td>Southwest</td>\n",
       "</tr>\n",
       "<tr>\n",
       "<td>Oklahoma City Thunder</td>\n",
       "<td>Northwest</td>\n",
       "</tr>\n",
       "<tr>\n",
       "<td>Utah Jazz</td>\n",
       "<td>Northwest</td>\n",
       "</tr>\n",
       "<tr>\n",
       "<td>Memphis Grizzlies</td>\n",
       "<td>Southwest</td>\n",
       "</tr>\n",
       "<tr>\n",
       "<td>Washington Wizards</td>\n",
       "<td>Southeast</td>\n",
       "</tr>\n",
       "<tr>\n",
       "<td>Detroit Pistons</td>\n",
       "<td>Central</td>\n",
       "</tr>\n",
       "<tr>\n",
       "<td>Charlotte Hornets</td>\n",
       "<td>Southeast</td>\n",
       "</tr>\n",
       "</table>"
      ],
      "text/plain": [
       "+------------------------+-----------+\n",
       "| fullName               | divName   |\n",
       "+------------------------+-----------+\n",
       "| Atlanta Hawks          | Southeast |\n",
       "+------------------------+-----------+\n",
       "| Cleveland Cavaliers    | Central   |\n",
       "+------------------------+-----------+\n",
       "| New Orleans Pelicans   | Southwest |\n",
       "+------------------------+-----------+\n",
       "| Chicago Bulls          | Central   |\n",
       "+------------------------+-----------+\n",
       "| Dallas Mavericks       | Southwest |\n",
       "+------------------------+-----------+\n",
       "| Denver Nuggets         | Northwest |\n",
       "+------------------------+-----------+\n",
       "| Houston Rockets        | Southwest |\n",
       "+------------------------+-----------+\n",
       "| Miami Heat             | Southeast |\n",
       "+------------------------+-----------+\n",
       "| Milwaukee Bucks        | Central   |\n",
       "+------------------------+-----------+\n",
       "| Minnesota Timberwolves | Northwest |\n",
       "+------------------------+-----------+\n",
       "| Orlando Magic          | Southeast |\n",
       "+------------------------+-----------+\n",
       "| Indiana Pacers         | Central   |\n",
       "+------------------------+-----------+\n",
       "| Portland Trail Blazers | Northwest |\n",
       "+------------------------+-----------+\n",
       "| San Antonio Spurs      | Southwest |\n",
       "+------------------------+-----------+\n",
       "| Oklahoma City Thunder  | Northwest |\n",
       "+------------------------+-----------+\n",
       "| Utah Jazz              | Northwest |\n",
       "+------------------------+-----------+\n",
       "| Memphis Grizzlies      | Southwest |\n",
       "+------------------------+-----------+\n",
       "| Washington Wizards     | Southeast |\n",
       "+------------------------+-----------+\n",
       "| Detroit Pistons        | Central   |\n",
       "+------------------------+-----------+\n",
       "| Charlotte Hornets      | Southeast |\n",
       "+------------------------+-----------+"
      ]
     },
     "execution_count": 22,
     "metadata": {},
     "output_type": "execute_result"
    }
   ],
   "source": [
    "SELECT fullName,\n",
    "       divName\n",
    "  FROM teams\n",
    " WHERE divName NOT IN ('Atlantic', 'Pacific');"
   ]
  },
  {
   "cell_type": "markdown",
   "id": "stupid-devil",
   "metadata": {
    "slideshow": {
     "slide_type": "slide"
    }
   },
   "source": [
    "## 遺漏值的比較運算符"
   ]
  },
  {
   "cell_type": "markdown",
   "id": "arranged-helen",
   "metadata": {
    "slideshow": {
     "slide_type": "subslide"
    }
   },
   "source": [
    "## `NULL` 遺漏值（或稱空值）不適用基礎比較運算符"
   ]
  },
  {
   "cell_type": "code",
   "execution_count": 23,
   "id": "dried-input",
   "metadata": {},
   "outputs": [
    {
     "data": {
      "text/html": [
       "<table>\n",
       "<tr>\n",
       "<th>null_equals_null</th>\n",
       "<th>null_does_not_equal_null</th>\n",
       "</tr>\n",
       "<tr>\n",
       "<td></td>\n",
       "<td></td>\n",
       "</tr>\n",
       "</table>"
      ],
      "text/plain": [
       "+------------------+--------------------------+\n",
       "| null_equals_null | null_does_not_equal_null |\n",
       "+------------------+--------------------------+\n",
       "\n",
       "+------------------+--------------------------+"
      ]
     },
     "execution_count": 23,
     "metadata": {},
     "output_type": "execute_result"
    }
   ],
   "source": [
    "SELECT NULL = NULL AS null_equals_null,\n",
    "       NULL != NULL AS null_does_not_equal_null;"
   ]
  },
  {
   "cell_type": "markdown",
   "id": "civic-industry",
   "metadata": {
    "slideshow": {
     "slide_type": "subslide"
    }
   },
   "source": [
    "## 要判斷是否為遺漏值，必須使用 `IS NULL` 作為比較運算符"
   ]
  },
  {
   "cell_type": "code",
   "execution_count": 24,
   "id": "ancient-nickname",
   "metadata": {},
   "outputs": [
    {
     "data": {
      "text/html": [
       "<table>\n",
       "<tr>\n",
       "<th>null_equals_null</th>\n",
       "<th>null_does_not_equal_null</th>\n",
       "</tr>\n",
       "<tr>\n",
       "<td>1</td>\n",
       "<td>0</td>\n",
       "</tr>\n",
       "</table>"
      ],
      "text/plain": [
       "+------------------+--------------------------+\n",
       "| null_equals_null | null_does_not_equal_null |\n",
       "+------------------+--------------------------+\n",
       "| 1                | 0                        |\n",
       "+------------------+--------------------------+"
      ]
     },
     "execution_count": 24,
     "metadata": {},
     "output_type": "execute_result"
    }
   ],
   "source": [
    "SELECT NULL IS NULL AS null_equals_null,\n",
    "       NULL IS NOT NULL AS null_does_not_equal_null;"
   ]
  },
  {
   "cell_type": "code",
   "execution_count": 25,
   "id": "cardiovascular-hanging",
   "metadata": {
    "slideshow": {
     "slide_type": "subslide"
    }
   },
   "outputs": [
    {
     "data": {
      "text/html": [
       "<table>\n",
       "<tr>\n",
       "<th>Province_State</th>\n",
       "<th>Country_Region</th>\n",
       "</tr>\n",
       "</table>"
      ],
      "text/plain": [
       "+----------------+----------------+\n",
       "| Province_State | Country_Region |\n",
       "+----------------+----------------+"
      ]
     },
     "execution_count": 25,
     "metadata": {},
     "output_type": "execute_result"
    }
   ],
   "source": [
    "SELECT Province_State,\n",
    "       Country_Region\n",
    "  FROM daily_report\n",
    " WHERE Province_State = NULL;"
   ]
  },
  {
   "cell_type": "code",
   "execution_count": 26,
   "id": "democratic-blair",
   "metadata": {
    "slideshow": {
     "slide_type": "subslide"
    }
   },
   "outputs": [
    {
     "data": {
      "text/html": [
       "<table>\n",
       "<tr>\n",
       "<th>Province_State</th>\n",
       "<th>Country_Region</th>\n",
       "</tr>\n",
       "<tr>\n",
       "<td></td>\n",
       "<td>Afghanistan</td>\n",
       "</tr>\n",
       "<tr>\n",
       "<td></td>\n",
       "<td>Albania</td>\n",
       "</tr>\n",
       "<tr>\n",
       "<td></td>\n",
       "<td>Algeria</td>\n",
       "</tr>\n",
       "<tr>\n",
       "<td></td>\n",
       "<td>Andorra</td>\n",
       "</tr>\n",
       "<tr>\n",
       "<td></td>\n",
       "<td>Angola</td>\n",
       "</tr>\n",
       "<tr>\n",
       "<td></td>\n",
       "<td>Antigua and Barbuda</td>\n",
       "</tr>\n",
       "<tr>\n",
       "<td></td>\n",
       "<td>Argentina</td>\n",
       "</tr>\n",
       "<tr>\n",
       "<td></td>\n",
       "<td>Armenia</td>\n",
       "</tr>\n",
       "<tr>\n",
       "<td></td>\n",
       "<td>Austria</td>\n",
       "</tr>\n",
       "<tr>\n",
       "<td></td>\n",
       "<td>Azerbaijan</td>\n",
       "</tr>\n",
       "</table>"
      ],
      "text/plain": [
       "+----------------+---------------------+\n",
       "| Province_State | Country_Region      |\n",
       "+----------------+---------------------+\n",
       "|                | Afghanistan         |\n",
       "+----------------+---------------------+\n",
       "|                | Albania             |\n",
       "+----------------+---------------------+\n",
       "|                | Algeria             |\n",
       "+----------------+---------------------+\n",
       "|                | Andorra             |\n",
       "+----------------+---------------------+\n",
       "|                | Angola              |\n",
       "+----------------+---------------------+\n",
       "|                | Antigua and Barbuda |\n",
       "+----------------+---------------------+\n",
       "|                | Argentina           |\n",
       "+----------------+---------------------+\n",
       "|                | Armenia             |\n",
       "+----------------+---------------------+\n",
       "|                | Austria             |\n",
       "+----------------+---------------------+\n",
       "|                | Azerbaijan          |\n",
       "+----------------+---------------------+"
      ]
     },
     "execution_count": 26,
     "metadata": {},
     "output_type": "execute_result"
    }
   ],
   "source": [
    "SELECT Province_State,\n",
    "       Country_Region\n",
    "  FROM daily_report\n",
    " WHERE Province_State IS NULL\n",
    " LIMIT 10;"
   ]
  },
  {
   "cell_type": "code",
   "execution_count": 27,
   "id": "nominated-trade",
   "metadata": {
    "slideshow": {
     "slide_type": "subslide"
    }
   },
   "outputs": [
    {
     "data": {
      "text/html": [
       "<table>\n",
       "<tr>\n",
       "<th>Province_State</th>\n",
       "<th>Country_Region</th>\n",
       "</tr>\n",
       "<tr>\n",
       "<td>Australian Capital Territory</td>\n",
       "<td>Australia</td>\n",
       "</tr>\n",
       "<tr>\n",
       "<td>New South Wales</td>\n",
       "<td>Australia</td>\n",
       "</tr>\n",
       "<tr>\n",
       "<td>Northern Territory</td>\n",
       "<td>Australia</td>\n",
       "</tr>\n",
       "<tr>\n",
       "<td>Queensland</td>\n",
       "<td>Australia</td>\n",
       "</tr>\n",
       "<tr>\n",
       "<td>South Australia</td>\n",
       "<td>Australia</td>\n",
       "</tr>\n",
       "<tr>\n",
       "<td>Tasmania</td>\n",
       "<td>Australia</td>\n",
       "</tr>\n",
       "<tr>\n",
       "<td>Victoria</td>\n",
       "<td>Australia</td>\n",
       "</tr>\n",
       "<tr>\n",
       "<td>Western Australia</td>\n",
       "<td>Australia</td>\n",
       "</tr>\n",
       "<tr>\n",
       "<td>Antwerp</td>\n",
       "<td>Belgium</td>\n",
       "</tr>\n",
       "<tr>\n",
       "<td>Brussels</td>\n",
       "<td>Belgium</td>\n",
       "</tr>\n",
       "</table>"
      ],
      "text/plain": [
       "+------------------------------+----------------+\n",
       "| Province_State               | Country_Region |\n",
       "+------------------------------+----------------+\n",
       "| Australian Capital Territory | Australia      |\n",
       "+------------------------------+----------------+\n",
       "| New South Wales              | Australia      |\n",
       "+------------------------------+----------------+\n",
       "| Northern Territory           | Australia      |\n",
       "+------------------------------+----------------+\n",
       "| Queensland                   | Australia      |\n",
       "+------------------------------+----------------+\n",
       "| South Australia              | Australia      |\n",
       "+------------------------------+----------------+\n",
       "| Tasmania                     | Australia      |\n",
       "+------------------------------+----------------+\n",
       "| Victoria                     | Australia      |\n",
       "+------------------------------+----------------+\n",
       "| Western Australia            | Australia      |\n",
       "+------------------------------+----------------+\n",
       "| Antwerp                      | Belgium        |\n",
       "+------------------------------+----------------+\n",
       "| Brussels                     | Belgium        |\n",
       "+------------------------------+----------------+"
      ]
     },
     "execution_count": 27,
     "metadata": {},
     "output_type": "execute_result"
    }
   ],
   "source": [
    "SELECT Province_State,\n",
    "       Country_Region\n",
    "  FROM daily_report\n",
    " WHERE Province_State IS NOT NULL\n",
    " LIMIT 10;"
   ]
  },
  {
   "cell_type": "markdown",
   "id": "understanding-sudan",
   "metadata": {
    "slideshow": {
     "slide_type": "slide"
    }
   },
   "source": [
    "## 重點統整\n",
    "\n",
    "- 加入 `WHERE` 敘述能夠以「條件」作為篩選觀測值的依據。\n",
    "- 對文字類型的變數撰寫條件能夠使用特徵比對的運算符 `LIKE` 搭配萬用字元。\n",
    "- 當 `WHERE` 敘述之後的條件超過一個的時候，必須使用邏輯運算符連結這些條件。\n",
    "- 判斷是否為遺漏值，必須使用 `IS NULL` 作為比較運算符。"
   ]
  },
  {
   "cell_type": "markdown",
   "id": "employed-thousand",
   "metadata": {
    "slideshow": {
     "slide_type": "subslide"
    }
   },
   "source": [
    "## 目前我們會的 SQL\n",
    "\n",
    "```sql\n",
    "SELECT DISTINCT column_name AS alias,\n",
    "       column_name (+, -, *, /, %, ||) column_name AS alias,\n",
    "       FUNCTION_NAME(column_name) AS alias\n",
    "  FROM table_name\n",
    " WHERE condition (AND, OR, NOT, BETWEEN, IN, IS NULL)\n",
    "       condition\n",
    " ORDER BY column_name ASC|DESC\n",
    " LIMIT m;\n",
    "```"
   ]
  }
 ],
 "metadata": {
  "celltoolbar": "Slideshow",
  "kernelspec": {
   "display_name": "xsqlite",
   "language": "sqlite",
   "name": "xsqlite"
  },
  "language_info": {
   "file_extension": "",
   "mimetype": "",
   "name": "sqlite3",
   "version": "3.30.1"
  }
 },
 "nbformat": 4,
 "nbformat_minor": 5
}
