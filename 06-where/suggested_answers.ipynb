{
 "cells": [
  {
   "cell_type": "markdown",
   "metadata": {
    "deletable": false,
    "editable": false
   },
   "source": [
    "# SQL 的五十道練習\n",
    "\n",
    "> 篩選資料\n",
    "\n",
    "郭耀仁 <yaojenkuo@datainpoint.com>，[數據交點](https://www.datainpoint.com)"
   ]
  },
  {
   "cell_type": "code",
   "execution_count": 1,
   "metadata": {
    "deletable": false,
    "editable": false
   },
   "outputs": [
    {
     "data": {
      "text/plain": [
       "<sqlite3.Cursor at 0x7fb6c7b7e650>"
      ]
     },
     "execution_count": 1,
     "metadata": {},
     "output_type": "execute_result"
    }
   ],
   "source": [
    "import sqlite3\n",
    "import unittest\n",
    "import numpy as np\n",
    "import pandas as pd\n",
    "conn = sqlite3.connect('../databases/nba.db')\n",
    "conn.execute(\"\"\"ATTACH '../databases/covid19.db' AS covid19\"\"\")\n",
    "conn.execute(\"\"\"ATTACH '../databases/twElection2020.db' AS twElection2020\"\"\")\n",
    "conn.execute(\"\"\"ATTACH '../databases/imdb.db' AS imdb\"\"\")"
   ]
  },
  {
   "cell_type": "markdown",
   "metadata": {},
   "source": [
    "## 從新冠肺炎的時間序列資料表 `time_series` 中將台灣的觀測值篩選出來，選擇 `Country_Region`、`Date` 與 `Confirmed` 三個欄位。\n",
    "\n",
    "- 預期輸入：SQL 查詢語法。\n",
    "- 預期輸出：(376, 3) 的查詢結果。\n",
    "\n",
    "```\n",
    "    Country_Region        Date  Confirmed\n",
    "0           Taiwan  2020-01-22          1\n",
    "1           Taiwan  2020-01-23          1\n",
    "2           Taiwan  2020-01-24          3\n",
    "3           Taiwan  2020-01-25          3\n",
    "4           Taiwan  2020-01-26          4\n",
    "..             ...         ...        ...\n",
    "371         Taiwan  2021-01-27        893\n",
    "372         Taiwan  2021-01-28        895\n",
    "373         Taiwan  2021-01-29        899\n",
    "374         Taiwan  2021-01-30        909\n",
    "375         Taiwan  2021-01-31        911\n",
    "\n",
    "[376 rows x 3 columns]\n",
    "```"
   ]
  },
  {
   "cell_type": "code",
   "execution_count": 2,
   "metadata": {},
   "outputs": [],
   "source": [
    "filter_tw_time_series =\\\n",
    "\"\"\"\n",
    "-- SQL 查詢語法起點\n",
    "SELECT Country_Region,\n",
    "       Date,\n",
    "       Confirmed\n",
    "  FROM time_series\n",
    " WHERE Country_Region = 'Taiwan';\n",
    "-- SQL 查詢語法終點\n",
    "\"\"\""
   ]
  },
  {
   "cell_type": "markdown",
   "metadata": {},
   "source": [
    "## 從 IMDb 最高評價的 250 部電影資料表 `top_rated_movies` 中將上映年份為 1994 的電影篩選出來，選擇 `title`、`rating` 與 `director` 欄位。\n",
    "\n",
    "- 預期輸入：SQL 查詢語法。\n",
    "- 預期輸出：(6, 3) 的查詢結果。\n",
    "\n",
    "```\n",
    "                      title  rating              director\n",
    "0  The Shawshank Redemption     9.3        Frank Darabont\n",
    "1              Pulp Fiction     8.9     Quentin Tarantino\n",
    "2              Forrest Gump     8.8       Robert Zemeckis\n",
    "3    Léon: The Professional     8.5            Luc Besson\n",
    "4             The Lion King     8.5          Roger Allers\n",
    "5         Three Colors: Red     8.1  Krzysztof Kieslowski\n",
    "```"
   ]
  },
  {
   "cell_type": "code",
   "execution_count": 3,
   "metadata": {},
   "outputs": [],
   "source": [
    "filter_year_1994_good_movies =\\\n",
    "\"\"\"\n",
    "-- SQL 查詢語法起點\n",
    "SELECT title,\n",
    "       rating,\n",
    "       director\n",
    "  FROM top_rated_movies\n",
    " WHERE release_year = 1994;\n",
    "-- SQL 查詢語法終點\n",
    "\"\"\""
   ]
  },
  {
   "cell_type": "markdown",
   "metadata": {},
   "source": [
    "## 從 IMDb 最高評價的 250 部電影資料表 `top_rated_movies` 中計算評分在 8.5 以上並且上映年份在 2000 年之後的電影篩選出來，選擇 `title`、`rating` 與 `director` 欄位。\n",
    "\n",
    "- 預期輸入：SQL 查詢語法。\n",
    "- 預期輸出：(17, 3) 的查詢結果。\n",
    "\n",
    "```\n",
    "                                                title  rating  \\\n",
    "0                                     The Dark Knight     9.0   \n",
    "1       The Lord of the Rings: The Return of the King     8.9   \n",
    "2   The Lord of the Rings: The Fellowship of the Ring     8.8   \n",
    "3                                           Inception     8.8   \n",
    "4               The Lord of the Rings: The Two Towers     8.7   \n",
    "5                                         City of God     8.6   \n",
    "6                                       Spirited Away     8.6   \n",
    "7                                        Interstellar     8.6   \n",
    "8                                            Parasite     8.6   \n",
    "9                                         The Pianist     8.5   \n",
    "10                                          Gladiator     8.5   \n",
    "11                                       The Departed     8.5   \n",
    "12                                   The Intouchables     8.5   \n",
    "13                                           Whiplash     8.5   \n",
    "14                                       The Prestige     8.5   \n",
    "15                                           Hamilton     8.6   \n",
    "16                                              Joker     8.5   \n",
    "\n",
    "              director  \n",
    "0    Christopher Nolan  \n",
    "1        Peter Jackson  \n",
    "2        Peter Jackson  \n",
    "3    Christopher Nolan  \n",
    "4        Peter Jackson  \n",
    "5   Fernando Meirelles  \n",
    "6       Hayao Miyazaki  \n",
    "7    Christopher Nolan  \n",
    "8         Bong Joon Ho  \n",
    "9       Roman Polanski  \n",
    "10        Ridley Scott  \n",
    "11     Martin Scorsese  \n",
    "12     Olivier Nakache  \n",
    "13     Damien Chazelle  \n",
    "14   Christopher Nolan  \n",
    "15         Thomas Kail  \n",
    "16       Todd Phillips \n",
    "```"
   ]
  },
  {
   "cell_type": "code",
   "execution_count": 4,
   "metadata": {},
   "outputs": [],
   "source": [
    "filter_good_movies_after_millennium =\\\n",
    "\"\"\"\n",
    "-- SQL 查詢語法起點\n",
    "SELECT title,\n",
    "       rating,\n",
    "       director\n",
    "  FROM top_rated_movies\n",
    " WHERE release_year >= 2000 AND\n",
    "       rating >= 8.5;\n",
    "-- SQL 查詢語法終點\n",
    "\"\"\""
   ]
  },
  {
   "cell_type": "markdown",
   "metadata": {},
   "source": [
    "## 從 IMDb 最高評價的 250 部電影資料表 `top_rated_movies` 中計算有幾部電影是由 Christopher Nolan 或 Peter Jackson 所導演的。\n",
    "\n",
    "- 預期輸入：SQL 查詢語法。\n",
    "- 預期輸出：(1, 1) 的查詢結果。\n",
    "\n",
    "註：Christopher Nolan 是一名英國導演、編劇及監製，他的十部電影在全球獲得超過 47 億美元的票房，執導著名電影包含「黑暗騎士三部曲」、全面啟動、星際效應及敦克爾克大行動；Peter Jackson 是一名紐西蘭導演、編劇及監製，執導最出名的作品是「魔戒電影三部曲」與「哈比人電影系列」。\n",
    "\n",
    "```\n",
    "   n_movies\n",
    "0        10\n",
    "```"
   ]
  },
  {
   "cell_type": "code",
   "execution_count": 5,
   "metadata": {},
   "outputs": [],
   "source": [
    "count_good_movies_directed_by_2_directors =\\\n",
    "\"\"\"\n",
    "-- SQL 查詢語法起點\n",
    "SELECT COUNT(*) AS n_movies\n",
    "  FROM top_rated_movies\n",
    " WHERE director IN ('Christopher Nolan', 'Peter Jackson');\n",
    "-- SQL 查詢語法終點\n",
    "\"\"\""
   ]
  },
  {
   "cell_type": "markdown",
   "metadata": {},
   "source": [
    "## 從 NBA 球員的基本資料表 `players` 篩選出 `firstName` 為 `L` 開頭或者 `lastName` 為 `J` 開頭的球員，選擇 `firstName` 與 `lastName`，並先以 `firstName` 遞增排序再以 `lastName` 遞增排序。\n",
    "\n",
    "- 預期輸入：SQL 查詢語法。\n",
    "- 預期輸出：(38, 2) 的查詢結果。\n",
    "\n",
    "```\n",
    "   firstName     lastName\n",
    "0    Cameron      Johnson\n",
    "1       Cory       Joseph\n",
    "2     DaQuan     Jeffries\n",
    "3     Damian        Jones\n",
    "4    DeAndre       Jordan\n",
    "5    Derrick    Jones Jr.\n",
    "6      Frank      Jackson\n",
    "7     Isaiah          Joe\n",
    "8      James      Johnson\n",
    "9      Jaren  Jackson Jr.\n",
    "10      Josh      Jackson\n",
    "11    Justin      Jackson\n",
    "12    Justin        James\n",
    "13    Keldon      Johnson\n",
    "14  LaMarcus     Aldridge\n",
    "15    LaMelo         Ball\n",
    "16     Lamar      Stevens\n",
    "17    Landry       Shamet\n",
    "18  Langston     Galloway\n",
    "19     Larry    Nance Jr.\n",
    "20     Lauri    Markkanen\n",
    "21    LeBron        James\n",
    "22    Lonnie    Walker IV\n",
    "23     Lonzo         Ball\n",
    "24       Lou     Williams\n",
    "25  Luguentz         Dort\n",
    "26      Luka       Doncic\n",
    "27      Luka      Samanic\n",
    "28      Luke      Kennard\n",
    "29      Luke       Kornet\n",
    "30     Mason        Jones\n",
    "31    Nikola        Jokic\n",
    "32    Reggie      Jackson\n",
    "33   Stanley      Johnson\n",
    "34       Tre        Jones\n",
    "35        Ty       Jerome\n",
    "36     Tyler      Johnson\n",
    "37      Tyus        Jones\n",
    "```"
   ]
  },
  {
   "cell_type": "code",
   "execution_count": 6,
   "metadata": {},
   "outputs": [],
   "source": [
    "filter_first_name_last_name_pattern =\\\n",
    "\"\"\"\n",
    "-- SQL 查詢語法起點\n",
    "SELECT firstName,\n",
    "       lastName\n",
    "  FROM players\n",
    " WHERE firstName LIKE 'L%' OR\n",
    "       lastName LIKE 'J%'\n",
    " ORDER BY firstName,\n",
    "          lastName;\n",
    "-- SQL 查詢語法終點\n",
    "\"\"\""
   ]
  },
  {
   "cell_type": "markdown",
   "metadata": {
    "deletable": false,
    "editable": false
   },
   "source": [
    "## 執行測試！\n",
    "\n",
    "Kernel -> Restart & Run All."
   ]
  },
  {
   "cell_type": "code",
   "execution_count": 7,
   "metadata": {
    "deletable": false,
    "editable": false
   },
   "outputs": [
    {
     "name": "stderr",
     "output_type": "stream",
     "text": [
      "test_count_good_movies_directed_by_2_directors (__main__.TestWhere) ... ok\n",
      "test_filter_first_name_last_name_pattern (__main__.TestWhere) ... ok\n",
      "test_filter_good_movies_after_millennium (__main__.TestWhere) ... ok\n",
      "test_filter_tw_time_series (__main__.TestWhere) ... ok\n",
      "test_filter_year_1994_good_movies (__main__.TestWhere) ... ok\n",
      "\n",
      "----------------------------------------------------------------------\n",
      "Ran 5 tests in 0.150s\n",
      "\n",
      "OK\n"
     ]
    }
   ],
   "source": [
    "class TestWhere(unittest.TestCase):\n",
    "    def test_filter_tw_time_series(self):\n",
    "        tw_time_series = pd.read_sql(filter_tw_time_series, conn)\n",
    "        self.assertEqual(tw_time_series.shape, ((376, 3)))\n",
    "        np.testing.assert_equal(tw_time_series['Country_Region'].values[:5],\n",
    "                               np.array(['Taiwan', 'Taiwan', 'Taiwan', 'Taiwan', 'Taiwan']))\n",
    "        np.testing.assert_equal(tw_time_series['Date'].values[-5:],\n",
    "                               np.array(['2021-01-27', '2021-01-28', '2021-01-29', '2021-01-30', '2021-01-31']))\n",
    "        np.testing.assert_equal(tw_time_series['Confirmed'].values[-5:],\n",
    "                               np.array([893, 895, 899, 909, 911]))\n",
    "        \n",
    "    def test_filter_year_1994_good_movies(self):\n",
    "        year_1994_good_movies = pd.read_sql(filter_year_1994_good_movies, conn)\n",
    "        self.assertEqual(year_1994_good_movies.shape, (6, 3))\n",
    "        np.testing.assert_equal(year_1994_good_movies['title'].values,\n",
    "                               np.array(['The Shawshank Redemption', 'Pulp Fiction', 'Forrest Gump', 'Léon: The Professional', 'The Lion King', 'Three Colors: Red']))\n",
    "        np.testing.assert_equal(year_1994_good_movies['rating'].values,\n",
    "                               np.array([9.3, 8.9, 8.8, 8.5, 8.5, 8.1]))\n",
    "    def test_filter_good_movies_after_millennium(self):\n",
    "        good_movies_after_millennium = pd.read_sql(filter_good_movies_after_millennium, conn)\n",
    "        self.assertEqual(good_movies_after_millennium.shape, (17, 3))\n",
    "        np.testing.assert_equal(good_movies_after_millennium['title'].values[:5],\n",
    "                               np.array(['The Dark Knight', 'The Lord of the Rings: The Return of the King', 'The Lord of the Rings: The Fellowship of the Ring', 'Inception', 'The Lord of the Rings: The Two Towers']))\n",
    "        np.testing.assert_equal(good_movies_after_millennium['rating'].values[:5],\n",
    "                               np.array([9.0, 8.9, 8.8, 8.8, 8.7]))\n",
    "    def test_count_good_movies_directed_by_2_directors(self):\n",
    "        good_movies_directed_by_2_directors = pd.read_sql(count_good_movies_directed_by_2_directors, conn)\n",
    "        self.assertEqual(good_movies_directed_by_2_directors.shape, (1, 1))\n",
    "        self.assertEqual(good_movies_directed_by_2_directors['n_movies'].values[0], 10)\n",
    "        \n",
    "    def test_filter_first_name_last_name_pattern(self):\n",
    "        first_name_last_name_pattern = pd.read_sql(filter_first_name_last_name_pattern, conn)\n",
    "        self.assertEqual(first_name_last_name_pattern.shape, (38, 2))\n",
    "        np.testing.assert_equal(first_name_last_name_pattern['firstName'].values[:5],\n",
    "                               np.array(['Cameron', 'Cory', 'DaQuan', 'Damian', 'DeAndre']))\n",
    "        np.testing.assert_equal(first_name_last_name_pattern['lastName'].values[-5:],\n",
    "                               np.array(['Johnson', 'Jones', 'Jerome', 'Johnson', 'Jones']))     \n",
    "\n",
    "suite = unittest.TestLoader().loadTestsFromTestCase(TestWhere)\n",
    "runner = unittest.TextTestRunner(verbosity=2)\n",
    "test_results = runner.run(suite)\n",
    "number_of_failures = len(test_results.failures)\n",
    "number_of_errors = len(test_results.errors)\n",
    "number_of_test_runs = test_results.testsRun\n",
    "number_of_successes = number_of_test_runs - (number_of_failures + number_of_errors)"
   ]
  },
  {
   "cell_type": "code",
   "execution_count": 8,
   "metadata": {
    "deletable": false,
    "editable": false
   },
   "outputs": [
    {
     "name": "stdout",
     "output_type": "stream",
     "text": [
      "您在 5 道 SQL 練習中答對了 5 題。\n"
     ]
    }
   ],
   "source": [
    "print(\"您在 {} 道 SQL 練習中答對了 {} 題。\".format(number_of_test_runs, number_of_successes))"
   ]
  }
 ],
 "metadata": {
  "kernelspec": {
   "display_name": "Python Data Analysis",
   "language": "python",
   "name": "pyda"
  },
  "language_info": {
   "codemirror_mode": {
    "name": "ipython",
    "version": 3
   },
   "file_extension": ".py",
   "mimetype": "text/x-python",
   "name": "python",
   "nbconvert_exporter": "python",
   "pygments_lexer": "ipython3",
   "version": "3.6.8"
  }
 },
 "nbformat": 4,
 "nbformat_minor": 4
}
