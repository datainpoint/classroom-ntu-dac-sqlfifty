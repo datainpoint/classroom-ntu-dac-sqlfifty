{
 "cells": [
  {
   "cell_type": "markdown",
   "id": "lightweight-fruit",
   "metadata": {
    "slideshow": {
     "slide_type": "slide"
    }
   },
   "source": [
    "# SQL 的五十道練習\n",
    "\n",
    "> 合併查詢結果\n",
    "\n",
    "[數據交點](https://www.datainpoint.com/) | 郭耀仁 <yaojenkuo@datainpoint.com>"
   ]
  },
  {
   "cell_type": "code",
   "execution_count": 1,
   "id": "matched-spyware",
   "metadata": {
    "slideshow": {
     "slide_type": "skip"
    }
   },
   "outputs": [],
   "source": [
    "%LOAD ../databases/imdb.db"
   ]
  },
  {
   "cell_type": "code",
   "execution_count": 2,
   "id": "desperate-contest",
   "metadata": {
    "slideshow": {
     "slide_type": "skip"
    }
   },
   "outputs": [],
   "source": [
    "ATTACH \"../databases/nba.db\" AS nba;"
   ]
  },
  {
   "cell_type": "code",
   "execution_count": 3,
   "id": "located-society",
   "metadata": {
    "slideshow": {
     "slide_type": "skip"
    }
   },
   "outputs": [],
   "source": [
    "ATTACH \"../databases/twElection2020.db\" AS twElection2020;"
   ]
  },
  {
   "cell_type": "code",
   "execution_count": 4,
   "id": "positive-conservative",
   "metadata": {
    "slideshow": {
     "slide_type": "skip"
    }
   },
   "outputs": [],
   "source": [
    "ATTACH \"../databases/covid19.db\" AS covid19;"
   ]
  },
  {
   "cell_type": "markdown",
   "id": "supposed-spread",
   "metadata": {
    "slideshow": {
     "slide_type": "slide"
    }
   },
   "source": [
    "## 以 `UNION` 敘述垂直合併查詢結果"
   ]
  },
  {
   "cell_type": "markdown",
   "id": "endless-sodium",
   "metadata": {
    "slideshow": {
     "slide_type": "subslide"
    }
   },
   "source": [
    "## 在「函數」的章節中，我們看過函數中包含著其他函數的使用方法\n",
    "\n",
    "前一個函數的輸出，成為下一個函數的輸入。"
   ]
  },
  {
   "cell_type": "code",
   "execution_count": 9,
   "id": "superb-principle",
   "metadata": {
    "slideshow": {
     "slide_type": "-"
    }
   },
   "outputs": [
    {
     "data": {
      "text/html": [
       "<table>\n",
       "<tr>\n",
       "<th>upper_abb</th>\n",
       "</tr>\n",
       "<tr>\n",
       "<td>JAN</td>\n",
       "</tr>\n",
       "</table>"
      ],
      "text/plain": [
       "+-----------+\n",
       "| upper_abb |\n",
       "+-----------+\n",
       "| JAN       |\n",
       "+-----------+"
      ]
     },
     "execution_count": 9,
     "metadata": {},
     "output_type": "execute_result"
    }
   ],
   "source": [
    "-- 函數中包含著其他函數\n",
    "SELECT UPPER(SUBSTR('Januaray', 1, 3)) AS upper_abb;"
   ]
  },
  {
   "cell_type": "markdown",
   "id": "cordless-relay",
   "metadata": {
    "slideshow": {
     "slide_type": "subslide"
    }
   },
   "source": [
    "## 在一段 SQL 中包含著另外一段 SQL 的使用方法，被稱為子查詢（Subquery）。"
   ]
  },
  {
   "cell_type": "markdown",
   "id": "auburn-accused",
   "metadata": {
    "slideshow": {
     "slide_type": "subslide"
    }
   },
   "source": [
    "## 常見的子查詢可以分為三類：\n",
    "\n",
    "1. 將一段 SQL 查詢結果作為資料表。\n",
    "2. 將一段 SQL 查詢結果作為條件。 \n",
    "3. 將一段 SQL 查詢結果作為衍生計算欄位。"
   ]
  },
  {
   "cell_type": "markdown",
   "id": "brown-catholic",
   "metadata": {
    "slideshow": {
     "slide_type": "slide"
    }
   },
   "source": [
    "## 將一段 SQL 查詢結果作為資料表"
   ]
  },
  {
   "cell_type": "markdown",
   "id": "changed-location",
   "metadata": {
    "slideshow": {
     "slide_type": "subslide"
    }
   },
   "source": [
    "## 在 `FROM` 敘述後接另外一段 SQL 查詢\n",
    "\n",
    "```sql\n",
    "SELECT column_name\n",
    "  FROM (SELECT column_name FROM table_name) AS alias;\n",
    "```"
   ]
  },
  {
   "cell_type": "markdown",
   "id": "employed-title",
   "metadata": {
    "slideshow": {
     "slide_type": "slide"
    }
   },
   "source": [
    "## 將一段 SQL 查詢結果作為條件"
   ]
  },
  {
   "cell_type": "markdown",
   "id": "reflected-plate",
   "metadata": {
    "slideshow": {
     "slide_type": "subslide"
    }
   },
   "source": [
    "## 在 `WHERE` 或 `HAVING` 敘述後接另外一段 SQL 查詢"
   ]
  },
  {
   "cell_type": "markdown",
   "id": "delayed-valuable",
   "metadata": {
    "slideshow": {
     "slide_type": "slide"
    }
   },
   "source": [
    "## 將一段 SQL 查詢結果作為衍生計算欄位"
   ]
  },
  {
   "cell_type": "markdown",
   "id": "stylish-endorsement",
   "metadata": {
    "slideshow": {
     "slide_type": "subslide"
    }
   },
   "source": [
    "## 在 `SELECT`、`GROUP BY` 或 `ORDER BY` 敘述後接另外一段 SQL 查詢。"
   ]
  },
  {
   "cell_type": "markdown",
   "id": "understanding-sudan",
   "metadata": {
    "slideshow": {
     "slide_type": "slide"
    }
   },
   "source": [
    "## 重點統整\n",
    "\n",
    "- "
   ]
  },
  {
   "cell_type": "markdown",
   "id": "employed-thousand",
   "metadata": {
    "slideshow": {
     "slide_type": "subslide"
    }
   },
   "source": [
    "## 目前我們會的 SQL\n",
    "\n",
    "```sql\n",
    "SELECT DISTINCT column_name AS alias,\n",
    "       column_name (+, -, *, /, %, ||) column_name AS alias,\n",
    "       FUNCTION_NAME(column_name) AS alias,\n",
    "       CASE WHEN condition_1 THEN result_1\n",
    "            WHEN condition_2 THEN result_2\n",
    "            ...\n",
    "            ELSE result_else END AS alias\n",
    "  FROM table_name\n",
    " WHERE condition (AND, OR, NOT, BETWEEN, IN, IS NULL)\n",
    "       condition\n",
    " GROUP BY column_name\n",
    "HAVING condition\n",
    " ORDER BY column_name ASC|DESC\n",
    " LIMIT m;\n",
    "```"
   ]
  }
 ],
 "metadata": {
  "celltoolbar": "Slideshow",
  "kernelspec": {
   "display_name": "xsqlite",
   "language": "sqlite",
   "name": "xsqlite"
  },
  "language_info": {
   "file_extension": "",
   "mimetype": "",
   "name": "sqlite3",
   "version": "3.30.1"
  }
 },
 "nbformat": 4,
 "nbformat_minor": 5
}
