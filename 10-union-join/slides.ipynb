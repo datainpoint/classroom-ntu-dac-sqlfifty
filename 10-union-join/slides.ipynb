{
 "cells": [
  {
   "cell_type": "markdown",
   "id": "lightweight-fruit",
   "metadata": {
    "slideshow": {
     "slide_type": "slide"
    }
   },
   "source": [
    "# SQL 的五十道練習\n",
    "\n",
    "> 垂直與水平合併查詢結果\n",
    "\n",
    "[數據交點](https://www.datainpoint.com/) | 郭耀仁 <yaojenkuo@datainpoint.com>"
   ]
  },
  {
   "cell_type": "code",
   "execution_count": 1,
   "id": "matched-spyware",
   "metadata": {
    "slideshow": {
     "slide_type": "skip"
    }
   },
   "outputs": [],
   "source": [
    "%LOAD ../databases/imdb.db"
   ]
  },
  {
   "cell_type": "code",
   "execution_count": 2,
   "id": "desperate-contest",
   "metadata": {
    "slideshow": {
     "slide_type": "skip"
    }
   },
   "outputs": [],
   "source": [
    "ATTACH \"../databases/nba.db\" AS nba;"
   ]
  },
  {
   "cell_type": "code",
   "execution_count": 3,
   "id": "located-society",
   "metadata": {
    "slideshow": {
     "slide_type": "skip"
    }
   },
   "outputs": [],
   "source": [
    "ATTACH \"../databases/twElection2020.db\" AS twElection2020;"
   ]
  },
  {
   "cell_type": "code",
   "execution_count": 4,
   "id": "positive-conservative",
   "metadata": {
    "slideshow": {
     "slide_type": "skip"
    }
   },
   "outputs": [],
   "source": [
    "ATTACH \"../databases/covid19.db\" AS covid19;"
   ]
  },
  {
   "cell_type": "markdown",
   "id": "supposed-spread",
   "metadata": {
    "slideshow": {
     "slide_type": "slide"
    }
   },
   "source": [
    "## 垂直合併查詢結果"
   ]
  },
  {
   "cell_type": "markdown",
   "id": "forward-passage",
   "metadata": {
    "slideshow": {
     "slide_type": "subslide"
    }
   },
   "source": [
    "## 在「包含子查詢的結構 」章節中，我們開始看過一段 SQL 中包含著另一段 SQL 的使用方法\n",
    "\n",
    "- 將多個 `SELECT ... FROM ...` 結合至一段 SQL 中。\n",
    "- 能夠結合不同資料表中的資料到一個查詢結果中。"
   ]
  },
  {
   "cell_type": "markdown",
   "id": "endless-sodium",
   "metadata": {
    "slideshow": {
     "slide_type": "subslide"
    }
   },
   "source": [
    "## 從學會子查詢開始，我們開始能將查詢的範圍由「單個」資料來源延展至「多個」資料來源。"
   ]
  },
  {
   "cell_type": "markdown",
   "id": "brief-castle",
   "metadata": {
    "slideshow": {
     "slide_type": "subslide"
    }
   },
   "source": [
    "## 以 `UNION` 敘述垂直合併多個 `SELECT ... FROM ...`\n",
    "\n",
    "```sql\n",
    "-- UNION 敘述\n",
    "SELECT column_name\n",
    "  FROM table_name\n",
    " UNION\n",
    "SELECT column_name\n",
    "  FROM table_name;\n",
    "```"
   ]
  },
  {
   "cell_type": "code",
   "execution_count": 5,
   "id": "subjective-therapist",
   "metadata": {
    "slideshow": {
     "slide_type": "subslide"
    }
   },
   "outputs": [
    {
     "data": {
      "text/html": [
       "<table>\n",
       "<tr>\n",
       "<th>firstName</th>\n",
       "<th>lastName</th>\n",
       "<th>weight</th>\n",
       "<th>unit</th>\n",
       "</tr>\n",
       "<tr>\n",
       "<td>LeBron</td>\n",
       "<td>James</td>\n",
       "<td>113.4</td>\n",
       "<td>kilograms</td>\n",
       "</tr>\n",
       "<tr>\n",
       "<td>LeBron</td>\n",
       "<td>James</td>\n",
       "<td>250.0</td>\n",
       "<td>pounds</td>\n",
       "</tr>\n",
       "</table>"
      ],
      "text/plain": [
       "+-----------+----------+--------+-----------+\n",
       "| firstName | lastName | weight | unit      |\n",
       "+-----------+----------+--------+-----------+\n",
       "| LeBron    | James    | 113.4  | kilograms |\n",
       "+-----------+----------+--------+-----------+\n",
       "| LeBron    | James    | 250.0  | pounds    |\n",
       "+-----------+----------+--------+-----------+"
      ]
     },
     "execution_count": 5,
     "metadata": {},
     "output_type": "execute_result"
    }
   ],
   "source": [
    "SELECT firstName,\n",
    "       lastName,\n",
    "       weightKilograms AS weight,\n",
    "       'kilograms' AS unit\n",
    "  FROM players\n",
    " WHERE firstName = 'LeBron' AND\n",
    "       lastName = 'James'\n",
    " UNION\n",
    "SELECT firstName,\n",
    "       lastName,\n",
    "       weightPounds AS weight,\n",
    "       'pounds' AS unit\n",
    "  FROM players\n",
    " WHERE firstName = 'LeBron' AND\n",
    "       lastName = 'James';"
   ]
  },
  {
   "cell_type": "markdown",
   "id": "sound-chassis",
   "metadata": {
    "slideshow": {
     "slide_type": "subslide"
    }
   },
   "source": [
    "## 使用 `UNION` 敘述時的注意事項\n",
    "\n",
    "- 垂直合併的查詢結果欄位個數要相同。\n",
    "- 垂直合併的查詢中若有 `ORDER BY` 只能放在 `UNION` 之後。\n",
    "- 垂直合併的查詢結果若有重複的觀測值會被刪除。"
   ]
  },
  {
   "cell_type": "code",
   "execution_count": 6,
   "id": "considerable-locator",
   "metadata": {
    "slideshow": {
     "slide_type": "subslide"
    }
   },
   "outputs": [
    {
     "ename": "Error",
     "evalue": "SELECTs to the left and right of UNION do not have the same number of result columns",
     "output_type": "error",
     "traceback": [
      "Error: SELECTs to the left and right of UNION do not have the same number of result columns"
     ]
    }
   ],
   "source": [
    "-- 垂直合併的查詢結果欄位個數不相同。\n",
    "SELECT firstName,\n",
    "       lastName,\n",
    "       weightKilograms AS weight,\n",
    "       'kilograms' AS unit\n",
    "  FROM players\n",
    " WHERE firstName = 'LeBron' AND\n",
    "       lastName = 'James'\n",
    " UNION\n",
    "SELECT firstName,\n",
    "       lastName,\n",
    "       weightPounds AS weight\n",
    "  FROM players\n",
    " WHERE firstName = 'LeBron' AND\n",
    "       lastName = 'James';"
   ]
  },
  {
   "cell_type": "code",
   "execution_count": 7,
   "id": "equal-swedish",
   "metadata": {
    "slideshow": {
     "slide_type": "subslide"
    }
   },
   "outputs": [
    {
     "ename": "Error",
     "evalue": "ORDER BY clause should come after UNION not before",
     "output_type": "error",
     "traceback": [
      "Error: ORDER BY clause should come after UNION not before"
     ]
    }
   ],
   "source": [
    "-- 垂直合併的查詢中若有 ORDER BY 只能放在 UNION 之後。\n",
    "SELECT firstName,\n",
    "       lastName,\n",
    "       weightKilograms AS weight,\n",
    "       'kilograms' AS unit\n",
    "  FROM players\n",
    " WHERE lastName = 'James'\n",
    " ORDER BY weightKilograms\n",
    " UNION\n",
    "SELECT firstName,\n",
    "       lastName,\n",
    "       weightPounds AS weight,\n",
    "       'pounds' AS unit\n",
    "  FROM players\n",
    " WHERE lastName = 'James';"
   ]
  },
  {
   "cell_type": "code",
   "execution_count": 8,
   "id": "comprehensive-classification",
   "metadata": {
    "slideshow": {
     "slide_type": "subslide"
    }
   },
   "outputs": [
    {
     "data": {
      "text/html": [
       "<table>\n",
       "<tr>\n",
       "<th>firstName</th>\n",
       "<th>lastName</th>\n",
       "<th>weight</th>\n",
       "<th>unit</th>\n",
       "</tr>\n",
       "<tr>\n",
       "<td>LeBron</td>\n",
       "<td>James</td>\n",
       "<td>113.4</td>\n",
       "<td>kilograms</td>\n",
       "</tr>\n",
       "</table>"
      ],
      "text/plain": [
       "+-----------+----------+--------+-----------+\n",
       "| firstName | lastName | weight | unit      |\n",
       "+-----------+----------+--------+-----------+\n",
       "| LeBron    | James    | 113.4  | kilograms |\n",
       "+-----------+----------+--------+-----------+"
      ]
     },
     "execution_count": 8,
     "metadata": {},
     "output_type": "execute_result"
    }
   ],
   "source": [
    "-- 垂直合併的查詢結果若有重複的觀測值會被刪除。\n",
    "SELECT firstName,\n",
    "       lastName,\n",
    "       weightKilograms AS weight,\n",
    "       'kilograms' AS unit\n",
    "  FROM players\n",
    " WHERE firstName = 'LeBron' AND\n",
    "       lastName = 'James'\n",
    " UNION\n",
    "SELECT firstName,\n",
    "       lastName,\n",
    "       weightKilograms AS weight,\n",
    "       'kilograms' AS unit\n",
    "  FROM players\n",
    " WHERE firstName = 'LeBron' AND\n",
    "       lastName = 'James';"
   ]
  },
  {
   "cell_type": "markdown",
   "id": "understood-match",
   "metadata": {
    "slideshow": {
     "slide_type": "subslide"
    }
   },
   "source": [
    "## 若是希望保留重複觀測值，改使用 `UNION ALL` 敘述\n",
    "\n",
    "```sql\n",
    "-- UNION ALL 敘述\n",
    "SELECT column_name\n",
    "  FROM table_name\n",
    " UNION ALL\n",
    "SELECT column_name\n",
    "  FROM table_name;\n",
    "```"
   ]
  },
  {
   "cell_type": "code",
   "execution_count": 9,
   "id": "technical-package",
   "metadata": {
    "slideshow": {
     "slide_type": "subslide"
    }
   },
   "outputs": [
    {
     "data": {
      "text/html": [
       "<table>\n",
       "<tr>\n",
       "<th>firstName</th>\n",
       "<th>lastName</th>\n",
       "<th>weight</th>\n",
       "<th>unit</th>\n",
       "</tr>\n",
       "<tr>\n",
       "<td>LeBron</td>\n",
       "<td>James</td>\n",
       "<td>113.4</td>\n",
       "<td>kilograms</td>\n",
       "</tr>\n",
       "<tr>\n",
       "<td>LeBron</td>\n",
       "<td>James</td>\n",
       "<td>113.4</td>\n",
       "<td>kilograms</td>\n",
       "</tr>\n",
       "</table>"
      ],
      "text/plain": [
       "+-----------+----------+--------+-----------+\n",
       "| firstName | lastName | weight | unit      |\n",
       "+-----------+----------+--------+-----------+\n",
       "| LeBron    | James    | 113.4  | kilograms |\n",
       "+-----------+----------+--------+-----------+\n",
       "| LeBron    | James    | 113.4  | kilograms |\n",
       "+-----------+----------+--------+-----------+"
      ]
     },
     "execution_count": 9,
     "metadata": {},
     "output_type": "execute_result"
    }
   ],
   "source": [
    "-- UNION ALL 敘述\n",
    "SELECT firstName,\n",
    "       lastName,\n",
    "       weightKilograms AS weight,\n",
    "       'kilograms' AS unit\n",
    "  FROM players\n",
    " WHERE firstName = 'LeBron' AND\n",
    "       lastName = 'James'\n",
    " UNION ALL\n",
    "SELECT firstName,\n",
    "       lastName,\n",
    "       weightKilograms AS weight,\n",
    "       'kilograms' AS unit\n",
    "  FROM players\n",
    " WHERE firstName = 'LeBron' AND\n",
    "       lastName = 'James';"
   ]
  },
  {
   "cell_type": "markdown",
   "id": "sunset-testing",
   "metadata": {
    "slideshow": {
     "slide_type": "slide"
    }
   },
   "source": [
    "## 水平合併查詢結果"
   ]
  },
  {
   "cell_type": "markdown",
   "id": "cordless-relay",
   "metadata": {
    "slideshow": {
     "slide_type": "subslide"
    }
   },
   "source": [
    "## 在「垂直合併查詢結果」單元中，我們使用 `UNION` 或 `UNION ALL` 的敘述沿著觀測值方向（垂直方向）增加資料。"
   ]
  },
  {
   "cell_type": "markdown",
   "id": "superior-dynamics",
   "metadata": {
    "slideshow": {
     "slide_type": "subslide"
    }
   },
   "source": [
    "## 水平合併查詢結果則是能夠讓我們使用 `JOIN` 敘述沿著欄位方向（水平方向）增加資料\n",
    "\n",
    "因為是「水平」合併，在 `FROM` 敘述後的資料表被稱為「左表格」、`JOIN` 敘述後的資料表被稱為「右表格」。\n",
    "\n",
    "```sql\n",
    "-- JOIN 敘述\n",
    "SELECT left_table.column_name,\n",
    "       right_table.column_name\n",
    "  FROM table_name AS left_table\n",
    "  JOIN table_name AS right_table\n",
    "    ON left_table.join_key = right_table.join_key;\n",
    "```"
   ]
  },
  {
   "cell_type": "code",
   "execution_count": 10,
   "id": "raising-cigarette",
   "metadata": {
    "slideshow": {
     "slide_type": "subslide"
    }
   },
   "outputs": [
    {
     "data": {
      "text/html": [
       "<table>\n",
       "<tr>\n",
       "<th>fullName</th>\n",
       "<th>firstName</th>\n",
       "<th>lastName</th>\n",
       "</tr>\n",
       "<tr>\n",
       "<td>Los Angeles Lakers</td>\n",
       "<td>LeBron</td>\n",
       "<td>James</td>\n",
       "</tr>\n",
       "<tr>\n",
       "<td>Los Angeles Lakers</td>\n",
       "<td>Jared</td>\n",
       "<td>Dudley</td>\n",
       "</tr>\n",
       "<tr>\n",
       "<td>Los Angeles Lakers</td>\n",
       "<td>Marc</td>\n",
       "<td>Gasol</td>\n",
       "</tr>\n",
       "<tr>\n",
       "<td>Los Angeles Lakers</td>\n",
       "<td>Wesley</td>\n",
       "<td>Matthews</td>\n",
       "</tr>\n",
       "<tr>\n",
       "<td>Los Angeles Lakers</td>\n",
       "<td>Markieff</td>\n",
       "<td>Morris</td>\n",
       "</tr>\n",
       "<tr>\n",
       "<td>Los Angeles Lakers</td>\n",
       "<td>Anthony</td>\n",
       "<td>Davis</td>\n",
       "</tr>\n",
       "<tr>\n",
       "<td>Los Angeles Lakers</td>\n",
       "<td>Dennis</td>\n",
       "<td>Schroder</td>\n",
       "</tr>\n",
       "<tr>\n",
       "<td>Los Angeles Lakers</td>\n",
       "<td>Kentavious</td>\n",
       "<td>Caldwell-Pope</td>\n",
       "</tr>\n",
       "<tr>\n",
       "<td>Los Angeles Lakers</td>\n",
       "<td>Montrezl</td>\n",
       "<td>Harrell</td>\n",
       "</tr>\n",
       "<tr>\n",
       "<td>Los Angeles Lakers</td>\n",
       "<td>Quinn</td>\n",
       "<td>Cook</td>\n",
       "</tr>\n",
       "<tr>\n",
       "<td>Los Angeles Lakers</td>\n",
       "<td>Alex</td>\n",
       "<td>Caruso</td>\n",
       "</tr>\n",
       "<tr>\n",
       "<td>Los Angeles Lakers</td>\n",
       "<td>Alfonzo</td>\n",
       "<td>McKinnie</td>\n",
       "</tr>\n",
       "<tr>\n",
       "<td>Los Angeles Lakers</td>\n",
       "<td>Kyle</td>\n",
       "<td>Kuzma</td>\n",
       "</tr>\n",
       "<tr>\n",
       "<td>Los Angeles Lakers</td>\n",
       "<td>Kostas</td>\n",
       "<td>Antetokounmpo</td>\n",
       "</tr>\n",
       "<tr>\n",
       "<td>Los Angeles Lakers</td>\n",
       "<td>Talen</td>\n",
       "<td>Horton-Tucker</td>\n",
       "</tr>\n",
       "<tr>\n",
       "<td>Los Angeles Lakers</td>\n",
       "<td>Devontae</td>\n",
       "<td>Cacok</td>\n",
       "</tr>\n",
       "</table>"
      ],
      "text/plain": [
       "+--------------------+------------+---------------+\n",
       "| fullName           | firstName  | lastName      |\n",
       "+--------------------+------------+---------------+\n",
       "| Los Angeles Lakers | LeBron     | James         |\n",
       "+--------------------+------------+---------------+\n",
       "| Los Angeles Lakers | Jared      | Dudley        |\n",
       "+--------------------+------------+---------------+\n",
       "| Los Angeles Lakers | Marc       | Gasol         |\n",
       "+--------------------+------------+---------------+\n",
       "| Los Angeles Lakers | Wesley     | Matthews      |\n",
       "+--------------------+------------+---------------+\n",
       "| Los Angeles Lakers | Markieff   | Morris        |\n",
       "+--------------------+------------+---------------+\n",
       "| Los Angeles Lakers | Anthony    | Davis         |\n",
       "+--------------------+------------+---------------+\n",
       "| Los Angeles Lakers | Dennis     | Schroder      |\n",
       "+--------------------+------------+---------------+\n",
       "| Los Angeles Lakers | Kentavious | Caldwell-Pope |\n",
       "+--------------------+------------+---------------+\n",
       "| Los Angeles Lakers | Montrezl   | Harrell       |\n",
       "+--------------------+------------+---------------+\n",
       "| Los Angeles Lakers | Quinn      | Cook          |\n",
       "+--------------------+------------+---------------+\n",
       "| Los Angeles Lakers | Alex       | Caruso        |\n",
       "+--------------------+------------+---------------+\n",
       "| Los Angeles Lakers | Alfonzo    | McKinnie      |\n",
       "+--------------------+------------+---------------+\n",
       "| Los Angeles Lakers | Kyle       | Kuzma         |\n",
       "+--------------------+------------+---------------+\n",
       "| Los Angeles Lakers | Kostas     | Antetokounmpo |\n",
       "+--------------------+------------+---------------+\n",
       "| Los Angeles Lakers | Talen      | Horton-Tucker |\n",
       "+--------------------+------------+---------------+\n",
       "| Los Angeles Lakers | Devontae   | Cacok         |\n",
       "+--------------------+------------+---------------+"
      ]
     },
     "execution_count": 10,
     "metadata": {},
     "output_type": "execute_result"
    }
   ],
   "source": [
    "-- 使用 JOIN 敘述連結 players 與 teams 資料表的欄位\n",
    "SELECT teams.fullName,\n",
    "       players.firstName,\n",
    "       players.lastName\n",
    "  FROM teams\n",
    "  JOIN players\n",
    "    ON teams.teamId = players.teamId\n",
    " WHERE teams.nickname = 'Lakers';"
   ]
  },
  {
   "cell_type": "code",
   "execution_count": 11,
   "id": "dried-aspect",
   "metadata": {
    "slideshow": {
     "slide_type": "subslide"
    }
   },
   "outputs": [
    {
     "data": {
      "text/html": [
       "<table>\n",
       "<tr>\n",
       "<th>title</th>\n",
       "<th>ord</th>\n",
       "<th>name</th>\n",
       "</tr>\n",
       "<tr>\n",
       "<td>The Shawshank Redemption</td>\n",
       "<td>1</td>\n",
       "<td>Tim Robbins</td>\n",
       "</tr>\n",
       "<tr>\n",
       "<td>The Shawshank Redemption</td>\n",
       "<td>2</td>\n",
       "<td>Morgan Freeman</td>\n",
       "</tr>\n",
       "<tr>\n",
       "<td>The Shawshank Redemption</td>\n",
       "<td>3</td>\n",
       "<td>Bob Gunton</td>\n",
       "</tr>\n",
       "<tr>\n",
       "<td>The Shawshank Redemption</td>\n",
       "<td>4</td>\n",
       "<td>William Sadler</td>\n",
       "</tr>\n",
       "<tr>\n",
       "<td>The Shawshank Redemption</td>\n",
       "<td>5</td>\n",
       "<td>Clancy Brown</td>\n",
       "</tr>\n",
       "<tr>\n",
       "<td>The Shawshank Redemption</td>\n",
       "<td>6</td>\n",
       "<td>Gil Bellows</td>\n",
       "</tr>\n",
       "<tr>\n",
       "<td>The Shawshank Redemption</td>\n",
       "<td>7</td>\n",
       "<td>Mark Rolston</td>\n",
       "</tr>\n",
       "<tr>\n",
       "<td>The Shawshank Redemption</td>\n",
       "<td>8</td>\n",
       "<td>James Whitmore</td>\n",
       "</tr>\n",
       "<tr>\n",
       "<td>The Shawshank Redemption</td>\n",
       "<td>9</td>\n",
       "<td>Jeffrey DeMunn</td>\n",
       "</tr>\n",
       "<tr>\n",
       "<td>The Shawshank Redemption</td>\n",
       "<td>10</td>\n",
       "<td>Larry Brandenburg</td>\n",
       "</tr>\n",
       "<tr>\n",
       "<td>The Shawshank Redemption</td>\n",
       "<td>11</td>\n",
       "<td>Neil Giuntoli</td>\n",
       "</tr>\n",
       "<tr>\n",
       "<td>The Shawshank Redemption</td>\n",
       "<td>12</td>\n",
       "<td>Brian Libby</td>\n",
       "</tr>\n",
       "<tr>\n",
       "<td>The Shawshank Redemption</td>\n",
       "<td>13</td>\n",
       "<td>David Proval</td>\n",
       "</tr>\n",
       "<tr>\n",
       "<td>The Shawshank Redemption</td>\n",
       "<td>14</td>\n",
       "<td>Joseph Ragno</td>\n",
       "</tr>\n",
       "<tr>\n",
       "<td>The Shawshank Redemption</td>\n",
       "<td>15</td>\n",
       "<td>Jude Ciccolella</td>\n",
       "</tr>\n",
       "</table>"
      ],
      "text/plain": [
       "+--------------------------+-----+-------------------+\n",
       "| title                    | ord | name              |\n",
       "+--------------------------+-----+-------------------+\n",
       "| The Shawshank Redemption | 1   | Tim Robbins       |\n",
       "+--------------------------+-----+-------------------+\n",
       "| The Shawshank Redemption | 2   | Morgan Freeman    |\n",
       "+--------------------------+-----+-------------------+\n",
       "| The Shawshank Redemption | 3   | Bob Gunton        |\n",
       "+--------------------------+-----+-------------------+\n",
       "| The Shawshank Redemption | 4   | William Sadler    |\n",
       "+--------------------------+-----+-------------------+\n",
       "| The Shawshank Redemption | 5   | Clancy Brown      |\n",
       "+--------------------------+-----+-------------------+\n",
       "| The Shawshank Redemption | 6   | Gil Bellows       |\n",
       "+--------------------------+-----+-------------------+\n",
       "| The Shawshank Redemption | 7   | Mark Rolston      |\n",
       "+--------------------------+-----+-------------------+\n",
       "| The Shawshank Redemption | 8   | James Whitmore    |\n",
       "+--------------------------+-----+-------------------+\n",
       "| The Shawshank Redemption | 9   | Jeffrey DeMunn    |\n",
       "+--------------------------+-----+-------------------+\n",
       "| The Shawshank Redemption | 10  | Larry Brandenburg |\n",
       "+--------------------------+-----+-------------------+\n",
       "| The Shawshank Redemption | 11  | Neil Giuntoli     |\n",
       "+--------------------------+-----+-------------------+\n",
       "| The Shawshank Redemption | 12  | Brian Libby       |\n",
       "+--------------------------+-----+-------------------+\n",
       "| The Shawshank Redemption | 13  | David Proval      |\n",
       "+--------------------------+-----+-------------------+\n",
       "| The Shawshank Redemption | 14  | Joseph Ragno      |\n",
       "+--------------------------+-----+-------------------+\n",
       "| The Shawshank Redemption | 15  | Jude Ciccolella   |\n",
       "+--------------------------+-----+-------------------+"
      ]
     },
     "execution_count": 11,
     "metadata": {},
     "output_type": "execute_result"
    }
   ],
   "source": [
    "-- 使用 JOIN 敘述連結 top_rated_movies, casting 與 actors 資料表的欄位\n",
    "SELECT movies.title,\n",
    "       casting.ord,\n",
    "       actors.name\n",
    "  FROM top_rated_movies AS movies\n",
    "  JOIN casting\n",
    "    ON movies.id = casting.movie_id\n",
    "  JOIN actors\n",
    "    ON casting.actor_id = actors.id\n",
    " WHERE movies.title = 'The Shawshank Redemption';"
   ]
  },
  {
   "cell_type": "markdown",
   "id": "balanced-wound",
   "metadata": {
    "slideshow": {
     "slide_type": "subslide"
    }
   },
   "source": [
    "## 使用 `JOIN` 敘述時的注意事項\n",
    "\n",
    "- 養成為水平合併的資料表取別名並在欄位名稱前註明的好習慣。\n",
    "- 除了實體資料表亦可使用子查詢作為合併來源。\n",
    "- 預設保留合併資料所交集的觀測值。"
   ]
  },
  {
   "cell_type": "markdown",
   "id": "auburn-accused",
   "metadata": {
    "slideshow": {
     "slide_type": "subslide"
    }
   },
   "source": [
    "## 養成為水平合併的資料表取別名並在欄位名稱前註明的好習慣，舉例來說，在 `top_rated_movies` 與 `actors` 兩個資料表中都有 `id` 欄位\n",
    "\n",
    "- `top_rated_movies.id` 指的是電影編號。\n",
    "- `actors.id` 指的是演員編號。"
   ]
  },
  {
   "cell_type": "code",
   "execution_count": 12,
   "id": "republican-pilot",
   "metadata": {
    "slideshow": {
     "slide_type": "subslide"
    }
   },
   "outputs": [
    {
     "ename": "Error",
     "evalue": "ambiguous column name: id",
     "output_type": "error",
     "traceback": [
      "Error: ambiguous column name: id"
     ]
    }
   ],
   "source": [
    "-- 沒有指定 id 來自哪一個資料表\n",
    "SELECT title,\n",
    "       ord,\n",
    "       name\n",
    "  FROM top_rated_movies AS movies\n",
    "  JOIN casting\n",
    "    ON id = movie_id\n",
    "  JOIN actors\n",
    "    ON actor_id = id\n",
    " WHERE title = 'The Shawshank Redemption';"
   ]
  },
  {
   "cell_type": "markdown",
   "id": "solved-graduation",
   "metadata": {
    "slideshow": {
     "slide_type": "subslide"
    }
   },
   "source": [
    "## 除了實體資料表亦可使用子查詢作為合併來源，舉例來說，讓左表格與右表格都是子查詢。"
   ]
  },
  {
   "cell_type": "code",
   "execution_count": 13,
   "id": "average-shopper",
   "metadata": {
    "slideshow": {
     "slide_type": "subslide"
    }
   },
   "outputs": [
    {
     "data": {
      "text/html": [
       "<table>\n",
       "<tr>\n",
       "<th>fullName</th>\n",
       "<th>firstName</th>\n",
       "<th>lastName</th>\n",
       "</tr>\n",
       "<tr>\n",
       "<td>Los Angeles Lakers</td>\n",
       "<td>LeBron</td>\n",
       "<td>James</td>\n",
       "</tr>\n",
       "<tr>\n",
       "<td>Los Angeles Lakers</td>\n",
       "<td>Jared</td>\n",
       "<td>Dudley</td>\n",
       "</tr>\n",
       "<tr>\n",
       "<td>Los Angeles Lakers</td>\n",
       "<td>Marc</td>\n",
       "<td>Gasol</td>\n",
       "</tr>\n",
       "<tr>\n",
       "<td>Los Angeles Lakers</td>\n",
       "<td>Wesley</td>\n",
       "<td>Matthews</td>\n",
       "</tr>\n",
       "<tr>\n",
       "<td>Los Angeles Lakers</td>\n",
       "<td>Markieff</td>\n",
       "<td>Morris</td>\n",
       "</tr>\n",
       "<tr>\n",
       "<td>Los Angeles Lakers</td>\n",
       "<td>Anthony</td>\n",
       "<td>Davis</td>\n",
       "</tr>\n",
       "<tr>\n",
       "<td>Los Angeles Lakers</td>\n",
       "<td>Dennis</td>\n",
       "<td>Schroder</td>\n",
       "</tr>\n",
       "<tr>\n",
       "<td>Los Angeles Lakers</td>\n",
       "<td>Kentavious</td>\n",
       "<td>Caldwell-Pope</td>\n",
       "</tr>\n",
       "<tr>\n",
       "<td>Los Angeles Lakers</td>\n",
       "<td>Montrezl</td>\n",
       "<td>Harrell</td>\n",
       "</tr>\n",
       "<tr>\n",
       "<td>Los Angeles Lakers</td>\n",
       "<td>Quinn</td>\n",
       "<td>Cook</td>\n",
       "</tr>\n",
       "<tr>\n",
       "<td>Los Angeles Lakers</td>\n",
       "<td>Alex</td>\n",
       "<td>Caruso</td>\n",
       "</tr>\n",
       "<tr>\n",
       "<td>Los Angeles Lakers</td>\n",
       "<td>Alfonzo</td>\n",
       "<td>McKinnie</td>\n",
       "</tr>\n",
       "<tr>\n",
       "<td>Los Angeles Lakers</td>\n",
       "<td>Kyle</td>\n",
       "<td>Kuzma</td>\n",
       "</tr>\n",
       "<tr>\n",
       "<td>Los Angeles Lakers</td>\n",
       "<td>Kostas</td>\n",
       "<td>Antetokounmpo</td>\n",
       "</tr>\n",
       "<tr>\n",
       "<td>Los Angeles Lakers</td>\n",
       "<td>Talen</td>\n",
       "<td>Horton-Tucker</td>\n",
       "</tr>\n",
       "<tr>\n",
       "<td>Los Angeles Lakers</td>\n",
       "<td>Devontae</td>\n",
       "<td>Cacok</td>\n",
       "</tr>\n",
       "</table>"
      ],
      "text/plain": [
       "+--------------------+------------+---------------+\n",
       "| fullName           | firstName  | lastName      |\n",
       "+--------------------+------------+---------------+\n",
       "| Los Angeles Lakers | LeBron     | James         |\n",
       "+--------------------+------------+---------------+\n",
       "| Los Angeles Lakers | Jared      | Dudley        |\n",
       "+--------------------+------------+---------------+\n",
       "| Los Angeles Lakers | Marc       | Gasol         |\n",
       "+--------------------+------------+---------------+\n",
       "| Los Angeles Lakers | Wesley     | Matthews      |\n",
       "+--------------------+------------+---------------+\n",
       "| Los Angeles Lakers | Markieff   | Morris        |\n",
       "+--------------------+------------+---------------+\n",
       "| Los Angeles Lakers | Anthony    | Davis         |\n",
       "+--------------------+------------+---------------+\n",
       "| Los Angeles Lakers | Dennis     | Schroder      |\n",
       "+--------------------+------------+---------------+\n",
       "| Los Angeles Lakers | Kentavious | Caldwell-Pope |\n",
       "+--------------------+------------+---------------+\n",
       "| Los Angeles Lakers | Montrezl   | Harrell       |\n",
       "+--------------------+------------+---------------+\n",
       "| Los Angeles Lakers | Quinn      | Cook          |\n",
       "+--------------------+------------+---------------+\n",
       "| Los Angeles Lakers | Alex       | Caruso        |\n",
       "+--------------------+------------+---------------+\n",
       "| Los Angeles Lakers | Alfonzo    | McKinnie      |\n",
       "+--------------------+------------+---------------+\n",
       "| Los Angeles Lakers | Kyle       | Kuzma         |\n",
       "+--------------------+------------+---------------+\n",
       "| Los Angeles Lakers | Kostas     | Antetokounmpo |\n",
       "+--------------------+------------+---------------+\n",
       "| Los Angeles Lakers | Talen      | Horton-Tucker |\n",
       "+--------------------+------------+---------------+\n",
       "| Los Angeles Lakers | Devontae   | Cacok         |\n",
       "+--------------------+------------+---------------+"
      ]
     },
     "execution_count": 13,
     "metadata": {},
     "output_type": "execute_result"
    }
   ],
   "source": [
    "-- 除了實體資料表亦可使用子查詢作為合併來源。\n",
    "SELECT team_lakers.fullName,\n",
    "       players.firstName,\n",
    "       players.lastName\n",
    "  FROM (SELECT teamId,\n",
    "               fullName\n",
    "          FROM teams\n",
    "         WHERE nickname = 'Lakers') AS team_lakers\n",
    "  JOIN (SELECT firstName,\n",
    "               lastName,\n",
    "               teamId\n",
    "          FROM players) AS players\n",
    "    ON team_lakers.teamId = players.teamId;"
   ]
  },
  {
   "cell_type": "markdown",
   "id": "tracked-pregnancy",
   "metadata": {
    "slideshow": {
     "slide_type": "subslide"
    }
   },
   "source": [
    "## 預設保留合併資料所交集的觀測值，舉例來說，左表格是洛杉磯湖人隊與波士頓賽爾提克隊的隊伍資料，右表格是洛杉磯湖人隊與費城七六人隊的球員資料。"
   ]
  },
  {
   "cell_type": "code",
   "execution_count": 14,
   "id": "leading-fever",
   "metadata": {
    "slideshow": {
     "slide_type": "subslide"
    }
   },
   "outputs": [
    {
     "data": {
      "text/html": [
       "<table>\n",
       "<tr>\n",
       "<th>fullName</th>\n",
       "<th>firstName</th>\n",
       "<th>lastName</th>\n",
       "</tr>\n",
       "<tr>\n",
       "<td>Los Angeles Lakers</td>\n",
       "<td>LeBron</td>\n",
       "<td>James</td>\n",
       "</tr>\n",
       "<tr>\n",
       "<td>Los Angeles Lakers</td>\n",
       "<td>Jared</td>\n",
       "<td>Dudley</td>\n",
       "</tr>\n",
       "<tr>\n",
       "<td>Los Angeles Lakers</td>\n",
       "<td>Marc</td>\n",
       "<td>Gasol</td>\n",
       "</tr>\n",
       "<tr>\n",
       "<td>Los Angeles Lakers</td>\n",
       "<td>Wesley</td>\n",
       "<td>Matthews</td>\n",
       "</tr>\n",
       "<tr>\n",
       "<td>Los Angeles Lakers</td>\n",
       "<td>Markieff</td>\n",
       "<td>Morris</td>\n",
       "</tr>\n",
       "<tr>\n",
       "<td>Los Angeles Lakers</td>\n",
       "<td>Anthony</td>\n",
       "<td>Davis</td>\n",
       "</tr>\n",
       "<tr>\n",
       "<td>Los Angeles Lakers</td>\n",
       "<td>Dennis</td>\n",
       "<td>Schroder</td>\n",
       "</tr>\n",
       "<tr>\n",
       "<td>Los Angeles Lakers</td>\n",
       "<td>Kentavious</td>\n",
       "<td>Caldwell-Pope</td>\n",
       "</tr>\n",
       "<tr>\n",
       "<td>Los Angeles Lakers</td>\n",
       "<td>Montrezl</td>\n",
       "<td>Harrell</td>\n",
       "</tr>\n",
       "<tr>\n",
       "<td>Los Angeles Lakers</td>\n",
       "<td>Quinn</td>\n",
       "<td>Cook</td>\n",
       "</tr>\n",
       "<tr>\n",
       "<td>Los Angeles Lakers</td>\n",
       "<td>Alex</td>\n",
       "<td>Caruso</td>\n",
       "</tr>\n",
       "<tr>\n",
       "<td>Los Angeles Lakers</td>\n",
       "<td>Alfonzo</td>\n",
       "<td>McKinnie</td>\n",
       "</tr>\n",
       "<tr>\n",
       "<td>Los Angeles Lakers</td>\n",
       "<td>Kyle</td>\n",
       "<td>Kuzma</td>\n",
       "</tr>\n",
       "<tr>\n",
       "<td>Los Angeles Lakers</td>\n",
       "<td>Kostas</td>\n",
       "<td>Antetokounmpo</td>\n",
       "</tr>\n",
       "<tr>\n",
       "<td>Los Angeles Lakers</td>\n",
       "<td>Talen</td>\n",
       "<td>Horton-Tucker</td>\n",
       "</tr>\n",
       "<tr>\n",
       "<td>Los Angeles Lakers</td>\n",
       "<td>Devontae</td>\n",
       "<td>Cacok</td>\n",
       "</tr>\n",
       "</table>"
      ],
      "text/plain": [
       "+--------------------+------------+---------------+\n",
       "| fullName           | firstName  | lastName      |\n",
       "+--------------------+------------+---------------+\n",
       "| Los Angeles Lakers | LeBron     | James         |\n",
       "+--------------------+------------+---------------+\n",
       "| Los Angeles Lakers | Jared      | Dudley        |\n",
       "+--------------------+------------+---------------+\n",
       "| Los Angeles Lakers | Marc       | Gasol         |\n",
       "+--------------------+------------+---------------+\n",
       "| Los Angeles Lakers | Wesley     | Matthews      |\n",
       "+--------------------+------------+---------------+\n",
       "| Los Angeles Lakers | Markieff   | Morris        |\n",
       "+--------------------+------------+---------------+\n",
       "| Los Angeles Lakers | Anthony    | Davis         |\n",
       "+--------------------+------------+---------------+\n",
       "| Los Angeles Lakers | Dennis     | Schroder      |\n",
       "+--------------------+------------+---------------+\n",
       "| Los Angeles Lakers | Kentavious | Caldwell-Pope |\n",
       "+--------------------+------------+---------------+\n",
       "| Los Angeles Lakers | Montrezl   | Harrell       |\n",
       "+--------------------+------------+---------------+\n",
       "| Los Angeles Lakers | Quinn      | Cook          |\n",
       "+--------------------+------------+---------------+\n",
       "| Los Angeles Lakers | Alex       | Caruso        |\n",
       "+--------------------+------------+---------------+\n",
       "| Los Angeles Lakers | Alfonzo    | McKinnie      |\n",
       "+--------------------+------------+---------------+\n",
       "| Los Angeles Lakers | Kyle       | Kuzma         |\n",
       "+--------------------+------------+---------------+\n",
       "| Los Angeles Lakers | Kostas     | Antetokounmpo |\n",
       "+--------------------+------------+---------------+\n",
       "| Los Angeles Lakers | Talen      | Horton-Tucker |\n",
       "+--------------------+------------+---------------+\n",
       "| Los Angeles Lakers | Devontae   | Cacok         |\n",
       "+--------------------+------------+---------------+"
      ]
     },
     "execution_count": 14,
     "metadata": {},
     "output_type": "execute_result"
    }
   ],
   "source": [
    "-- 預設保留合併資料所交集的觀測值：洛杉磯湖人隊的隊伍與球員資料。\n",
    "SELECT teams.fullName,\n",
    "       players.firstName,\n",
    "       players.lastName\n",
    "  FROM (SELECT teamId,\n",
    "               fullName\n",
    "          FROM teams\n",
    "         WHERE nickname IN ('Lakers', 'Celtics')) AS teams -- 左表格是洛杉磯湖人隊與波士頓賽爾提克隊的隊伍資料\n",
    "  JOIN (SELECT firstName,\n",
    "               lastName,\n",
    "               teamId\n",
    "          FROM players\n",
    "         WHERE teamId IN (1610612747, 1610612755)) AS players -- 右表格是洛杉磯湖人隊與費城七六人隊的球員資料\n",
    "    ON teams.teamId = players.teamId;"
   ]
  },
  {
   "cell_type": "markdown",
   "id": "characteristic-telescope",
   "metadata": {
    "slideshow": {
     "slide_type": "subslide"
    }
   },
   "source": [
    "## 若是希望保留左表格為主的觀測值，改使用 `LEFT JOIN` 敘述\n",
    "\n",
    "```sql\n",
    "-- LEFT JOIN 敘述\n",
    "SELECT left_table.column_name,\n",
    "       right_table.column_name\n",
    "  FROM table_name AS left_table\n",
    "  LEFT JOIN table_name AS right_table\n",
    "    ON left_table.join_key = right_table.join_key;\n",
    "```"
   ]
  },
  {
   "cell_type": "code",
   "execution_count": 15,
   "id": "confidential-airline",
   "metadata": {
    "slideshow": {
     "slide_type": "subslide"
    }
   },
   "outputs": [
    {
     "data": {
      "text/html": [
       "<table>\n",
       "<tr>\n",
       "<th>fullName</th>\n",
       "<th>firstName</th>\n",
       "<th>lastName</th>\n",
       "</tr>\n",
       "<tr>\n",
       "<td>Boston Celtics</td>\n",
       "<td></td>\n",
       "<td></td>\n",
       "</tr>\n",
       "<tr>\n",
       "<td>Los Angeles Lakers</td>\n",
       "<td>Alex</td>\n",
       "<td>Caruso</td>\n",
       "</tr>\n",
       "<tr>\n",
       "<td>Los Angeles Lakers</td>\n",
       "<td>Alfonzo</td>\n",
       "<td>McKinnie</td>\n",
       "</tr>\n",
       "<tr>\n",
       "<td>Los Angeles Lakers</td>\n",
       "<td>Anthony</td>\n",
       "<td>Davis</td>\n",
       "</tr>\n",
       "<tr>\n",
       "<td>Los Angeles Lakers</td>\n",
       "<td>Dennis</td>\n",
       "<td>Schroder</td>\n",
       "</tr>\n",
       "<tr>\n",
       "<td>Los Angeles Lakers</td>\n",
       "<td>Devontae</td>\n",
       "<td>Cacok</td>\n",
       "</tr>\n",
       "<tr>\n",
       "<td>Los Angeles Lakers</td>\n",
       "<td>Jared</td>\n",
       "<td>Dudley</td>\n",
       "</tr>\n",
       "<tr>\n",
       "<td>Los Angeles Lakers</td>\n",
       "<td>Kentavious</td>\n",
       "<td>Caldwell-Pope</td>\n",
       "</tr>\n",
       "<tr>\n",
       "<td>Los Angeles Lakers</td>\n",
       "<td>Kostas</td>\n",
       "<td>Antetokounmpo</td>\n",
       "</tr>\n",
       "<tr>\n",
       "<td>Los Angeles Lakers</td>\n",
       "<td>Kyle</td>\n",
       "<td>Kuzma</td>\n",
       "</tr>\n",
       "<tr>\n",
       "<td>Los Angeles Lakers</td>\n",
       "<td>LeBron</td>\n",
       "<td>James</td>\n",
       "</tr>\n",
       "<tr>\n",
       "<td>Los Angeles Lakers</td>\n",
       "<td>Marc</td>\n",
       "<td>Gasol</td>\n",
       "</tr>\n",
       "<tr>\n",
       "<td>Los Angeles Lakers</td>\n",
       "<td>Markieff</td>\n",
       "<td>Morris</td>\n",
       "</tr>\n",
       "<tr>\n",
       "<td>Los Angeles Lakers</td>\n",
       "<td>Montrezl</td>\n",
       "<td>Harrell</td>\n",
       "</tr>\n",
       "<tr>\n",
       "<td>Los Angeles Lakers</td>\n",
       "<td>Quinn</td>\n",
       "<td>Cook</td>\n",
       "</tr>\n",
       "<tr>\n",
       "<td>Los Angeles Lakers</td>\n",
       "<td>Talen</td>\n",
       "<td>Horton-Tucker</td>\n",
       "</tr>\n",
       "<tr>\n",
       "<td>Los Angeles Lakers</td>\n",
       "<td>Wesley</td>\n",
       "<td>Matthews</td>\n",
       "</tr>\n",
       "</table>"
      ],
      "text/plain": [
       "+--------------------+------------+---------------+\n",
       "| fullName           | firstName  | lastName      |\n",
       "+--------------------+------------+---------------+\n",
       "| Boston Celtics     |            |               |\n",
       "+--------------------+------------+---------------+\n",
       "| Los Angeles Lakers | Alex       | Caruso        |\n",
       "+--------------------+------------+---------------+\n",
       "| Los Angeles Lakers | Alfonzo    | McKinnie      |\n",
       "+--------------------+------------+---------------+\n",
       "| Los Angeles Lakers | Anthony    | Davis         |\n",
       "+--------------------+------------+---------------+\n",
       "| Los Angeles Lakers | Dennis     | Schroder      |\n",
       "+--------------------+------------+---------------+\n",
       "| Los Angeles Lakers | Devontae   | Cacok         |\n",
       "+--------------------+------------+---------------+\n",
       "| Los Angeles Lakers | Jared      | Dudley        |\n",
       "+--------------------+------------+---------------+\n",
       "| Los Angeles Lakers | Kentavious | Caldwell-Pope |\n",
       "+--------------------+------------+---------------+\n",
       "| Los Angeles Lakers | Kostas     | Antetokounmpo |\n",
       "+--------------------+------------+---------------+\n",
       "| Los Angeles Lakers | Kyle       | Kuzma         |\n",
       "+--------------------+------------+---------------+\n",
       "| Los Angeles Lakers | LeBron     | James         |\n",
       "+--------------------+------------+---------------+\n",
       "| Los Angeles Lakers | Marc       | Gasol         |\n",
       "+--------------------+------------+---------------+\n",
       "| Los Angeles Lakers | Markieff   | Morris        |\n",
       "+--------------------+------------+---------------+\n",
       "| Los Angeles Lakers | Montrezl   | Harrell       |\n",
       "+--------------------+------------+---------------+\n",
       "| Los Angeles Lakers | Quinn      | Cook          |\n",
       "+--------------------+------------+---------------+\n",
       "| Los Angeles Lakers | Talen      | Horton-Tucker |\n",
       "+--------------------+------------+---------------+\n",
       "| Los Angeles Lakers | Wesley     | Matthews      |\n",
       "+--------------------+------------+---------------+"
      ]
     },
     "execution_count": 15,
     "metadata": {},
     "output_type": "execute_result"
    }
   ],
   "source": [
    "-- 預設保留左表格為主的觀測值：洛杉磯湖人隊與波士頓賽爾提克隊的隊伍資料、洛杉磯湖人隊的球員資料。\n",
    "SELECT teams.fullName,\n",
    "       players.firstName,\n",
    "       players.lastName\n",
    "  FROM (SELECT teamId,\n",
    "               fullName\n",
    "          FROM teams\n",
    "         WHERE nickname IN ('Lakers', 'Celtics')) AS teams -- 左表格是洛杉磯湖人隊與波士頓賽爾提克隊的隊伍資料\n",
    "  LEFT JOIN (SELECT firstName,\n",
    "                    lastName,\n",
    "                    teamId\n",
    "               FROM players\n",
    "              WHERE teamId IN (1610612747, 1610612755)) AS players -- 右表格是洛杉磯湖人隊與費城七六人隊的球員資料\n",
    "    ON teams.teamId = players.teamId;"
   ]
  },
  {
   "cell_type": "markdown",
   "id": "understanding-sudan",
   "metadata": {
    "slideshow": {
     "slide_type": "slide"
    }
   },
   "source": [
    "## 重點統整\n",
    "\n",
    "- 將查詢的範圍由「單個」資料來源延展至「多個」資料來源。\n",
    "    - 子查詢。\n",
    "    - 垂直合併：`UNION` 敘述與 `UNION ALL` 敘述。\n",
    "    - 水平合併：`JOIN` 敘述與 `LEFT JOIN` 敘述。"
   ]
  },
  {
   "cell_type": "markdown",
   "id": "employed-thousand",
   "metadata": {
    "slideshow": {
     "slide_type": "subslide"
    }
   },
   "source": [
    "## 目前我們會的 SQL\n",
    "\n",
    "```sql\n",
    "-- 可以在多個敘述後結合子查詢\n",
    "SELECT column_name\n",
    "  FROM table_name AS left_table\n",
    "  JOIN table_name AS right_table\n",
    "    ON left_table.join_key = right_table.join_key\n",
    " WHERE condition\n",
    " GROUP BY column_name\n",
    "HAVING condition\n",
    " UNION \n",
    "SELECT ... \n",
    "  FROM ...\n",
    " ORDER BY column_name\n",
    " LIMIT m;\n",
    "```"
   ]
  }
 ],
 "metadata": {
  "celltoolbar": "Slideshow",
  "kernelspec": {
   "display_name": "xsqlite",
   "language": "sqlite",
   "name": "xsqlite"
  },
  "language_info": {
   "file_extension": "",
   "mimetype": "",
   "name": "sqlite3",
   "version": "3.30.1"
  }
 },
 "nbformat": 4,
 "nbformat_minor": 5
}
