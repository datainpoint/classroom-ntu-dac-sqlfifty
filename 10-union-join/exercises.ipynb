{
 "cells": [
  {
   "cell_type": "markdown",
   "metadata": {
    "deletable": false,
    "editable": false
   },
   "source": [
    "# SQL 的五十道練習\n",
    "\n",
    "> 垂直與水平合併查詢結果 \n",
    "\n",
    "[數據交點](https://www.datainpoint.com) | 郭耀仁 <yaojenkuo@datainpoint.com>"
   ]
  },
  {
   "cell_type": "code",
   "execution_count": 1,
   "metadata": {
    "deletable": false,
    "editable": false
   },
   "outputs": [
    {
     "data": {
      "text/plain": [
       "<sqlite3.Cursor at 0x7fd7fe373650>"
      ]
     },
     "execution_count": 1,
     "metadata": {},
     "output_type": "execute_result"
    }
   ],
   "source": [
    "import sqlite3\n",
    "import unittest\n",
    "import numpy as np\n",
    "import pandas as pd\n",
    "conn = sqlite3.connect('../databases/nba.db')\n",
    "conn.execute(\"\"\"ATTACH '../databases/covid19.db' AS covid19\"\"\")\n",
    "conn.execute(\"\"\"ATTACH '../databases/twElection2020.db' AS twElection2020\"\"\")\n",
    "conn.execute(\"\"\"ATTACH '../databases/imdb.db' AS imdb\"\"\")"
   ]
  },
  {
   "cell_type": "markdown",
   "metadata": {},
   "source": [
    "## 結合 `twElection2020` 資料庫中的三個資料表：`legislative_at_large`、`legislative_regional` 與 `presidential` 查詢親民黨、中國國民黨與民主進步黨在總統副總統、不分區立委與區域立委的得票率，將得票率以 `ROUND()` 函數取至小數點後第四位，並且將查詢結果依衍生計算欄位 `election` 遞增排序。\n",
    "\n",
    "- 預期輸入：SQL 查詢語法。\n",
    "- 預期輸出：(9, 3) 的查詢結果。\n",
    "\n",
    "```\n",
    "   party election  votes_percentage\n",
    "0  中國國民黨    不分區立委            0.3336\n",
    "1  民主進步黨    不分區立委            0.3398\n",
    "2    親民黨    不分區立委            0.0366\n",
    "3  中國國民黨     區域立委            0.4071\n",
    "4  民主進步黨     區域立委            0.4511\n",
    "5    親民黨     區域立委            0.0043\n",
    "6  中國國民黨    總統副總統            0.3861\n",
    "7  民主進步黨    總統副總統            0.5713\n",
    "8    親民黨    總統副總統            0.0426\n",
    "```"
   ]
  },
  {
   "cell_type": "code",
   "execution_count": 2,
   "metadata": {},
   "outputs": [],
   "source": [
    "summarize_party_votes_percentages =\\\n",
    "\"\"\"\n",
    "-- SQL 查詢語法起點\n",
    "\n",
    "-- SQL 查詢語法終點\n",
    "\"\"\""
   ]
  },
  {
   "cell_type": "markdown",
   "metadata": {},
   "source": [
    "## 結合 `nba` 資料庫中的三個資料表：`career_summaries`、`players` 與 `teams` 查詢洛杉磯湖人隊球員的生涯場均得分 `ppg`，將查詢結果依 `ppg` 遞減排序。\n",
    "\n",
    "- 預期輸入：SQL 查詢語法。\n",
    "- 預期輸出：(16, 4) 的查詢結果。\n",
    "\n",
    "```\n",
    "              fullName   firstName       lastName   ppg\n",
    "0   Los Angeles Lakers      LeBron          James  27.0\n",
    "1   Los Angeles Lakers     Anthony          Davis  23.9\n",
    "2   Los Angeles Lakers        Kyle          Kuzma  15.5\n",
    "3   Los Angeles Lakers        Marc          Gasol  14.3\n",
    "4   Los Angeles Lakers      Dennis       Schroder  14.1\n",
    "5   Los Angeles Lakers      Wesley       Matthews  13.0\n",
    "6   Los Angeles Lakers    Montrezl        Harrell  12.7\n",
    "7   Los Angeles Lakers  Kentavious  Caldwell-Pope  11.5\n",
    "8   Los Angeles Lakers    Markieff         Morris  11.2\n",
    "9   Los Angeles Lakers       Jared         Dudley   7.4\n",
    "10  Los Angeles Lakers       Talen  Horton-Tucker   6.7\n",
    "11  Los Angeles Lakers       Quinn           Cook   6.5\n",
    "12  Los Angeles Lakers        Alex         Caruso   5.6\n",
    "13  Los Angeles Lakers     Alfonzo       McKinnie   4.1\n",
    "14  Los Angeles Lakers    Devontae          Cacok   4.0\n",
    "15  Los Angeles Lakers      Kostas  Antetokounmpo   1.1\n",
    "```"
   ]
  },
  {
   "cell_type": "code",
   "execution_count": 3,
   "metadata": {},
   "outputs": [],
   "source": [
    "list_lakers_players_ppg =\\\n",
    "\"\"\"\n",
    "-- SQL 查詢語法起點\n",
    "\n",
    "-- SQL 查詢語法終點\n",
    "\"\"\""
   ]
  },
  {
   "cell_type": "markdown",
   "metadata": {},
   "source": [
    "## 結合 `nba` 資料庫中的三個資料表：`career_summaries`、`players` 與 `teams` 查詢 30 支球隊的得分王（生涯場均得分 `ppg` 全隊最高），將查詢結果依隊伍名 `fullName` 排序。\n",
    "\n",
    "- 預期輸入：SQL 查詢語法。\n",
    "- 預期輸出：(30, 3) 的查詢結果。\n",
    "\n",
    "```\n",
    "                      team                   player   ppg\n",
    "0            Atlanta Hawks               Trae Young  24.0\n",
    "1           Boston Celtics             Kemba Walker  19.9\n",
    "2            Brooklyn Nets             Kevin Durant  27.1\n",
    "3        Charlotte Hornets           Gordon Hayward  15.5\n",
    "4            Chicago Bulls              Zach LaVine  18.1\n",
    "5      Cleveland Cavaliers            Collin Sexton  19.0\n",
    "6         Dallas Mavericks              Luka Doncic  25.0\n",
    "7           Denver Nuggets             Nikola Jokic  17.4\n",
    "8          Detroit Pistons            Blake Griffin  21.5\n",
    "9    Golden State Warriors            Stephen Curry  23.6\n",
    "10         Houston Rockets         DeMarcus Cousins  20.9\n",
    "11          Indiana Pacers              T.J. Warren  15.5\n",
    "12             LA Clippers              Paul George  20.1\n",
    "13      Los Angeles Lakers             LeBron James  27.0\n",
    "14       Memphis Grizzlies                Ja Morant  18.2\n",
    "15              Miami Heat             Jimmy Butler  17.0\n",
    "16         Milwaukee Bucks    Giannis Antetokounmpo  20.3\n",
    "17  Minnesota Timberwolves       Karl-Anthony Towns  22.7\n",
    "18    New Orleans Pelicans          Zion Williamson  23.1\n",
    "19         New York Knicks            Julius Randle  16.4\n",
    "20   Oklahoma City Thunder  Shai Gilgeous-Alexander  15.4\n",
    "21           Orlando Magic           Nikola Vucevic  16.3\n",
    "22      Philadelphia 76ers              Joel Embiid  24.3\n",
    "23            Phoenix Suns             Devin Booker  22.5\n",
    "24  Portland Trail Blazers           Damian Lillard  24.4\n",
    "25        Sacramento Kings             De'Aaron Fox  16.6\n",
    "26       San Antonio Spurs            DeMar DeRozan  20.0\n",
    "27         Toronto Raptors               Kyle Lowry  14.8\n",
    "28               Utah Jazz         Donovan Mitchell  22.7\n",
    "29      Washington Wizards        Russell Westbrook  23.2\n",
    "```"
   ]
  },
  {
   "cell_type": "code",
   "execution_count": 4,
   "metadata": {},
   "outputs": [],
   "source": [
    "list_ppg_leader_by_teams =\\\n",
    "\"\"\"\n",
    "-- SQL 查詢語法起點\n",
    "\n",
    "-- SQL 查詢語法終點\n",
    "\"\"\""
   ]
  },
  {
   "cell_type": "markdown",
   "metadata": {},
   "source": [
    "## 結合 `imdb` 資料庫中的三個資料表：`actors`、`casting` 與 `top_rated_movies` 查詢 Tom Hanks 在 IMDb 最高評價的 250 部電影中有在哪幾部演出，依據 `casting` 資料表中的 `ord` 註記是否為第一主角（`ord` 若為 1 表示為第一主角），將查詢結果依 `release_year` 遞增排序。\n",
    "\n",
    "- 預期輸入：SQL 查詢語法。\n",
    "- 預期輸出：(6, 5) 的查詢結果。\n",
    "\n",
    "```\n",
    "   release_year                title  rating       name  is_lead_actor\n",
    "0          1994         Forrest Gump     8.8  Tom Hanks              1\n",
    "1          1995            Toy Story     8.3  Tom Hanks              1\n",
    "2          1998  Saving Private Ryan     8.6  Tom Hanks              1\n",
    "3          1999       The Green Mile     8.6  Tom Hanks              1\n",
    "4          2002  Catch Me If You Can     8.1  Tom Hanks              0\n",
    "5          2010          Toy Story 3     8.2  Tom Hanks              1\n",
    "```"
   ]
  },
  {
   "cell_type": "code",
   "execution_count": 5,
   "metadata": {},
   "outputs": [],
   "source": [
    "list_movies_in_which_tom_hanks_appeared =\\\n",
    "\"\"\"\n",
    "-- SQL 查詢語法起點\n",
    "\n",
    "-- SQL 查詢語法終點\n",
    "\"\"\""
   ]
  },
  {
   "cell_type": "markdown",
   "metadata": {},
   "source": [
    "## 結合 `imdb` 資料庫中的三個資料表：`actors`、`casting` 與 `top_rated_movies` 查詢在 IMDb 最高評價的 250 部電影中有哪些作品是有 Leonardo DiCaprio 演出或由 Christopher Nolan 擔任導演，將查詢結果依 `release_year` 與 `title` 遞增排序。\n",
    "\n",
    "- 預期輸入：SQL 查詢語法。\n",
    "- 預期輸出：(12, 3) 的查詢結果。\n",
    "\n",
    "```\n",
    "    release_year                    title  rating\n",
    "0           2000                  Memento     8.4\n",
    "1           2002      Catch Me If You Can     8.1\n",
    "2           2005            Batman Begins     8.2\n",
    "3           2006             The Departed     8.5\n",
    "4           2006             The Prestige     8.5\n",
    "5           2008          The Dark Knight     9.0\n",
    "6           2010                Inception     8.8\n",
    "7           2010           Shutter Island     8.2\n",
    "8           2012         Django Unchained     8.4\n",
    "9           2012    The Dark Knight Rises     8.4\n",
    "10          2013  The Wolf of Wall Street     8.2\n",
    "11          2014             Interstellar     8.6\n",
    "```"
   ]
  },
  {
   "cell_type": "code",
   "execution_count": 6,
   "metadata": {},
   "outputs": [],
   "source": [
    "list_movies_with_dicaprio_or_nolan =\\\n",
    "\"\"\"\n",
    "-- SQL 查詢語法起點\n",
    "\n",
    "-- SQL 查詢語法終點\n",
    "\"\"\""
   ]
  },
  {
   "cell_type": "markdown",
   "metadata": {
    "deletable": false,
    "editable": false
   },
   "source": [
    "## 執行測試！\n",
    "\n",
    "Kernel -> Restart & Run All."
   ]
  },
  {
   "cell_type": "code",
   "execution_count": 7,
   "metadata": {
    "deletable": false,
    "editable": false
   },
   "outputs": [
    {
     "name": "stderr",
     "output_type": "stream",
     "text": [
      "test_list_lakers_players_ppg (__main__.TestUnionJoin) ... ERROR\n",
      "test_list_movies_in_which_tom_hanks_appeared (__main__.TestUnionJoin) ... ERROR\n",
      "test_list_movies_with_dicaprio_or_nolan (__main__.TestUnionJoin) ... ERROR\n",
      "test_list_ppg_leader_by_teams (__main__.TestUnionJoin) ... ERROR\n",
      "test_summarize_party_votes_percentages (__main__.TestUnionJoin) ... ERROR\n",
      "\n",
      "======================================================================\n",
      "ERROR: test_list_lakers_players_ppg (__main__.TestUnionJoin)\n",
      "----------------------------------------------------------------------\n",
      "Traceback (most recent call last):\n",
      "  File \"<ipython-input-7-7204e5bb4419>\", line 12, in test_list_lakers_players_ppg\n",
      "    lakers_players_ppg = pd.read_sql(list_lakers_players_ppg, conn)\n",
      "  File \"/Users/kuoyaojen/pyda/lib/python3.6/site-packages/pandas/io/sql.py\", line 489, in read_sql\n",
      "    chunksize=chunksize,\n",
      "  File \"/Users/kuoyaojen/pyda/lib/python3.6/site-packages/pandas/io/sql.py\", line 1728, in read_query\n",
      "    columns = [col_desc[0] for col_desc in cursor.description]\n",
      "TypeError: 'NoneType' object is not iterable\n",
      "\n",
      "======================================================================\n",
      "ERROR: test_list_movies_in_which_tom_hanks_appeared (__main__.TestUnionJoin)\n",
      "----------------------------------------------------------------------\n",
      "Traceback (most recent call last):\n",
      "  File \"<ipython-input-7-7204e5bb4419>\", line 34, in test_list_movies_in_which_tom_hanks_appeared\n",
      "    movies_in_which_tom_hanks_appeared = pd.read_sql(list_movies_in_which_tom_hanks_appeared, conn)\n",
      "  File \"/Users/kuoyaojen/pyda/lib/python3.6/site-packages/pandas/io/sql.py\", line 489, in read_sql\n",
      "    chunksize=chunksize,\n",
      "  File \"/Users/kuoyaojen/pyda/lib/python3.6/site-packages/pandas/io/sql.py\", line 1728, in read_query\n",
      "    columns = [col_desc[0] for col_desc in cursor.description]\n",
      "TypeError: 'NoneType' object is not iterable\n",
      "\n",
      "======================================================================\n",
      "ERROR: test_list_movies_with_dicaprio_or_nolan (__main__.TestUnionJoin)\n",
      "----------------------------------------------------------------------\n",
      "Traceback (most recent call last):\n",
      "  File \"<ipython-input-7-7204e5bb4419>\", line 43, in test_list_movies_with_dicaprio_or_nolan\n",
      "    movies_with_dicaprio_or_nolan = pd.read_sql(list_movies_with_dicaprio_or_nolan, conn)\n",
      "  File \"/Users/kuoyaojen/pyda/lib/python3.6/site-packages/pandas/io/sql.py\", line 489, in read_sql\n",
      "    chunksize=chunksize,\n",
      "  File \"/Users/kuoyaojen/pyda/lib/python3.6/site-packages/pandas/io/sql.py\", line 1728, in read_query\n",
      "    columns = [col_desc[0] for col_desc in cursor.description]\n",
      "TypeError: 'NoneType' object is not iterable\n",
      "\n",
      "======================================================================\n",
      "ERROR: test_list_ppg_leader_by_teams (__main__.TestUnionJoin)\n",
      "----------------------------------------------------------------------\n",
      "Traceback (most recent call last):\n",
      "  File \"<ipython-input-7-7204e5bb4419>\", line 23, in test_list_ppg_leader_by_teams\n",
      "    ppg_leader_by_teams = pd.read_sql(list_ppg_leader_by_teams, conn)\n",
      "  File \"/Users/kuoyaojen/pyda/lib/python3.6/site-packages/pandas/io/sql.py\", line 489, in read_sql\n",
      "    chunksize=chunksize,\n",
      "  File \"/Users/kuoyaojen/pyda/lib/python3.6/site-packages/pandas/io/sql.py\", line 1728, in read_query\n",
      "    columns = [col_desc[0] for col_desc in cursor.description]\n",
      "TypeError: 'NoneType' object is not iterable\n",
      "\n",
      "======================================================================\n",
      "ERROR: test_summarize_party_votes_percentages (__main__.TestUnionJoin)\n",
      "----------------------------------------------------------------------\n",
      "Traceback (most recent call last):\n",
      "  File \"<ipython-input-7-7204e5bb4419>\", line 3, in test_summarize_party_votes_percentages\n",
      "    party_votes_percentages = pd.read_sql(summarize_party_votes_percentages, conn)\n",
      "  File \"/Users/kuoyaojen/pyda/lib/python3.6/site-packages/pandas/io/sql.py\", line 489, in read_sql\n",
      "    chunksize=chunksize,\n",
      "  File \"/Users/kuoyaojen/pyda/lib/python3.6/site-packages/pandas/io/sql.py\", line 1728, in read_query\n",
      "    columns = [col_desc[0] for col_desc in cursor.description]\n",
      "TypeError: 'NoneType' object is not iterable\n",
      "\n",
      "----------------------------------------------------------------------\n",
      "Ran 5 tests in 0.117s\n",
      "\n",
      "FAILED (errors=5)\n"
     ]
    }
   ],
   "source": [
    "class TestUnionJoin(unittest.TestCase):\n",
    "    def test_summarize_party_votes_percentages(self):\n",
    "        party_votes_percentages = pd.read_sql(summarize_party_votes_percentages, conn)\n",
    "        self.assertEqual(party_votes_percentages.shape, (9, 3))\n",
    "        np.testing.assert_equal(party_votes_percentages['election'].values,\n",
    "                               np.array(['不分區立委', '不分區立委', '不分區立委', '區域立委', '區域立委', '區域立委', '總統副總統', '總統副總統', '總統副總統']))\n",
    "        np.testing.assert_equal(party_votes_percentages['party'].values,\n",
    "                               np.array(['中國國民黨', '民主進步黨', '親民黨', '中國國民黨', '民主進步黨', '親民黨', '中國國民黨', '民主進步黨', '親民黨']))\n",
    "        np.testing.assert_equal(party_votes_percentages['votes_percentage'].values,\n",
    "                               np.array([0.3336, 0.3398, 0.0366, 0.4071, 0.4511, 0.0043, 0.3861, 0.5713, 0.0426]))\n",
    "    def test_list_lakers_players_ppg(self):\n",
    "        lakers_players_ppg = pd.read_sql(list_lakers_players_ppg, conn)\n",
    "        self.assertEqual(lakers_players_ppg.shape, (16, 4))\n",
    "        np.testing.assert_equal(lakers_players_ppg['fullName'].unique(),\n",
    "                               np.array(['Los Angeles Lakers']))\n",
    "        np.testing.assert_equal(lakers_players_ppg['firstName'].values[:5],\n",
    "                               np.array(['LeBron', 'Anthony', 'Kyle', 'Marc', 'Dennis']))\n",
    "        np.testing.assert_equal(lakers_players_ppg['lastName'].values[:5],\n",
    "                               np.array(['James', 'Davis', 'Kuzma', 'Gasol', 'Schroder']))\n",
    "        np.testing.assert_equal(lakers_players_ppg['ppg'].values[:5],\n",
    "                               np.array([27.0, 23.9, 15.5, 14.3, 14.1]))\n",
    "    def test_list_ppg_leader_by_teams(self):\n",
    "        ppg_leader_by_teams = pd.read_sql(list_ppg_leader_by_teams, conn)\n",
    "        self.assertEqual(ppg_leader_by_teams.shape, (30, 3))\n",
    "        np.testing.assert_equal(ppg_leader_by_teams['player'].values[:3],\n",
    "                               np.array(['Trae Young', 'Kemba Walker', 'Kevin Durant']))\n",
    "        np.testing.assert_equal(ppg_leader_by_teams['player'].values[-3:],\n",
    "                               np.array(['Kyle Lowry', 'Donovan Mitchell', 'Russell Westbrook']))\n",
    "        np.testing.assert_equal(ppg_leader_by_teams['ppg'].values[:3],\n",
    "                               np.array([24.0, 19.9, 27.1]))\n",
    "        np.testing.assert_equal(ppg_leader_by_teams['ppg'].values[-3:],\n",
    "                               np.array([14.8, 22.7, 23.2]))\n",
    "    def test_list_movies_in_which_tom_hanks_appeared(self):\n",
    "        movies_in_which_tom_hanks_appeared = pd.read_sql(list_movies_in_which_tom_hanks_appeared, conn)\n",
    "        self.assertEqual(movies_in_which_tom_hanks_appeared.shape, (6, 5))\n",
    "        np.testing.assert_equal(movies_in_which_tom_hanks_appeared['release_year'].values,\n",
    "                               np.array([1994, 1995, 1998, 1999, 2002, 2010]))\n",
    "        np.testing.assert_equal(movies_in_which_tom_hanks_appeared['is_lead_actor'].values,\n",
    "                               np.array([1, 1, 1, 1, 0, 1]))\n",
    "        np.testing.assert_equal(movies_in_which_tom_hanks_appeared['title'].values,\n",
    "                               np.array(['Forrest Gump', 'Toy Story', 'Saving Private Ryan', 'The Green Mile', 'Catch Me If You Can', 'Toy Story 3']))\n",
    "    def test_list_movies_with_dicaprio_or_nolan(self):\n",
    "        movies_with_dicaprio_or_nolan = pd.read_sql(list_movies_with_dicaprio_or_nolan, conn)\n",
    "        self.assertEqual(movies_with_dicaprio_or_nolan.shape, (12, 3))\n",
    "        self.assertTrue(set(['The Dark Knight', 'Inception', 'The Wolf of Wall Street', 'Interstellar']).issubset(movies_with_dicaprio_or_nolan['title'].values))\n",
    "\n",
    "suite = unittest.TestLoader().loadTestsFromTestCase(TestUnionJoin)\n",
    "runner = unittest.TextTestRunner(verbosity=2)\n",
    "test_results = runner.run(suite)\n",
    "number_of_failures = len(test_results.failures)\n",
    "number_of_errors = len(test_results.errors)\n",
    "number_of_test_runs = test_results.testsRun\n",
    "number_of_successes = number_of_test_runs - (number_of_failures + number_of_errors)"
   ]
  },
  {
   "cell_type": "code",
   "execution_count": 8,
   "metadata": {
    "deletable": false,
    "editable": false
   },
   "outputs": [
    {
     "name": "stdout",
     "output_type": "stream",
     "text": [
      "您在 5 道 SQL 練習中答對了 0 題。\n"
     ]
    }
   ],
   "source": [
    "print(\"您在 {} 道 SQL 練習中答對了 {} 題。\".format(number_of_test_runs, number_of_successes))"
   ]
  }
 ],
 "metadata": {
  "kernelspec": {
   "display_name": "Python Data Analysis",
   "language": "python",
   "name": "pyda"
  },
  "language_info": {
   "codemirror_mode": {
    "name": "ipython",
    "version": 3
   },
   "file_extension": ".py",
   "mimetype": "text/x-python",
   "name": "python",
   "nbconvert_exporter": "python",
   "pygments_lexer": "ipython3",
   "version": "3.6.8"
  }
 },
 "nbformat": 4,
 "nbformat_minor": 4
}
