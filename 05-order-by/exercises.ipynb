{
 "cells": [
  {
   "cell_type": "markdown",
   "metadata": {
    "deletable": false,
    "editable": false
   },
   "source": [
    "# SQL 的五十道練習\n",
    "\n",
    "> 排序查詢結果\n",
    "\n",
    "郭耀仁 <yaojenkuo@datainpoint.com>，[數據交點](https://www.datainpoint.com)"
   ]
  },
  {
   "cell_type": "code",
   "execution_count": 1,
   "metadata": {
    "deletable": false,
    "editable": false
   },
   "outputs": [
    {
     "data": {
      "text/plain": [
       "<sqlite3.Cursor at 0x7f9cadb7b650>"
      ]
     },
     "execution_count": 1,
     "metadata": {},
     "output_type": "execute_result"
    }
   ],
   "source": [
    "import sqlite3\n",
    "import unittest\n",
    "import numpy as np\n",
    "import pandas as pd\n",
    "conn = sqlite3.connect('../databases/nba.db')\n",
    "conn.execute(\"\"\"ATTACH '../databases/covid19.db' AS covid19\"\"\")\n",
    "conn.execute(\"\"\"ATTACH '../databases/twElection2020.db' AS twElection2020\"\"\")\n",
    "conn.execute(\"\"\"ATTACH '../databases/imdb.db' AS imdb\"\"\")"
   ]
  },
  {
   "cell_type": "markdown",
   "metadata": {},
   "source": [
    "## 從新冠肺炎每日報告資料表 `daily_report` 中先依據 `Confirmed` 「遞增排序」，再依據 `Province_State`「遞增排序」，選擇 `Province_State`、`Country_Region` 與 `Confirmed` 三個欄位。\n",
    "\n",
    "- 預期輸入：SQL 查詢語法。\n",
    "- 預期輸出：(3979, 3) 的查詢結果。\n",
    "\n",
    "註：預期輸出所顯示的 `None` 等同於在 SQLiteStudio 介面的遺漏值（或稱空值）`NULL`。\n",
    "\n",
    "```\n",
    "     Province_State  Country_Region  Confirmed\n",
    "0           Alabama              US          0\n",
    "1           Alabama              US          0\n",
    "2            Alaska              US          0\n",
    "3           Arizona              US          0\n",
    "4           Arizona              US          0\n",
    "...             ...             ...        ...\n",
    "3974           None       Argentina    1927239\n",
    "3975    Maharashtra           India    2026399\n",
    "3976           None          Turkey    2477463\n",
    "3977           None          France    3186354\n",
    "3978        England  United Kingdom    3341249\n",
    "\n",
    "[3979 rows x 3 columns]\n",
    "```"
   ]
  },
  {
   "cell_type": "code",
   "execution_count": 2,
   "metadata": {},
   "outputs": [],
   "source": [
    "order_by_confirmed_province_state =\\\n",
    "\"\"\"\n",
    "-- SQL 查詢語法起點\n",
    "\n",
    "-- SQL 查詢語法終點\n",
    "\"\"\""
   ]
  },
  {
   "cell_type": "markdown",
   "metadata": {},
   "source": [
    "## 從新冠肺炎每日報告資料表 `daily_report` 中依據 `Confirmed` 「遞減排序」，選擇 `Province_State`、`Country_Region` 與 `Confirmed` 三個欄位，並顯示前 10 筆查詢結果。\n",
    "\n",
    "- 預期輸入：SQL 查詢語法。\n",
    "- 預期輸出：(10, 3) 的查詢結果。\n",
    "\n",
    "註：預期輸出所顯示的 `None` 等同於在 SQLiteStudio 介面的遺漏值（或稱空值）`NULL`。\n",
    "\n",
    "```\n",
    "  Province_State  Country_Region  Confirmed\n",
    "0        England  United Kingdom    3341249\n",
    "1           None          France    3186354\n",
    "2           None          Turkey    2477463\n",
    "3    Maharashtra           India    2026399\n",
    "4           None       Argentina    1927239\n",
    "5      Sao Paulo          Brazil    1777368\n",
    "6           None          Poland    1513385\n",
    "7           None    South Africa    1453761\n",
    "8           None            Iran    1417999\n",
    "9     California              US    1116948\n",
    "```"
   ]
  },
  {
   "cell_type": "code",
   "execution_count": 3,
   "metadata": {},
   "outputs": [],
   "source": [
    "order_by_confirmed_desc_limit_ten =\\\n",
    "\"\"\"\n",
    "-- SQL 查詢語法起點\n",
    "\n",
    "-- SQL 查詢語法終點\n",
    "\"\"\""
   ]
  },
  {
   "cell_type": "markdown",
   "metadata": {},
   "source": [
    "## 從 IMDb 最高評價的 250 部電影資料表 `top_rated_movies` 中先依據 `rating` 進行「遞減排序」、再依據 `release_year` 進行「遞增排序」，最後依據 `title` 「遞增排序」，選擇 `title`、`release_year` 與 `rating` 變數。\n",
    "\n",
    "- 預期輸入：SQL 查詢語法。\n",
    "- 預期輸出：(250, 3) 的查詢結果。\n",
    "\n",
    "```\n",
    "                          title  release_year  rating\n",
    "0      The Shawshank Redemption          1994     9.3\n",
    "1                 The Godfather          1972     9.2\n",
    "2                  12 Angry Men          1957     9.0\n",
    "3        The Godfather: Part II          1974     9.0\n",
    "4               The Dark Knight          2008     9.0\n",
    "..                          ...           ...     ...\n",
    "245              Ford v Ferrari          2019     8.1\n",
    "246  Portrait of a Lady on Fire          2019     8.1\n",
    "247                        Soul          2020     8.1\n",
    "248          The Princess Bride          1987     8.0\n",
    "249                    The Help          2011     8.0\n",
    "\n",
    "[250 rows x 3 columns]\n",
    "```"
   ]
  },
  {
   "cell_type": "code",
   "execution_count": 4,
   "metadata": {},
   "outputs": [],
   "source": [
    "order_by_rating_desc_release_year_asc_title_asc =\\\n",
    "\"\"\"\n",
    "-- SQL 查詢語法起點\n",
    "\n",
    "-- SQL 查詢語法終點\n",
    "\"\"\""
   ]
  },
  {
   "cell_type": "markdown",
   "metadata": {},
   "source": [
    "## 從球員的生涯攻守數據 `career_summaries` 資料表中先以 `NULLIF()` function 將 `assists` 欄位中的空字串轉為 `NULL`，命名為 `nullif_assists`，選擇 `personId` 與 `nullif_assists`，依據 `nullif_assists` 「遞減排序」顯示生涯總助攻數前 10 高的現役球員。\n",
    "\n",
    "- 預期輸入：SQL 查詢語法。\n",
    "- 預期輸出：(10, 2) 的查詢結果。\n",
    "\n",
    "註：查看 <https://sqlite.org/lang_corefunc.html#nullif> 來暸解 `NULLIF()` function 的使用方法。\n",
    "\n",
    "```\n",
    "   personId  nullif_assists\n",
    "0    101108            9809\n",
    "1      2544            9503\n",
    "2    201566            7402\n",
    "3    200765            7254\n",
    "4    200768            5774\n",
    "5    201935            5432\n",
    "6    202322            5346\n",
    "7      2738            4916\n",
    "8    201144            4840\n",
    "9    201939            4742\n",
    "```"
   ]
  },
  {
   "cell_type": "code",
   "execution_count": 5,
   "metadata": {},
   "outputs": [],
   "source": [
    "order_by_nullif_assists_desc_limit_ten =\\\n",
    "\"\"\"\n",
    "-- SQL 查詢語法起點\n",
    "\n",
    "-- SQL 查詢語法終點\n",
    "\"\"\""
   ]
  },
  {
   "cell_type": "markdown",
   "metadata": {
    "deletable": false,
    "editable": false
   },
   "source": [
    "## 執行測試！\n",
    "\n",
    "Kernel -> Restart & Run All."
   ]
  },
  {
   "cell_type": "code",
   "execution_count": 6,
   "metadata": {
    "deletable": false,
    "editable": false
   },
   "outputs": [
    {
     "name": "stderr",
     "output_type": "stream",
     "text": [
      "test_order_by_confirmed_desc_limit_ten (__main__.TestOrderBy) ... ERROR\n",
      "test_order_by_confirmed_province_state_asc (__main__.TestOrderBy) ... ERROR\n",
      "test_order_by_nullif_assists_desc_limit_ten (__main__.TestOrderBy) ... ERROR\n",
      "test_order_by_rating_desc_release_year_asc_title_asc (__main__.TestOrderBy) ... ERROR\n",
      "\n",
      "======================================================================\n",
      "ERROR: test_order_by_confirmed_desc_limit_ten (__main__.TestOrderBy)\n",
      "----------------------------------------------------------------------\n",
      "Traceback (most recent call last):\n",
      "  File \"<ipython-input-6-714b4022c3b1>\", line 12, in test_order_by_confirmed_desc_limit_ten\n",
      "    by_confirmed_desc_limit_ten = pd.read_sql(order_by_confirmed_desc_limit_ten, conn)\n",
      "  File \"/Users/kuoyaojen/pyda/lib/python3.6/site-packages/pandas/io/sql.py\", line 489, in read_sql\n",
      "    chunksize=chunksize,\n",
      "  File \"/Users/kuoyaojen/pyda/lib/python3.6/site-packages/pandas/io/sql.py\", line 1728, in read_query\n",
      "    columns = [col_desc[0] for col_desc in cursor.description]\n",
      "TypeError: 'NoneType' object is not iterable\n",
      "\n",
      "======================================================================\n",
      "ERROR: test_order_by_confirmed_province_state_asc (__main__.TestOrderBy)\n",
      "----------------------------------------------------------------------\n",
      "Traceback (most recent call last):\n",
      "  File \"<ipython-input-6-714b4022c3b1>\", line 3, in test_order_by_confirmed_province_state_asc\n",
      "    by_confirmed_province_state = pd.read_sql(order_by_confirmed_province_state, conn)\n",
      "  File \"/Users/kuoyaojen/pyda/lib/python3.6/site-packages/pandas/io/sql.py\", line 489, in read_sql\n",
      "    chunksize=chunksize,\n",
      "  File \"/Users/kuoyaojen/pyda/lib/python3.6/site-packages/pandas/io/sql.py\", line 1728, in read_query\n",
      "    columns = [col_desc[0] for col_desc in cursor.description]\n",
      "TypeError: 'NoneType' object is not iterable\n",
      "\n",
      "======================================================================\n",
      "ERROR: test_order_by_nullif_assists_desc_limit_ten (__main__.TestOrderBy)\n",
      "----------------------------------------------------------------------\n",
      "Traceback (most recent call last):\n",
      "  File \"<ipython-input-6-714b4022c3b1>\", line 28, in test_order_by_nullif_assists_desc_limit_ten\n",
      "    by_nullif_assists_desc_limit_ten = pd.read_sql(order_by_nullif_assists_desc_limit_ten, conn)\n",
      "  File \"/Users/kuoyaojen/pyda/lib/python3.6/site-packages/pandas/io/sql.py\", line 489, in read_sql\n",
      "    chunksize=chunksize,\n",
      "  File \"/Users/kuoyaojen/pyda/lib/python3.6/site-packages/pandas/io/sql.py\", line 1728, in read_query\n",
      "    columns = [col_desc[0] for col_desc in cursor.description]\n",
      "TypeError: 'NoneType' object is not iterable\n",
      "\n",
      "======================================================================\n",
      "ERROR: test_order_by_rating_desc_release_year_asc_title_asc (__main__.TestOrderBy)\n",
      "----------------------------------------------------------------------\n",
      "Traceback (most recent call last):\n",
      "  File \"<ipython-input-6-714b4022c3b1>\", line 17, in test_order_by_rating_desc_release_year_asc_title_asc\n",
      "    by_rating_desc_release_year_asc_title_asc = pd.read_sql(order_by_rating_desc_release_year_asc_title_asc, conn)\n",
      "  File \"/Users/kuoyaojen/pyda/lib/python3.6/site-packages/pandas/io/sql.py\", line 489, in read_sql\n",
      "    chunksize=chunksize,\n",
      "  File \"/Users/kuoyaojen/pyda/lib/python3.6/site-packages/pandas/io/sql.py\", line 1728, in read_query\n",
      "    columns = [col_desc[0] for col_desc in cursor.description]\n",
      "TypeError: 'NoneType' object is not iterable\n",
      "\n",
      "----------------------------------------------------------------------\n",
      "Ran 4 tests in 0.131s\n",
      "\n",
      "FAILED (errors=4)\n"
     ]
    }
   ],
   "source": [
    "class TestOrderBy(unittest.TestCase):\n",
    "    def test_order_by_confirmed_province_state_asc(self):\n",
    "        by_confirmed_province_state = pd.read_sql(order_by_confirmed_province_state, conn)\n",
    "        self.assertEqual(by_confirmed_province_state.shape, ((3979, 3)))\n",
    "        np.testing.assert_equal(by_confirmed_province_state['Confirmed'].values[:5],\n",
    "                               np.array([0, 0, 0, 0, 0]))\n",
    "        np.testing.assert_equal(by_confirmed_province_state['Country_Region'].values[:5],\n",
    "                               np.array(['US', 'US', 'US', 'US', 'US']))\n",
    "        np.testing.assert_equal(by_confirmed_province_state['Confirmed'].values[-5:],\n",
    "                               np.array([1927239, 2026399, 2477463, 3186354, 3341249]))\n",
    "    def test_order_by_confirmed_desc_limit_ten(self):\n",
    "        by_confirmed_desc_limit_ten = pd.read_sql(order_by_confirmed_desc_limit_ten, conn)\n",
    "        self.assertEqual(by_confirmed_desc_limit_ten.shape, ((10, 3)))\n",
    "        np.testing.assert_equal(by_confirmed_desc_limit_ten['Confirmed'].values,\n",
    "                               np.array([3341249, 3186354, 2477463, 2026399, 1927239, 1777368, 1513385, 1453761, 1417999, 1116948]))\n",
    "    def test_order_by_rating_desc_release_year_asc_title_asc(self):\n",
    "        by_rating_desc_release_year_asc_title_asc = pd.read_sql(order_by_rating_desc_release_year_asc_title_asc, conn)\n",
    "        self.assertEqual(by_rating_desc_release_year_asc_title_asc.shape, (250, 3))\n",
    "        np.testing.assert_equal(by_rating_desc_release_year_asc_title_asc['rating'].values[:5],\n",
    "                               np.array([9.3, 9.2, 9.0, 9.0, 9.0]))\n",
    "        np.testing.assert_equal(by_rating_desc_release_year_asc_title_asc['rating'].values[-5:],\n",
    "                               np.array([8.1, 8.1, 8.1, 8.0, 8.0]))\n",
    "        np.testing.assert_equal(by_rating_desc_release_year_asc_title_asc['release_year'].values[:5],\n",
    "                               np.array([1994, 1972, 1957, 1974, 2008]))\n",
    "        np.testing.assert_equal(by_rating_desc_release_year_asc_title_asc['release_year'].values[-5:],\n",
    "                               np.array([2019, 2019, 2020, 1987, 2011]))\n",
    "    def test_order_by_nullif_assists_desc_limit_ten(self):\n",
    "        by_nullif_assists_desc_limit_ten = pd.read_sql(order_by_nullif_assists_desc_limit_ten, conn)\n",
    "        self.assertEqual(by_nullif_assists_desc_limit_ten.shape, (10, 2))\n",
    "        np.testing.assert_equal(by_nullif_assists_desc_limit_ten['nullif_assists'].values,\n",
    "                               np.array([9809, 9503, 7402, 7254, 5774, 5432, 5346, 4916, 4840, 4742]))\n",
    "\n",
    "suite = unittest.TestLoader().loadTestsFromTestCase(TestOrderBy)\n",
    "runner = unittest.TextTestRunner(verbosity=2)\n",
    "test_results = runner.run(suite)\n",
    "number_of_failures = len(test_results.failures)\n",
    "number_of_errors = len(test_results.errors)\n",
    "number_of_test_runs = test_results.testsRun\n",
    "number_of_successes = number_of_test_runs - (number_of_failures + number_of_errors)"
   ]
  },
  {
   "cell_type": "code",
   "execution_count": 7,
   "metadata": {
    "deletable": false,
    "editable": false
   },
   "outputs": [
    {
     "name": "stdout",
     "output_type": "stream",
     "text": [
      "您在 4 道 SQL 練習中答對了 0 題。\n"
     ]
    }
   ],
   "source": [
    "print(\"您在 {} 道 SQL 練習中答對了 {} 題。\".format(number_of_test_runs, number_of_successes))"
   ]
  }
 ],
 "metadata": {
  "kernelspec": {
   "display_name": "Python Data Analysis",
   "language": "python",
   "name": "pyda"
  },
  "language_info": {
   "codemirror_mode": {
    "name": "ipython",
    "version": 3
   },
   "file_extension": ".py",
   "mimetype": "text/x-python",
   "name": "python",
   "nbconvert_exporter": "python",
   "pygments_lexer": "ipython3",
   "version": "3.6.8"
  }
 },
 "nbformat": 4,
 "nbformat_minor": 4
}
